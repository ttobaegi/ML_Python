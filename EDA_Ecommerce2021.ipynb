{
  "nbformat": 4,
  "nbformat_minor": 0,
  "metadata": {
    "colab": {
      "name": "EDA_Ecommerce2021.ipynb",
      "provenance": [],
      "collapsed_sections": [],
      "toc_visible": true,
      "authorship_tag": "ABX9TyOeHySiCLkG9Uuu6VCTm6ZP",
      "include_colab_link": true
    },
    "kernelspec": {
      "name": "python3",
      "display_name": "Python 3"
    }
  },
  "cells": [
    {
      "cell_type": "markdown",
      "metadata": {
        "id": "view-in-github",
        "colab_type": "text"
      },
      "source": [
        "<a href=\"https://colab.research.google.com/github/ttobaegi/ML_Python/blob/master/EDA_Ecommerce2021.ipynb\" target=\"_parent\"><img src=\"https://colab.research.google.com/assets/colab-badge.svg\" alt=\"Open In Colab\"/></a>"
      ]
    },
    {
      "cell_type": "code",
      "metadata": {
        "colab": {
          "base_uri": "https://localhost:8080/"
        },
        "id": "XCxZJO13Z171",
        "outputId": "d78d59f3-3de2-4ee1-f686-2179dfd9306e"
      },
      "source": [
        "# drive를 colab에 연결해서 데이터 로딩하기\n",
        "from google.colab import drive\n",
        "drive.mount('/content/drive')"
      ],
      "execution_count": 2,
      "outputs": [
        {
          "output_type": "stream",
          "text": [
            "Drive already mounted at /content/drive; to attempt to forcibly remount, call drive.mount(\"/content/drive\", force_remount=True).\n"
          ],
          "name": "stdout"
        }
      ]
    },
    {
      "cell_type": "code",
      "metadata": {
        "id": "E9c-TIAjePfO"
      },
      "source": [
        "import pandas as pd     # data preprocessing\n",
        "import numpy as np"
      ],
      "execution_count": 3,
      "outputs": []
    },
    {
      "cell_type": "code",
      "metadata": {
        "id": "wkgs5viRfRN4"
      },
      "source": [
        "import seaborn as sns\n",
        "import matplotlib.pyplot as plt\n",
        "from IPython.display import set_matplotlib_formats\n",
        "set_matplotlib_formats('retina')\n",
        "\n",
        "plt.style.use('seaborn-whitegrid')"
      ],
      "execution_count": 4,
      "outputs": []
    },
    {
      "cell_type": "markdown",
      "metadata": {
        "id": "EJa0sLy4Ot-O"
      },
      "source": [
        "# 파일 불러오기"
      ]
    },
    {
      "cell_type": "code",
      "metadata": {
        "id": "O9-56E75ePqi",
        "colab": {
          "base_uri": "https://localhost:8080/"
        },
        "outputId": "80a83680-e9f3-417d-cc16-af593fd4130e"
      },
      "source": [
        "master=pd.read_csv('/content/drive/MyDrive/Project_2021/master1.csv', sep=',')\n",
        "customer=pd.read_csv('/content/drive/MyDrive/Project_2021/Custom.csv', sep=',')\n",
        "search1=pd.read_csv('/content/drive/MyDrive/Project_2021/Search1.csv', sep=',')\n",
        "search2=pd.read_csv('/content/drive/MyDrive/Project_2021/Search2.csv', sep=',')\n",
        "session=pd.read_csv('/content/drive/MyDrive/Project_2021/Session.csv', sep=',')\n",
        "product=pd.read_csv('/content/drive/MyDrive/Project_2021/Product.csv', sep=',')\n",
        "indicator1=pd.read_csv('/content/drive/MyDrive/Project_2021/indicator1.csv', sep=',')"
      ],
      "execution_count": 5,
      "outputs": [
        {
          "output_type": "stream",
          "text": [
            "/usr/local/lib/python3.7/dist-packages/IPython/core/interactiveshell.py:2718: DtypeWarning: Columns (7) have mixed types.Specify dtype option on import or set low_memory=False.\n",
            "  interactivity=interactivity, compiler=compiler, result=result)\n"
          ],
          "name": "stderr"
        }
      ]
    },
    {
      "cell_type": "markdown",
      "metadata": {
        "id": "Foe3cKZMXWDR"
      },
      "source": [
        "# PreProcessing\n",
        "1. 컬럼명 소문자로 변경"
      ]
    },
    {
      "cell_type": "code",
      "metadata": {
        "id": "ee0k1cs1RUw_"
      },
      "source": [
        "#컬럼명 소문자로 변경\n",
        "session_col = session.columns\n",
        "search1_col = search1.columns\n",
        "search2_col = search2.columns\n",
        "customer_col = customer.columns\n",
        "master_col = master.columns\n",
        "product_col = product.columns\n",
        "\n",
        "cols = (session_col, search1_col, search2_col, customer_col, master_col, product_col)\n",
        "df = (session, search1, search2, customer, master, product)\n",
        "for i in range(0,6):\n",
        "  c_lower = []\n",
        "  for ii in cols[i] :\n",
        "    c_lower.append(ii.lower())\n",
        "  df[i].columns=c_lower"
      ],
      "execution_count": 6,
      "outputs": []
    },
    {
      "cell_type": "code",
      "metadata": {
        "colab": {
          "base_uri": "https://localhost:8080/"
        },
        "id": "YTHXpZlhVv-a",
        "outputId": "84635e02-5bb3-400a-9273-ac4925ddd90e"
      },
      "source": [
        "for i in range(0,6):\n",
        "  print(df[i].columns)"
      ],
      "execution_count": 7,
      "outputs": [
        {
          "output_type": "stream",
          "text": [
            "Index(['clnt_id', 'sess_id', 'sess_seq', 'sess_dt', 'tot_pag_view_ct',\n",
            "       'tot_sess_hr_v', 'dvc_ctg_nm', 'zon_nm', 'city_nm'],\n",
            "      dtype='object')\n",
            "Index(['clnt_id', 'sess_id', 'kwd_nm', 'search_cnt'], dtype='object')\n",
            "Index(['sess_dt', 'kwd_nm', 'search_cnt'], dtype='object')\n",
            "Index(['clnt_id', 'clnt_gender', 'clnt_age'], dtype='object')\n",
            "Index(['pd_c', 'pd_nm', 'clac1_nm', 'clac2_nm', 'clac3_nm'], dtype='object')\n",
            "Index(['clnt_id', 'sess_id', 'hits_seq', 'pd_c', 'pd_add_nm', 'pd_bra_nm',\n",
            "       'pd_buy_am', 'pd_buy_ct'],\n",
            "      dtype='object')\n"
          ],
          "name": "stdout"
        }
      ]
    },
    {
      "cell_type": "code",
      "metadata": {
        "colab": {
          "base_uri": "https://localhost:8080/"
        },
        "id": "3zMVbaczwbHK",
        "outputId": "44f931c5-f2be-419e-8eb3-b2d9b6c22f85"
      },
      "source": [
        "# any() > series df 모두 적용 가능\n",
        "# checks whether any value in the caller object is not 0 and returns True for that\n",
        "session.isnull().any()\n",
        "# tot_sesshr_v, tot_pag_view_ct 에 null값 존재"
      ],
      "execution_count": 8,
      "outputs": [
        {
          "output_type": "execute_result",
          "data": {
            "text/plain": [
              "clnt_id            False\n",
              "sess_id            False\n",
              "sess_seq           False\n",
              "sess_dt            False\n",
              "tot_pag_view_ct     True\n",
              "tot_sess_hr_v       True\n",
              "dvc_ctg_nm         False\n",
              "zon_nm             False\n",
              "city_nm            False\n",
              "dtype: bool"
            ]
          },
          "metadata": {
            "tags": []
          },
          "execution_count": 8
        }
      ]
    },
    {
      "cell_type": "code",
      "metadata": {
        "colab": {
          "base_uri": "https://localhost:8080/",
          "height": 80
        },
        "id": "4NIaQRYF8cTb",
        "outputId": "c9323ddc-62fc-4865-8c73-794096bbf14b"
      },
      "source": [
        "customer.head(1)"
      ],
      "execution_count": 24,
      "outputs": [
        {
          "output_type": "execute_result",
          "data": {
            "text/html": [
              "<div>\n",
              "<style scoped>\n",
              "    .dataframe tbody tr th:only-of-type {\n",
              "        vertical-align: middle;\n",
              "    }\n",
              "\n",
              "    .dataframe tbody tr th {\n",
              "        vertical-align: top;\n",
              "    }\n",
              "\n",
              "    .dataframe thead th {\n",
              "        text-align: right;\n",
              "    }\n",
              "</style>\n",
              "<table border=\"1\" class=\"dataframe\">\n",
              "  <thead>\n",
              "    <tr style=\"text-align: right;\">\n",
              "      <th></th>\n",
              "      <th>clnt_id</th>\n",
              "      <th>clnt_gender</th>\n",
              "      <th>clnt_age</th>\n",
              "    </tr>\n",
              "  </thead>\n",
              "  <tbody>\n",
              "    <tr>\n",
              "      <th>0</th>\n",
              "      <td>4830726</td>\n",
              "      <td>F</td>\n",
              "      <td>30</td>\n",
              "    </tr>\n",
              "  </tbody>\n",
              "</table>\n",
              "</div>"
            ],
            "text/plain": [
              "   clnt_id clnt_gender  clnt_age\n",
              "0  4830726           F        30"
            ]
          },
          "metadata": {
            "tags": []
          },
          "execution_count": 24
        }
      ]
    },
    {
      "cell_type": "code",
      "metadata": {
        "colab": {
          "base_uri": "https://localhost:8080/",
          "height": 80
        },
        "id": "SEj1O7vK3cet",
        "outputId": "79a35503-e404-438f-b428-bd60092d301d"
      },
      "source": [
        "master.head(1)  # Product 상세 정보 포함 (대분류 중분류 소분류 상품이름)"
      ],
      "execution_count": 25,
      "outputs": [
        {
          "output_type": "execute_result",
          "data": {
            "text/html": [
              "<div>\n",
              "<style scoped>\n",
              "    .dataframe tbody tr th:only-of-type {\n",
              "        vertical-align: middle;\n",
              "    }\n",
              "\n",
              "    .dataframe tbody tr th {\n",
              "        vertical-align: top;\n",
              "    }\n",
              "\n",
              "    .dataframe thead th {\n",
              "        text-align: right;\n",
              "    }\n",
              "</style>\n",
              "<table border=\"1\" class=\"dataframe\">\n",
              "  <thead>\n",
              "    <tr style=\"text-align: right;\">\n",
              "      <th></th>\n",
              "      <th>pd_c</th>\n",
              "      <th>pd_nm</th>\n",
              "      <th>clac1_nm</th>\n",
              "      <th>clac2_nm</th>\n",
              "      <th>clac3_nm</th>\n",
              "    </tr>\n",
              "  </thead>\n",
              "  <tbody>\n",
              "    <tr>\n",
              "      <th>0</th>\n",
              "      <td>64382</td>\n",
              "      <td>언더아머 남성 UA HG 아머 모크 LS 1289559-001 - 블랙 / MD[95]</td>\n",
              "      <td>스포츠패션</td>\n",
              "      <td>남성일반스포츠의류</td>\n",
              "      <td>남성스포츠티셔츠</td>\n",
              "    </tr>\n",
              "  </tbody>\n",
              "</table>\n",
              "</div>"
            ],
            "text/plain": [
              "    pd_c                                             pd_nm  ...   clac2_nm  clac3_nm\n",
              "0  64382  언더아머 남성 UA HG 아머 모크 LS 1289559-001 - 블랙 / MD[95]  ...  남성일반스포츠의류  남성스포츠티셔츠\n",
              "\n",
              "[1 rows x 5 columns]"
            ]
          },
          "metadata": {
            "tags": []
          },
          "execution_count": 25
        }
      ]
    },
    {
      "cell_type": "code",
      "metadata": {
        "colab": {
          "base_uri": "https://localhost:8080/"
        },
        "id": "D9cIvgqi6QCA",
        "outputId": "394e9ec7-69ad-48a4-d58d-46ffa34e25f8"
      },
      "source": [
        "print(product.info())\n",
        "print(session.info())"
      ],
      "execution_count": 45,
      "outputs": [
        {
          "output_type": "stream",
          "text": [
            "<class 'pandas.core.frame.DataFrame'>\n",
            "RangeIndex: 5024906 entries, 0 to 5024905\n",
            "Data columns (total 8 columns):\n",
            " #   Column     Dtype \n",
            "---  ------     ----- \n",
            " 0   clnt_id    int64 \n",
            " 1   sess_id    int64 \n",
            " 2   hits_seq   int64 \n",
            " 3   pd_c       int64 \n",
            " 4   pd_add_nm  object\n",
            " 5   pd_bra_nm  object\n",
            " 6   pd_buy_am  object\n",
            " 7   pd_buy_ct  object\n",
            "dtypes: int64(4), object(4)\n",
            "memory usage: 306.7+ MB\n",
            "None\n",
            "<class 'pandas.core.frame.DataFrame'>\n",
            "RangeIndex: 2712907 entries, 0 to 2712906\n",
            "Data columns (total 9 columns):\n",
            " #   Column           Dtype  \n",
            "---  ------           -----  \n",
            " 0   clnt_id          int64  \n",
            " 1   sess_id          int64  \n",
            " 2   sess_seq         int64  \n",
            " 3   sess_dt          int64  \n",
            " 4   tot_pag_view_ct  float64\n",
            " 5   tot_sess_hr_v    object \n",
            " 6   dvc_ctg_nm       object \n",
            " 7   zon_nm           object \n",
            " 8   city_nm          object \n",
            "dtypes: float64(1), int64(4), object(4)\n",
            "memory usage: 186.3+ MB\n",
            "None\n"
          ],
          "name": "stdout"
        }
      ]
    },
    {
      "cell_type": "code",
      "metadata": {
        "colab": {
          "base_uri": "https://localhost:8080/",
          "height": 80
        },
        "id": "GFjpO8ZWxNlX",
        "outputId": "34c182c2-26da-490d-812d-eeee91015932"
      },
      "source": [
        "product.head(1)"
      ],
      "execution_count": 27,
      "outputs": [
        {
          "output_type": "execute_result",
          "data": {
            "text/html": [
              "<div>\n",
              "<style scoped>\n",
              "    .dataframe tbody tr th:only-of-type {\n",
              "        vertical-align: middle;\n",
              "    }\n",
              "\n",
              "    .dataframe tbody tr th {\n",
              "        vertical-align: top;\n",
              "    }\n",
              "\n",
              "    .dataframe thead th {\n",
              "        text-align: right;\n",
              "    }\n",
              "</style>\n",
              "<table border=\"1\" class=\"dataframe\">\n",
              "  <thead>\n",
              "    <tr style=\"text-align: right;\">\n",
              "      <th></th>\n",
              "      <th>clnt_id</th>\n",
              "      <th>sess_id</th>\n",
              "      <th>hits_seq</th>\n",
              "      <th>pd_c</th>\n",
              "      <th>pd_add_nm</th>\n",
              "      <th>pd_bra_nm</th>\n",
              "      <th>pd_buy_am</th>\n",
              "      <th>pd_buy_ct</th>\n",
              "    </tr>\n",
              "  </thead>\n",
              "  <tbody>\n",
              "    <tr>\n",
              "      <th>0</th>\n",
              "      <td>4139680</td>\n",
              "      <td>7605037</td>\n",
              "      <td>12</td>\n",
              "      <td>642112</td>\n",
              "      <td>색상:워터멜론</td>\n",
              "      <td>[바비브라운]</td>\n",
              "      <td>39,000</td>\n",
              "      <td>1</td>\n",
              "    </tr>\n",
              "  </tbody>\n",
              "</table>\n",
              "</div>"
            ],
            "text/plain": [
              "   clnt_id  sess_id  hits_seq    pd_c pd_add_nm pd_bra_nm pd_buy_am pd_buy_ct\n",
              "0  4139680  7605037        12  642112   색상:워터멜론   [바비브라운]    39,000         1"
            ]
          },
          "metadata": {
            "tags": []
          },
          "execution_count": 27
        }
      ]
    },
    {
      "cell_type": "code",
      "metadata": {
        "colab": {
          "base_uri": "https://localhost:8080/",
          "height": 49
        },
        "id": "EST3m4nh0-3h",
        "outputId": "f64fc2b7-b801-4f04-b88c-4f4480ff9a09"
      },
      "source": [
        "# df[df['col'] 조건] 해당하는 열만 추출\n",
        "product[product['pd_buy_ct']==0]        "
      ],
      "execution_count": 28,
      "outputs": [
        {
          "output_type": "execute_result",
          "data": {
            "text/html": [
              "<div>\n",
              "<style scoped>\n",
              "    .dataframe tbody tr th:only-of-type {\n",
              "        vertical-align: middle;\n",
              "    }\n",
              "\n",
              "    .dataframe tbody tr th {\n",
              "        vertical-align: top;\n",
              "    }\n",
              "\n",
              "    .dataframe thead th {\n",
              "        text-align: right;\n",
              "    }\n",
              "</style>\n",
              "<table border=\"1\" class=\"dataframe\">\n",
              "  <thead>\n",
              "    <tr style=\"text-align: right;\">\n",
              "      <th></th>\n",
              "      <th>clnt_id</th>\n",
              "      <th>sess_id</th>\n",
              "      <th>hits_seq</th>\n",
              "      <th>pd_c</th>\n",
              "      <th>pd_add_nm</th>\n",
              "      <th>pd_bra_nm</th>\n",
              "      <th>pd_buy_am</th>\n",
              "      <th>pd_buy_ct</th>\n",
              "    </tr>\n",
              "  </thead>\n",
              "  <tbody>\n",
              "  </tbody>\n",
              "</table>\n",
              "</div>"
            ],
            "text/plain": [
              "Empty DataFrame\n",
              "Columns: [clnt_id, sess_id, hits_seq, pd_c, pd_add_nm, pd_bra_nm, pd_buy_am, pd_buy_ct]\n",
              "Index: []"
            ]
          },
          "metadata": {
            "tags": []
          },
          "execution_count": 28
        }
      ]
    },
    {
      "cell_type": "markdown",
      "metadata": {
        "id": "fGsuHoZo45_v"
      },
      "source": [
        "- product 테이블은 구매내역만 포함하고 있음 \n",
        "- Orders table 생성(Products, sessions, customer 정보)"
      ]
    },
    {
      "cell_type": "code",
      "metadata": {
        "colab": {
          "base_uri": "https://localhost:8080/"
        },
        "id": "MrW95JzVoFg9",
        "outputId": "7b73c669-4d97-4a39-d810-f6c58ba50a75"
      },
      "source": [
        "print(session.shape)\n",
        "print(product.shape)\n",
        "print(orders.shape)"
      ],
      "execution_count": 58,
      "outputs": [
        {
          "output_type": "stream",
          "text": [
            "(2712907, 9)\n",
            "(5024906, 8)\n",
            "(5024906, 14)\n"
          ],
          "name": "stdout"
        }
      ]
    },
    {
      "cell_type": "markdown",
      "metadata": {
        "id": "eUaLykR04OvK"
      },
      "source": [
        "###Orders 테이블 생성"
      ]
    },
    {
      "cell_type": "code",
      "metadata": {
        "colab": {
          "base_uri": "https://localhost:8080/",
          "height": 104
        },
        "id": "x8t5bmyWxNgZ",
        "outputId": "e18f0ce5-6d27-4cdd-8c40-652f4a5056b3"
      },
      "source": [
        "# left/right join : pd.merge(tables, left_on='key', right_on='key', how='left'|'right')\n",
        "# drop columns : df.drop(['col1','col2',...], axis=1)\n",
        "# rename column\n",
        "\n",
        "orders=pd.merge(product, session, left_on=('clnt_id','sess_id'), right_on=('clnt_id','sess_id'), how='left').drop(['pd_bra_nm'], axis=1)\n",
        "orders.head(2)"
      ],
      "execution_count": 9,
      "outputs": [
        {
          "output_type": "execute_result",
          "data": {
            "text/html": [
              "<div>\n",
              "<style scoped>\n",
              "    .dataframe tbody tr th:only-of-type {\n",
              "        vertical-align: middle;\n",
              "    }\n",
              "\n",
              "    .dataframe tbody tr th {\n",
              "        vertical-align: top;\n",
              "    }\n",
              "\n",
              "    .dataframe thead th {\n",
              "        text-align: right;\n",
              "    }\n",
              "</style>\n",
              "<table border=\"1\" class=\"dataframe\">\n",
              "  <thead>\n",
              "    <tr style=\"text-align: right;\">\n",
              "      <th></th>\n",
              "      <th>clnt_id</th>\n",
              "      <th>sess_id</th>\n",
              "      <th>hits_seq</th>\n",
              "      <th>pd_c</th>\n",
              "      <th>pd_add_nm</th>\n",
              "      <th>pd_buy_am</th>\n",
              "      <th>pd_buy_ct</th>\n",
              "      <th>sess_seq</th>\n",
              "      <th>sess_dt</th>\n",
              "      <th>tot_pag_view_ct</th>\n",
              "      <th>tot_sess_hr_v</th>\n",
              "      <th>dvc_ctg_nm</th>\n",
              "      <th>zon_nm</th>\n",
              "      <th>city_nm</th>\n",
              "    </tr>\n",
              "  </thead>\n",
              "  <tbody>\n",
              "    <tr>\n",
              "      <th>0</th>\n",
              "      <td>4139680</td>\n",
              "      <td>7605037</td>\n",
              "      <td>12</td>\n",
              "      <td>642112</td>\n",
              "      <td>색상:워터멜론</td>\n",
              "      <td>39,000</td>\n",
              "      <td>1</td>\n",
              "      <td>1</td>\n",
              "      <td>20180526</td>\n",
              "      <td>21.0</td>\n",
              "      <td>902</td>\n",
              "      <td>desktop</td>\n",
              "      <td>Seoul</td>\n",
              "      <td>Seoul</td>\n",
              "    </tr>\n",
              "    <tr>\n",
              "      <th>1</th>\n",
              "      <td>4140076</td>\n",
              "      <td>10189797</td>\n",
              "      <td>13</td>\n",
              "      <td>570603</td>\n",
              "      <td>색상:BLK0_(BLK0)BLACK|사이즈:120 / 2개</td>\n",
              "      <td>39,000</td>\n",
              "      <td>2</td>\n",
              "      <td>172</td>\n",
              "      <td>20180413</td>\n",
              "      <td>18.0</td>\n",
              "      <td>113</td>\n",
              "      <td>mobile</td>\n",
              "      <td>Gyeonggi-do</td>\n",
              "      <td>Icheon-si</td>\n",
              "    </tr>\n",
              "  </tbody>\n",
              "</table>\n",
              "</div>"
            ],
            "text/plain": [
              "   clnt_id   sess_id  hits_seq  ...  dvc_ctg_nm       zon_nm    city_nm\n",
              "0  4139680   7605037        12  ...     desktop        Seoul      Seoul\n",
              "1  4140076  10189797        13  ...      mobile  Gyeonggi-do  Icheon-si\n",
              "\n",
              "[2 rows x 14 columns]"
            ]
          },
          "metadata": {
            "tags": []
          },
          "execution_count": 9
        }
      ]
    },
    {
      "cell_type": "code",
      "metadata": {
        "colab": {
          "base_uri": "https://localhost:8080/"
        },
        "id": "uQo6wR1EnvgT",
        "outputId": "6fff69da-e611-4ed6-da4f-a89935cffba6"
      },
      "source": [
        "type(orders)"
      ],
      "execution_count": 53,
      "outputs": [
        {
          "output_type": "execute_result",
          "data": {
            "text/plain": [
              "pandas.core.frame.DataFrame"
            ]
          },
          "metadata": {
            "tags": []
          },
          "execution_count": 53
        }
      ]
    },
    {
      "cell_type": "code",
      "metadata": {
        "id": "7uIrYOvCxNcZ"
      },
      "source": [
        "orders=pd.merge(orders, master, left_on=\"pd_c\", right_on=\"pd_c\", how='left').drop(['pd_add_nm'], axis=1)\n",
        "orders.rename(columns={'clnt_id_x':'clnt_id'}, inplace=True) "
      ],
      "execution_count": 10,
      "outputs": []
    },
    {
      "cell_type": "code",
      "metadata": {
        "colab": {
          "base_uri": "https://localhost:8080/",
          "height": 171
        },
        "id": "w9sZwzs0xNU8",
        "outputId": "57a17095-4db2-46b1-ebb9-cfb8eccaff3b"
      },
      "source": [
        "orders=pd.merge(orders, customer, left_on=\"clnt_id\", right_on=\"clnt_id\", how='left')\n",
        "orders.head(2)"
      ],
      "execution_count": 11,
      "outputs": [
        {
          "output_type": "execute_result",
          "data": {
            "text/html": [
              "<div>\n",
              "<style scoped>\n",
              "    .dataframe tbody tr th:only-of-type {\n",
              "        vertical-align: middle;\n",
              "    }\n",
              "\n",
              "    .dataframe tbody tr th {\n",
              "        vertical-align: top;\n",
              "    }\n",
              "\n",
              "    .dataframe thead th {\n",
              "        text-align: right;\n",
              "    }\n",
              "</style>\n",
              "<table border=\"1\" class=\"dataframe\">\n",
              "  <thead>\n",
              "    <tr style=\"text-align: right;\">\n",
              "      <th></th>\n",
              "      <th>clnt_id</th>\n",
              "      <th>sess_id</th>\n",
              "      <th>hits_seq</th>\n",
              "      <th>pd_c</th>\n",
              "      <th>pd_buy_am</th>\n",
              "      <th>pd_buy_ct</th>\n",
              "      <th>sess_seq</th>\n",
              "      <th>sess_dt</th>\n",
              "      <th>tot_pag_view_ct</th>\n",
              "      <th>tot_sess_hr_v</th>\n",
              "      <th>dvc_ctg_nm</th>\n",
              "      <th>zon_nm</th>\n",
              "      <th>city_nm</th>\n",
              "      <th>pd_nm</th>\n",
              "      <th>clac1_nm</th>\n",
              "      <th>clac2_nm</th>\n",
              "      <th>clac3_nm</th>\n",
              "      <th>clnt_gender</th>\n",
              "      <th>clnt_age</th>\n",
              "    </tr>\n",
              "  </thead>\n",
              "  <tbody>\n",
              "    <tr>\n",
              "      <th>0</th>\n",
              "      <td>4139680</td>\n",
              "      <td>7605037</td>\n",
              "      <td>12</td>\n",
              "      <td>642112</td>\n",
              "      <td>39,000</td>\n",
              "      <td>1</td>\n",
              "      <td>1</td>\n",
              "      <td>20180526</td>\n",
              "      <td>21.0</td>\n",
              "      <td>902</td>\n",
              "      <td>desktop</td>\n",
              "      <td>Seoul</td>\n",
              "      <td>Seoul</td>\n",
              "      <td>크러쉬드 립칼라 - 플럼</td>\n",
              "      <td>화장품/뷰티케어</td>\n",
              "      <td>메이크업</td>\n",
              "      <td>블러셔/쉐이딩/하이라이터</td>\n",
              "      <td>NaN</td>\n",
              "      <td>NaN</td>\n",
              "    </tr>\n",
              "    <tr>\n",
              "      <th>1</th>\n",
              "      <td>4140076</td>\n",
              "      <td>10189797</td>\n",
              "      <td>13</td>\n",
              "      <td>570603</td>\n",
              "      <td>39,000</td>\n",
              "      <td>2</td>\n",
              "      <td>172</td>\n",
              "      <td>20180413</td>\n",
              "      <td>18.0</td>\n",
              "      <td>113</td>\n",
              "      <td>mobile</td>\n",
              "      <td>Gyeonggi-do</td>\n",
              "      <td>Icheon-si</td>\n",
              "      <td>[데상트] 스포츠베이직 빅로고 티셔츠 - DMGR_DMELANGE / 115</td>\n",
              "      <td>스포츠패션</td>\n",
              "      <td>남성일반스포츠의류</td>\n",
              "      <td>남성스포츠티셔츠</td>\n",
              "      <td>F</td>\n",
              "      <td>40.0</td>\n",
              "    </tr>\n",
              "  </tbody>\n",
              "</table>\n",
              "</div>"
            ],
            "text/plain": [
              "   clnt_id   sess_id  hits_seq  ...       clac3_nm clnt_gender clnt_age\n",
              "0  4139680   7605037        12  ...  블러셔/쉐이딩/하이라이터         NaN      NaN\n",
              "1  4140076  10189797        13  ...       남성스포츠티셔츠           F     40.0\n",
              "\n",
              "[2 rows x 19 columns]"
            ]
          },
          "metadata": {
            "tags": []
          },
          "execution_count": 11
        }
      ]
    },
    {
      "cell_type": "markdown",
      "metadata": {
        "id": "26bFHUwd9SBe"
      },
      "source": [
        "- clnt gender / age 정보비회원으로 구매한경우 NaN"
      ]
    },
    {
      "cell_type": "code",
      "metadata": {
        "colab": {
          "base_uri": "https://localhost:8080/",
          "height": 171
        },
        "id": "SonvYvfixNNO",
        "outputId": "be94185e-16f9-4ff9-e10e-dd2b90240aee"
      },
      "source": [
        "orders.head(2)"
      ],
      "execution_count": null,
      "outputs": [
        {
          "output_type": "execute_result",
          "data": {
            "text/html": [
              "<div>\n",
              "<style scoped>\n",
              "    .dataframe tbody tr th:only-of-type {\n",
              "        vertical-align: middle;\n",
              "    }\n",
              "\n",
              "    .dataframe tbody tr th {\n",
              "        vertical-align: top;\n",
              "    }\n",
              "\n",
              "    .dataframe thead th {\n",
              "        text-align: right;\n",
              "    }\n",
              "</style>\n",
              "<table border=\"1\" class=\"dataframe\">\n",
              "  <thead>\n",
              "    <tr style=\"text-align: right;\">\n",
              "      <th></th>\n",
              "      <th>clnt_id</th>\n",
              "      <th>sess_id</th>\n",
              "      <th>hits_seq</th>\n",
              "      <th>pd_c</th>\n",
              "      <th>pd_buy_am</th>\n",
              "      <th>pd_buy_ct</th>\n",
              "      <th>sess_seq</th>\n",
              "      <th>sess_dt</th>\n",
              "      <th>tot_pag_view_ct</th>\n",
              "      <th>tot_sess_hr_v</th>\n",
              "      <th>dvc_ctg_nm</th>\n",
              "      <th>zon_nm</th>\n",
              "      <th>city_nm</th>\n",
              "      <th>pd_nm</th>\n",
              "      <th>clac1_nm</th>\n",
              "      <th>clac2_nm</th>\n",
              "      <th>clac3_nm</th>\n",
              "      <th>clnt_gender</th>\n",
              "      <th>clnt_age</th>\n",
              "    </tr>\n",
              "  </thead>\n",
              "  <tbody>\n",
              "    <tr>\n",
              "      <th>0</th>\n",
              "      <td>4139680</td>\n",
              "      <td>7605037</td>\n",
              "      <td>12</td>\n",
              "      <td>642112</td>\n",
              "      <td>39,000</td>\n",
              "      <td>1</td>\n",
              "      <td>1</td>\n",
              "      <td>20180526</td>\n",
              "      <td>21.0</td>\n",
              "      <td>902</td>\n",
              "      <td>desktop</td>\n",
              "      <td>Seoul</td>\n",
              "      <td>Seoul</td>\n",
              "      <td>크러쉬드 립칼라 - 플럼</td>\n",
              "      <td>화장품/뷰티케어</td>\n",
              "      <td>메이크업</td>\n",
              "      <td>블러셔/쉐이딩/하이라이터</td>\n",
              "      <td>NaN</td>\n",
              "      <td>NaN</td>\n",
              "    </tr>\n",
              "    <tr>\n",
              "      <th>1</th>\n",
              "      <td>4140076</td>\n",
              "      <td>10189797</td>\n",
              "      <td>13</td>\n",
              "      <td>570603</td>\n",
              "      <td>39,000</td>\n",
              "      <td>2</td>\n",
              "      <td>172</td>\n",
              "      <td>20180413</td>\n",
              "      <td>18.0</td>\n",
              "      <td>113</td>\n",
              "      <td>mobile</td>\n",
              "      <td>Gyeonggi-do</td>\n",
              "      <td>Icheon-si</td>\n",
              "      <td>[데상트] 스포츠베이직 빅로고 티셔츠 - DMGR_DMELANGE / 115</td>\n",
              "      <td>스포츠패션</td>\n",
              "      <td>남성일반스포츠의류</td>\n",
              "      <td>남성스포츠티셔츠</td>\n",
              "      <td>F</td>\n",
              "      <td>40.0</td>\n",
              "    </tr>\n",
              "  </tbody>\n",
              "</table>\n",
              "</div>"
            ],
            "text/plain": [
              "   clnt_id   sess_id  hits_seq  ...       clac3_nm clnt_gender clnt_age\n",
              "0  4139680   7605037        12  ...  블러셔/쉐이딩/하이라이터         NaN      NaN\n",
              "1  4140076  10189797        13  ...       남성스포츠티셔츠           F     40.0\n",
              "\n",
              "[2 rows x 19 columns]"
            ]
          },
          "metadata": {
            "tags": []
          },
          "execution_count": 37
        }
      ]
    },
    {
      "cell_type": "code",
      "metadata": {
        "colab": {
          "base_uri": "https://localhost:8080/"
        },
        "id": "2VcgYhqYxM2R",
        "outputId": "537f7c13-3f6a-4a59-87e4-791d8a9e7101"
      },
      "source": [
        "np.isnan(orders.loc[0,'clnt_age'])"
      ],
      "execution_count": 73,
      "outputs": [
        {
          "output_type": "execute_result",
          "data": {
            "text/plain": [
              "True"
            ]
          },
          "metadata": {
            "tags": []
          },
          "execution_count": 73
        }
      ]
    },
    {
      "cell_type": "code",
      "metadata": {
        "colab": {
          "base_uri": "https://localhost:8080/"
        },
        "id": "BLuYzRJm-K7J",
        "outputId": "a44d8c3b-37ff-42d8-b707-347ddb9beedf"
      },
      "source": [
        "orders[np.isnan(orders['clnt_age'])==True].shape[0] / orders.shape[0] "
      ],
      "execution_count": 86,
      "outputs": [
        {
          "output_type": "execute_result",
          "data": {
            "text/plain": [
              "0.20623649477224051"
            ]
          },
          "metadata": {
            "tags": []
          },
          "execution_count": 86
        }
      ]
    },
    {
      "cell_type": "markdown",
      "metadata": {
        "id": "vy2foOuGyWMq"
      },
      "source": [
        "- 고객 성별/나이 정보 20% na"
      ]
    },
    {
      "cell_type": "code",
      "metadata": {
        "id": "NT8zBUDQ-LOT",
        "colab": {
          "base_uri": "https://localhost:8080/",
          "height": 415
        },
        "outputId": "8d70b903-55f3-475a-8c3e-74c5d66887d8"
      },
      "source": [
        "# sns.countplot 구간별 빈도수 > 분포파악에 용이\n",
        "plt.figure(figsize=(10,6))\n",
        "sns.countplot(data=orders.sort_values('clnt_age'), x='clnt_age', hue='clnt_gender' , palette='Blues_r').set_title('age distribution')"
      ],
      "execution_count": 98,
      "outputs": [
        {
          "output_type": "execute_result",
          "data": {
            "text/plain": [
              "Text(0.5, 1.0, 'age distribution')"
            ]
          },
          "metadata": {
            "tags": []
          },
          "execution_count": 98
        },
        {
          "output_type": "display_data",
          "data": {
            "image/png": "[encoded data removed]",
            "text/plain": [
              "<Figure size 720x432 with 1 Axes>"
            ]
          },
          "metadata": {
            "tags": [],
            "image/png": {
              "width": 603,
              "height": 381
            }
          }
        }
      ]
    },
    {
      "cell_type": "code",
      "metadata": {
        "id": "idvoQVtI-LaK",
        "colab": {
          "base_uri": "https://localhost:8080/",
          "height": 499
        },
        "outputId": "40d947e6-3cbb-4dce-92ae-2d6de7864b8e"
      },
      "source": [
        "plt.figure(figsize=(8,8))\n",
        "plt.legend()\n",
        "orders.clnt_age.value_counts().plot.pie(autopct='%.2f%%')"
      ],
      "execution_count": 97,
      "outputs": [
        {
          "output_type": "stream",
          "text": [
            "No handles with labels found to put in legend.\n"
          ],
          "name": "stderr"
        },
        {
          "output_type": "execute_result",
          "data": {
            "text/plain": [
              "<matplotlib.axes._subplots.AxesSubplot at 0x7fbb8bf6b910>"
            ]
          },
          "metadata": {
            "tags": []
          },
          "execution_count": 97
        },
        {
          "output_type": "display_data",
          "data": {
            "image/png": "[encoded data removed]",
            "text/plain": [
              "<Figure size 576x576 with 1 Axes>"
            ]
          },
          "metadata": {
            "tags": [],
            "image/png": {
              "width": 462,
              "height": 449
            }
          }
        }
      ]
    },
    {
      "cell_type": "markdown",
      "metadata": {
        "id": "3y0Js23czzUX"
      },
      "source": [
        "- 80%가 30-40대 여성 고객"
      ]
    },
    {
      "cell_type": "code",
      "metadata": {
        "colab": {
          "base_uri": "https://localhost:8080/"
        },
        "id": "2MT6w1Dy2sRR",
        "outputId": "454c04e0-69f5-4797-d467-092101f80e32"
      },
      "source": [
        "?str_replace()"
      ],
      "execution_count": 108,
      "outputs": [
        {
          "output_type": "stream",
          "text": [
            "Object `str_replace` not found.\n"
          ],
          "name": "stdout"
        }
      ]
    },
    {
      "cell_type": "code",
      "metadata": {
        "id": "M9CTXFee2hww"
      },
      "source": [
        "orders['pd_buy_am']=orders['pd_buy_am'].apply(lambda x : x.replace(\",\",\"\"))"
      ],
      "execution_count": 12,
      "outputs": []
    },
    {
      "cell_type": "code",
      "metadata": {
        "id": "g_2FEeVq3Ydd"
      },
      "source": [
        "orders['pd_buy_ct']=orders['pd_buy_ct'].apply(lambda x : str(x).replace(\",\",\"\"))"
      ],
      "execution_count": 13,
      "outputs": []
    },
    {
      "cell_type": "code",
      "metadata": {
        "id": "Dyv7XNbd-Lg_"
      },
      "source": [
        "orders['pd_buy_am'] = pd.to_numeric(orders['pd_buy_am'])\n",
        "orders['pd_buy_ct'] = pd.to_numeric(orders['pd_buy_ct'])\n",
        "orders['amount']= orders['pd_buy_am']*orders['pd_buy_ct']"
      ],
      "execution_count": 14,
      "outputs": []
    },
    {
      "cell_type": "code",
      "metadata": {
        "id": "158oTnFM-LlJ",
        "colab": {
          "base_uri": "https://localhost:8080/"
        },
        "outputId": "e17e58df-0b20-4b0b-d904-2afc66cfab02"
      },
      "source": [
        "orders.info()"
      ],
      "execution_count": 15,
      "outputs": [
        {
          "output_type": "stream",
          "text": [
            "<class 'pandas.core.frame.DataFrame'>\n",
            "Int64Index: 5024906 entries, 0 to 5024905\n",
            "Data columns (total 20 columns):\n",
            " #   Column           Dtype  \n",
            "---  ------           -----  \n",
            " 0   clnt_id          int64  \n",
            " 1   sess_id          int64  \n",
            " 2   hits_seq         int64  \n",
            " 3   pd_c             int64  \n",
            " 4   pd_buy_am        int64  \n",
            " 5   pd_buy_ct        int64  \n",
            " 6   sess_seq         int64  \n",
            " 7   sess_dt          int64  \n",
            " 8   tot_pag_view_ct  float64\n",
            " 9   tot_sess_hr_v    object \n",
            " 10  dvc_ctg_nm       object \n",
            " 11  zon_nm           object \n",
            " 12  city_nm          object \n",
            " 13  pd_nm            object \n",
            " 14  clac1_nm         object \n",
            " 15  clac2_nm         object \n",
            " 16  clac3_nm         object \n",
            " 17  clnt_gender      object \n",
            " 18  clnt_age         float64\n",
            " 19  amount           int64  \n",
            "dtypes: float64(2), int64(9), object(9)\n",
            "memory usage: 805.1+ MB\n"
          ],
          "name": "stdout"
        }
      ]
    },
    {
      "cell_type": "code",
      "metadata": {
        "id": "YpK5KPMB-LpO",
        "colab": {
          "base_uri": "https://localhost:8080/",
          "height": 92
        },
        "outputId": "746e790e-c963-4ef7-ff23-123ed5cde6c9"
      },
      "source": [
        "orders.head(1)"
      ],
      "execution_count": 16,
      "outputs": [
        {
          "output_type": "execute_result",
          "data": {
            "text/html": [
              "<div>\n",
              "<style scoped>\n",
              "    .dataframe tbody tr th:only-of-type {\n",
              "        vertical-align: middle;\n",
              "    }\n",
              "\n",
              "    .dataframe tbody tr th {\n",
              "        vertical-align: top;\n",
              "    }\n",
              "\n",
              "    .dataframe thead th {\n",
              "        text-align: right;\n",
              "    }\n",
              "</style>\n",
              "<table border=\"1\" class=\"dataframe\">\n",
              "  <thead>\n",
              "    <tr style=\"text-align: right;\">\n",
              "      <th></th>\n",
              "      <th>clnt_id</th>\n",
              "      <th>sess_id</th>\n",
              "      <th>hits_seq</th>\n",
              "      <th>pd_c</th>\n",
              "      <th>pd_buy_am</th>\n",
              "      <th>pd_buy_ct</th>\n",
              "      <th>sess_seq</th>\n",
              "      <th>sess_dt</th>\n",
              "      <th>tot_pag_view_ct</th>\n",
              "      <th>tot_sess_hr_v</th>\n",
              "      <th>dvc_ctg_nm</th>\n",
              "      <th>zon_nm</th>\n",
              "      <th>city_nm</th>\n",
              "      <th>pd_nm</th>\n",
              "      <th>clac1_nm</th>\n",
              "      <th>clac2_nm</th>\n",
              "      <th>clac3_nm</th>\n",
              "      <th>clnt_gender</th>\n",
              "      <th>clnt_age</th>\n",
              "      <th>amount</th>\n",
              "    </tr>\n",
              "  </thead>\n",
              "  <tbody>\n",
              "    <tr>\n",
              "      <th>0</th>\n",
              "      <td>4139680</td>\n",
              "      <td>7605037</td>\n",
              "      <td>12</td>\n",
              "      <td>642112</td>\n",
              "      <td>39000</td>\n",
              "      <td>1</td>\n",
              "      <td>1</td>\n",
              "      <td>20180526</td>\n",
              "      <td>21.0</td>\n",
              "      <td>902</td>\n",
              "      <td>desktop</td>\n",
              "      <td>Seoul</td>\n",
              "      <td>Seoul</td>\n",
              "      <td>크러쉬드 립칼라 - 플럼</td>\n",
              "      <td>화장품/뷰티케어</td>\n",
              "      <td>메이크업</td>\n",
              "      <td>블러셔/쉐이딩/하이라이터</td>\n",
              "      <td>NaN</td>\n",
              "      <td>NaN</td>\n",
              "      <td>39000</td>\n",
              "    </tr>\n",
              "  </tbody>\n",
              "</table>\n",
              "</div>"
            ],
            "text/plain": [
              "   clnt_id  sess_id  hits_seq  ...  clnt_gender  clnt_age  amount\n",
              "0  4139680  7605037        12  ...          NaN       NaN   39000\n",
              "\n",
              "[1 rows x 20 columns]"
            ]
          },
          "metadata": {
            "tags": []
          },
          "execution_count": 16
        }
      ]
    },
    {
      "cell_type": "code",
      "metadata": {
        "colab": {
          "base_uri": "https://localhost:8080/"
        },
        "id": "j0iXuJ32a8RP",
        "outputId": "80fe6f7d-c455-40b3-dc7e-93b5b6d0b6bf"
      },
      "source": [
        "session.info() \n"
      ],
      "execution_count": null,
      "outputs": [
        {
          "output_type": "stream",
          "text": [
            "<class 'pandas.core.frame.DataFrame'>\n",
            "RangeIndex: 2712907 entries, 0 to 2712906\n",
            "Data columns (total 9 columns):\n",
            " #   Column           Dtype  \n",
            "---  ------           -----  \n",
            " 0   clnt_id          int64  \n",
            " 1   sess_id          int64  \n",
            " 2   sess_seq         int64  \n",
            " 3   sess_dt          int64  \n",
            " 4   tot_pag_view_ct  float64\n",
            " 5   tot_sess_hr_v    object \n",
            " 6   dvc_ctg_nm       object \n",
            " 7   zon_nm           object \n",
            " 8   city_nm          object \n",
            "dtypes: float64(1), int64(4), object(4)\n",
            "memory usage: 186.3+ MB\n"
          ],
          "name": "stdout"
        }
      ]
    },
    {
      "cell_type": "code",
      "metadata": {
        "colab": {
          "base_uri": "https://localhost:8080/",
          "height": 277
        },
        "id": "exRZQEE1a8c-",
        "outputId": "5d804fa5-bae9-4b20-c39b-fdfbd62ba82b"
      },
      "source": [
        "# date 변수 변환 필요 \n",
        "pd.set_option('float_format','{:f}'.format)\n",
        "orders.describe()\n",
        "# 201804-201809 6개월 session 데이터 "
      ],
      "execution_count": 17,
      "outputs": [
        {
          "output_type": "execute_result",
          "data": {
            "text/html": [
              "<div>\n",
              "<style scoped>\n",
              "    .dataframe tbody tr th:only-of-type {\n",
              "        vertical-align: middle;\n",
              "    }\n",
              "\n",
              "    .dataframe tbody tr th {\n",
              "        vertical-align: top;\n",
              "    }\n",
              "\n",
              "    .dataframe thead th {\n",
              "        text-align: right;\n",
              "    }\n",
              "</style>\n",
              "<table border=\"1\" class=\"dataframe\">\n",
              "  <thead>\n",
              "    <tr style=\"text-align: right;\">\n",
              "      <th></th>\n",
              "      <th>clnt_id</th>\n",
              "      <th>sess_id</th>\n",
              "      <th>hits_seq</th>\n",
              "      <th>pd_c</th>\n",
              "      <th>pd_buy_am</th>\n",
              "      <th>pd_buy_ct</th>\n",
              "      <th>sess_seq</th>\n",
              "      <th>sess_dt</th>\n",
              "      <th>tot_pag_view_ct</th>\n",
              "      <th>clnt_age</th>\n",
              "      <th>amount</th>\n",
              "    </tr>\n",
              "  </thead>\n",
              "  <tbody>\n",
              "    <tr>\n",
              "      <th>count</th>\n",
              "      <td>5024906.000000</td>\n",
              "      <td>5024906.000000</td>\n",
              "      <td>5024906.000000</td>\n",
              "      <td>5024906.000000</td>\n",
              "      <td>5024906.000000</td>\n",
              "      <td>5024906.000000</td>\n",
              "      <td>5024906.000000</td>\n",
              "      <td>5024906.000000</td>\n",
              "      <td>5024471.000000</td>\n",
              "      <td>3988587.000000</td>\n",
              "      <td>5024906.000000</td>\n",
              "    </tr>\n",
              "    <tr>\n",
              "      <th>mean</th>\n",
              "      <td>3324520.849420</td>\n",
              "      <td>5837411.044871</td>\n",
              "      <td>81.256312</td>\n",
              "      <td>463471.785379</td>\n",
              "      <td>51349.451774</td>\n",
              "      <td>1.177831</td>\n",
              "      <td>175.176498</td>\n",
              "      <td>20180646.329176</td>\n",
              "      <td>101.384904</td>\n",
              "      <td>34.605445</td>\n",
              "      <td>54089.341401</td>\n",
              "    </tr>\n",
              "    <tr>\n",
              "      <th>std</th>\n",
              "      <td>1915823.350749</td>\n",
              "      <td>3100257.821417</td>\n",
              "      <td>85.935808</td>\n",
              "      <td>243665.364048</td>\n",
              "      <td>117383.569660</td>\n",
              "      <td>3.072546</td>\n",
              "      <td>293.938292</td>\n",
              "      <td>166.568550</td>\n",
              "      <td>101.842985</td>\n",
              "      <td>8.030898</td>\n",
              "      <td>127671.250949</td>\n",
              "    </tr>\n",
              "    <tr>\n",
              "      <th>min</th>\n",
              "      <td>8.000000</td>\n",
              "      <td>26.000000</td>\n",
              "      <td>1.000000</td>\n",
              "      <td>1.000000</td>\n",
              "      <td>10.000000</td>\n",
              "      <td>1.000000</td>\n",
              "      <td>1.000000</td>\n",
              "      <td>20180401.000000</td>\n",
              "      <td>1.000000</td>\n",
              "      <td>10.000000</td>\n",
              "      <td>10.000000</td>\n",
              "    </tr>\n",
              "    <tr>\n",
              "      <th>25%</th>\n",
              "      <td>1661354.000000</td>\n",
              "      <td>3261247.000000</td>\n",
              "      <td>24.000000</td>\n",
              "      <td>263175.250000</td>\n",
              "      <td>12900.000000</td>\n",
              "      <td>1.000000</td>\n",
              "      <td>11.000000</td>\n",
              "      <td>20180512.000000</td>\n",
              "      <td>31.000000</td>\n",
              "      <td>30.000000</td>\n",
              "      <td>14000.000000</td>\n",
              "    </tr>\n",
              "    <tr>\n",
              "      <th>50%</th>\n",
              "      <td>3326272.000000</td>\n",
              "      <td>6046903.500000</td>\n",
              "      <td>50.000000</td>\n",
              "      <td>474085.000000</td>\n",
              "      <td>28000.000000</td>\n",
              "      <td>1.000000</td>\n",
              "      <td>55.000000</td>\n",
              "      <td>20180621.000000</td>\n",
              "      <td>65.000000</td>\n",
              "      <td>30.000000</td>\n",
              "      <td>29000.000000</td>\n",
              "    </tr>\n",
              "    <tr>\n",
              "      <th>75%</th>\n",
              "      <td>4992865.000000</td>\n",
              "      <td>8467387.000000</td>\n",
              "      <td>104.000000</td>\n",
              "      <td>684450.000000</td>\n",
              "      <td>49900.000000</td>\n",
              "      <td>1.000000</td>\n",
              "      <td>209.000000</td>\n",
              "      <td>20180806.000000</td>\n",
              "      <td>133.000000</td>\n",
              "      <td>40.000000</td>\n",
              "      <td>53000.000000</td>\n",
              "    </tr>\n",
              "    <tr>\n",
              "      <th>max</th>\n",
              "      <td>6592554.000000</td>\n",
              "      <td>10977941.000000</td>\n",
              "      <td>500.000000</td>\n",
              "      <td>847652.000000</td>\n",
              "      <td>17779000.000000</td>\n",
              "      <td>1440.000000</td>\n",
              "      <td>7020.000000</td>\n",
              "      <td>20180930.000000</td>\n",
              "      <td>499.000000</td>\n",
              "      <td>80.000000</td>\n",
              "      <td>39000000.000000</td>\n",
              "    </tr>\n",
              "  </tbody>\n",
              "</table>\n",
              "</div>"
            ],
            "text/plain": [
              "             clnt_id         sess_id  ...       clnt_age          amount\n",
              "count 5024906.000000  5024906.000000  ... 3988587.000000  5024906.000000\n",
              "mean  3324520.849420  5837411.044871  ...      34.605445    54089.341401\n",
              "std   1915823.350749  3100257.821417  ...       8.030898   127671.250949\n",
              "min         8.000000       26.000000  ...      10.000000       10.000000\n",
              "25%   1661354.000000  3261247.000000  ...      30.000000    14000.000000\n",
              "50%   3326272.000000  6046903.500000  ...      30.000000    29000.000000\n",
              "75%   4992865.000000  8467387.000000  ...      40.000000    53000.000000\n",
              "max   6592554.000000 10977941.000000  ...      80.000000 39000000.000000\n",
              "\n",
              "[8 rows x 11 columns]"
            ]
          },
          "metadata": {
            "tags": []
          },
          "execution_count": 17
        }
      ]
    },
    {
      "cell_type": "code",
      "metadata": {
        "colab": {
          "base_uri": "https://localhost:8080/",
          "height": 277
        },
        "id": "3aDigTeFqisL",
        "outputId": "24aa32a1-91f5-4178-9e01-d8e98d705c49"
      },
      "source": [
        "# date변수 str 변환 > apply lambda\n",
        "orders['sess_dt']=orders['sess_dt'].apply(lambda s : str(s)[0:10])"
      ],
      "execution_count": 18,
      "outputs": [
        {
          "output_type": "execute_result",
          "data": {
            "text/html": [
              "<div>\n",
              "<style scoped>\n",
              "    .dataframe tbody tr th:only-of-type {\n",
              "        vertical-align: middle;\n",
              "    }\n",
              "\n",
              "    .dataframe tbody tr th {\n",
              "        vertical-align: top;\n",
              "    }\n",
              "\n",
              "    .dataframe thead th {\n",
              "        text-align: right;\n",
              "    }\n",
              "</style>\n",
              "<table border=\"1\" class=\"dataframe\">\n",
              "  <thead>\n",
              "    <tr style=\"text-align: right;\">\n",
              "      <th></th>\n",
              "      <th>clnt_id</th>\n",
              "      <th>sess_id</th>\n",
              "      <th>hits_seq</th>\n",
              "      <th>pd_c</th>\n",
              "      <th>pd_buy_am</th>\n",
              "      <th>pd_buy_ct</th>\n",
              "      <th>sess_seq</th>\n",
              "      <th>tot_pag_view_ct</th>\n",
              "      <th>clnt_age</th>\n",
              "      <th>amount</th>\n",
              "    </tr>\n",
              "  </thead>\n",
              "  <tbody>\n",
              "    <tr>\n",
              "      <th>count</th>\n",
              "      <td>5024906.000000</td>\n",
              "      <td>5024906.000000</td>\n",
              "      <td>5024906.000000</td>\n",
              "      <td>5024906.000000</td>\n",
              "      <td>5024906.000000</td>\n",
              "      <td>5024906.000000</td>\n",
              "      <td>5024906.000000</td>\n",
              "      <td>5024471.000000</td>\n",
              "      <td>3988587.000000</td>\n",
              "      <td>5024906.000000</td>\n",
              "    </tr>\n",
              "    <tr>\n",
              "      <th>mean</th>\n",
              "      <td>3324520.849420</td>\n",
              "      <td>5837411.044871</td>\n",
              "      <td>81.256312</td>\n",
              "      <td>463471.785379</td>\n",
              "      <td>51349.451774</td>\n",
              "      <td>1.177831</td>\n",
              "      <td>175.176498</td>\n",
              "      <td>101.384904</td>\n",
              "      <td>34.605445</td>\n",
              "      <td>54089.341401</td>\n",
              "    </tr>\n",
              "    <tr>\n",
              "      <th>std</th>\n",
              "      <td>1915823.350749</td>\n",
              "      <td>3100257.821417</td>\n",
              "      <td>85.935808</td>\n",
              "      <td>243665.364048</td>\n",
              "      <td>117383.569660</td>\n",
              "      <td>3.072546</td>\n",
              "      <td>293.938292</td>\n",
              "      <td>101.842985</td>\n",
              "      <td>8.030898</td>\n",
              "      <td>127671.250949</td>\n",
              "    </tr>\n",
              "    <tr>\n",
              "      <th>min</th>\n",
              "      <td>8.000000</td>\n",
              "      <td>26.000000</td>\n",
              "      <td>1.000000</td>\n",
              "      <td>1.000000</td>\n",
              "      <td>10.000000</td>\n",
              "      <td>1.000000</td>\n",
              "      <td>1.000000</td>\n",
              "      <td>1.000000</td>\n",
              "      <td>10.000000</td>\n",
              "      <td>10.000000</td>\n",
              "    </tr>\n",
              "    <tr>\n",
              "      <th>25%</th>\n",
              "      <td>1661354.000000</td>\n",
              "      <td>3261247.000000</td>\n",
              "      <td>24.000000</td>\n",
              "      <td>263175.250000</td>\n",
              "      <td>12900.000000</td>\n",
              "      <td>1.000000</td>\n",
              "      <td>11.000000</td>\n",
              "      <td>31.000000</td>\n",
              "      <td>30.000000</td>\n",
              "      <td>14000.000000</td>\n",
              "    </tr>\n",
              "    <tr>\n",
              "      <th>50%</th>\n",
              "      <td>3326272.000000</td>\n",
              "      <td>6046903.500000</td>\n",
              "      <td>50.000000</td>\n",
              "      <td>474085.000000</td>\n",
              "      <td>28000.000000</td>\n",
              "      <td>1.000000</td>\n",
              "      <td>55.000000</td>\n",
              "      <td>65.000000</td>\n",
              "      <td>30.000000</td>\n",
              "      <td>29000.000000</td>\n",
              "    </tr>\n",
              "    <tr>\n",
              "      <th>75%</th>\n",
              "      <td>4992865.000000</td>\n",
              "      <td>8467387.000000</td>\n",
              "      <td>104.000000</td>\n",
              "      <td>684450.000000</td>\n",
              "      <td>49900.000000</td>\n",
              "      <td>1.000000</td>\n",
              "      <td>209.000000</td>\n",
              "      <td>133.000000</td>\n",
              "      <td>40.000000</td>\n",
              "      <td>53000.000000</td>\n",
              "    </tr>\n",
              "    <tr>\n",
              "      <th>max</th>\n",
              "      <td>6592554.000000</td>\n",
              "      <td>10977941.000000</td>\n",
              "      <td>500.000000</td>\n",
              "      <td>847652.000000</td>\n",
              "      <td>17779000.000000</td>\n",
              "      <td>1440.000000</td>\n",
              "      <td>7020.000000</td>\n",
              "      <td>499.000000</td>\n",
              "      <td>80.000000</td>\n",
              "      <td>39000000.000000</td>\n",
              "    </tr>\n",
              "  </tbody>\n",
              "</table>\n",
              "</div>"
            ],
            "text/plain": [
              "             clnt_id         sess_id  ...       clnt_age          amount\n",
              "count 5024906.000000  5024906.000000  ... 3988587.000000  5024906.000000\n",
              "mean  3324520.849420  5837411.044871  ...      34.605445    54089.341401\n",
              "std   1915823.350749  3100257.821417  ...       8.030898   127671.250949\n",
              "min         8.000000       26.000000  ...      10.000000       10.000000\n",
              "25%   1661354.000000  3261247.000000  ...      30.000000    14000.000000\n",
              "50%   3326272.000000  6046903.500000  ...      30.000000    29000.000000\n",
              "75%   4992865.000000  8467387.000000  ...      40.000000    53000.000000\n",
              "max   6592554.000000 10977941.000000  ...      80.000000 39000000.000000\n",
              "\n",
              "[8 rows x 10 columns]"
            ]
          },
          "metadata": {
            "tags": []
          },
          "execution_count": 18
        }
      ]
    },
    {
      "cell_type": "code",
      "metadata": {
        "colab": {
          "base_uri": "https://localhost:8080/"
        },
        "id": "QaB4z5066DsY",
        "outputId": "eeea38b1-5b7a-44bf-9926-5b62e51d9da7"
      },
      "source": [
        "print(orders['sess_dt'].min() +\"~\" + orders['sess_dt'].max() )"
      ],
      "execution_count": 27,
      "outputs": [
        {
          "output_type": "stream",
          "text": [
            "20180401~20180930\n"
          ],
          "name": "stdout"
        }
      ]
    },
    {
      "cell_type": "code",
      "metadata": {
        "id": "LFjhHf6t7bOr"
      },
      "source": [
        "import datetime"
      ],
      "execution_count": 28,
      "outputs": []
    },
    {
      "cell_type": "code",
      "metadata": {
        "colab": {
          "base_uri": "https://localhost:8080/",
          "height": 271
        },
        "id": "SZ78-wLD7iKV",
        "outputId": "f1975b60-ede4-46b7-8e66-d5e4e3e7e24c"
      },
      "source": [
        "orders['sess_dt'].apply(lambda x: datetime.datetime(x).weekday())"
      ],
      "execution_count": 33,
      "outputs": [
        {
          "output_type": "error",
          "ename": "TypeError",
          "evalue": "ignored",
          "traceback": [
            "\u001b[0;31m---------------------------------------------------------------------------\u001b[0m",
            "\u001b[0;31mTypeError\u001b[0m                                 Traceback (most recent call last)",
            "\u001b[0;32m<ipython-input-33-8f45e566be22>\u001b[0m in \u001b[0;36m<module>\u001b[0;34m()\u001b[0m\n\u001b[0;32m----> 1\u001b[0;31m \u001b[0morders\u001b[0m\u001b[0;34m[\u001b[0m\u001b[0;34m'sess_dt'\u001b[0m\u001b[0;34m]\u001b[0m\u001b[0;34m.\u001b[0m\u001b[0mapply\u001b[0m\u001b[0;34m(\u001b[0m\u001b[0;32mlambda\u001b[0m \u001b[0mx\u001b[0m\u001b[0;34m:\u001b[0m \u001b[0mdatetime\u001b[0m\u001b[0;34m.\u001b[0m\u001b[0mdatetime\u001b[0m\u001b[0;34m(\u001b[0m\u001b[0mx\u001b[0m\u001b[0;34m)\u001b[0m\u001b[0;34m.\u001b[0m\u001b[0mweekday\u001b[0m\u001b[0;34m(\u001b[0m\u001b[0;34m)\u001b[0m\u001b[0;34m)\u001b[0m\u001b[0;34m\u001b[0m\u001b[0;34m\u001b[0m\u001b[0m\n\u001b[0m",
            "\u001b[0;32m/usr/local/lib/python3.7/dist-packages/pandas/core/series.py\u001b[0m in \u001b[0;36mapply\u001b[0;34m(self, func, convert_dtype, args, **kwds)\u001b[0m\n\u001b[1;32m   4211\u001b[0m             \u001b[0;32melse\u001b[0m\u001b[0;34m:\u001b[0m\u001b[0;34m\u001b[0m\u001b[0;34m\u001b[0m\u001b[0m\n\u001b[1;32m   4212\u001b[0m                 \u001b[0mvalues\u001b[0m \u001b[0;34m=\u001b[0m \u001b[0mself\u001b[0m\u001b[0;34m.\u001b[0m\u001b[0mastype\u001b[0m\u001b[0;34m(\u001b[0m\u001b[0mobject\u001b[0m\u001b[0;34m)\u001b[0m\u001b[0;34m.\u001b[0m\u001b[0m_values\u001b[0m\u001b[0;34m\u001b[0m\u001b[0;34m\u001b[0m\u001b[0m\n\u001b[0;32m-> 4213\u001b[0;31m                 \u001b[0mmapped\u001b[0m \u001b[0;34m=\u001b[0m \u001b[0mlib\u001b[0m\u001b[0;34m.\u001b[0m\u001b[0mmap_infer\u001b[0m\u001b[0;34m(\u001b[0m\u001b[0mvalues\u001b[0m\u001b[0;34m,\u001b[0m \u001b[0mf\u001b[0m\u001b[0;34m,\u001b[0m \u001b[0mconvert\u001b[0m\u001b[0;34m=\u001b[0m\u001b[0mconvert_dtype\u001b[0m\u001b[0;34m)\u001b[0m\u001b[0;34m\u001b[0m\u001b[0;34m\u001b[0m\u001b[0m\n\u001b[0m\u001b[1;32m   4214\u001b[0m \u001b[0;34m\u001b[0m\u001b[0m\n\u001b[1;32m   4215\u001b[0m         \u001b[0;32mif\u001b[0m \u001b[0mlen\u001b[0m\u001b[0;34m(\u001b[0m\u001b[0mmapped\u001b[0m\u001b[0;34m)\u001b[0m \u001b[0;32mand\u001b[0m \u001b[0misinstance\u001b[0m\u001b[0;34m(\u001b[0m\u001b[0mmapped\u001b[0m\u001b[0;34m[\u001b[0m\u001b[0;36m0\u001b[0m\u001b[0;34m]\u001b[0m\u001b[0;34m,\u001b[0m \u001b[0mSeries\u001b[0m\u001b[0;34m)\u001b[0m\u001b[0;34m:\u001b[0m\u001b[0;34m\u001b[0m\u001b[0;34m\u001b[0m\u001b[0m\n",
            "\u001b[0;32mpandas/_libs/lib.pyx\u001b[0m in \u001b[0;36mpandas._libs.lib.map_infer\u001b[0;34m()\u001b[0m\n",
            "\u001b[0;32m<ipython-input-33-8f45e566be22>\u001b[0m in \u001b[0;36m<lambda>\u001b[0;34m(x)\u001b[0m\n\u001b[0;32m----> 1\u001b[0;31m \u001b[0morders\u001b[0m\u001b[0;34m[\u001b[0m\u001b[0;34m'sess_dt'\u001b[0m\u001b[0;34m]\u001b[0m\u001b[0;34m.\u001b[0m\u001b[0mapply\u001b[0m\u001b[0;34m(\u001b[0m\u001b[0;32mlambda\u001b[0m \u001b[0mx\u001b[0m\u001b[0;34m:\u001b[0m \u001b[0mdatetime\u001b[0m\u001b[0;34m.\u001b[0m\u001b[0mdatetime\u001b[0m\u001b[0;34m(\u001b[0m\u001b[0mx\u001b[0m\u001b[0;34m)\u001b[0m\u001b[0;34m.\u001b[0m\u001b[0mweekday\u001b[0m\u001b[0;34m(\u001b[0m\u001b[0;34m)\u001b[0m\u001b[0;34m)\u001b[0m\u001b[0;34m\u001b[0m\u001b[0;34m\u001b[0m\u001b[0m\n\u001b[0m",
            "\u001b[0;31mTypeError\u001b[0m: an integer is required (got type str)"
          ]
        }
      ]
    },
    {
      "cell_type": "code",
      "metadata": {
        "id": "iHh8IW047iC_"
      },
      "source": [
        ""
      ],
      "execution_count": null,
      "outputs": []
    },
    {
      "cell_type": "code",
      "metadata": {
        "id": "izYDrw2G7h-H"
      },
      "source": [
        ""
      ],
      "execution_count": null,
      "outputs": []
    },
    {
      "cell_type": "code",
      "metadata": {
        "id": "SLQOvHMz7h7j"
      },
      "source": [
        ""
      ],
      "execution_count": null,
      "outputs": []
    },
    {
      "cell_type": "code",
      "metadata": {
        "colab": {
          "base_uri": "https://localhost:8080/"
        },
        "id": "yXjit4eS6Yyu",
        "outputId": "e7640511-63e6-404b-a401-5522a37294c3"
      },
      "source": [
        "orders['month']=orders['sess_dt'].apply(lambda x: x[4:6])\n",
        "orders['day']=orders['sess_dt'].apply(lambda x: x[4:6])\n"
      ],
      "execution_count": 26,
      "outputs": [
        {
          "output_type": "execute_result",
          "data": {
            "text/plain": [
              "0          05\n",
              "1          04\n",
              "2          06\n",
              "3          05\n",
              "4          06\n",
              "           ..\n",
              "5024901    04\n",
              "5024902    06\n",
              "5024903    05\n",
              "5024904    07\n",
              "5024905    05\n",
              "Name: sess_dt, Length: 5024906, dtype: object"
            ]
          },
          "metadata": {
            "tags": []
          },
          "execution_count": 26
        }
      ]
    },
    {
      "cell_type": "markdown",
      "metadata": {
        "id": "Z57KMjbMO7rt"
      },
      "source": [
        "# EDA Tasks\n"
      ]
    },
    {
      "cell_type": "markdown",
      "metadata": {
        "id": "NCwFcHW25JGp"
      },
      "source": [
        "###1. Check the target variable: Amount of attrition.\n",
        "\n",
        "\n"
      ]
    },
    {
      "cell_type": "code",
      "metadata": {
        "id": "x6dyK30wHNfj"
      },
      "source": [
        ""
      ],
      "execution_count": null,
      "outputs": []
    },
    {
      "cell_type": "code",
      "metadata": {
        "id": "DlhxsEOY5LOv"
      },
      "source": [
        "orders.sort_values(by='sess_dt', ascending = False).groupby('clnt_id')['sess_dt']-orders.sort_values(by='sess_dt', ascending = False).groupby('clnt_id')['sess_dt'].shift(1)"
      ],
      "execution_count": null,
      "outputs": []
    },
    {
      "cell_type": "markdown",
      "metadata": {
        "id": "gL3VRUSWPA4s"
      },
      "source": [
        "\n",
        "###2. Check the demographic variables: CUSTOMERRELATED\n",
        "  * Age vs attrition.\n",
        "  * Gender vs churn.\n",
        "  * Number of dependents vs churn.\n",
        "  * Education level vs churn.\n",
        "  * Marital status vs churn.\n",
        "  * Income category vs churn.\n",
        "\n"
      ]
    },
    {
      "cell_type": "code",
      "metadata": {
        "id": "8mKQBORJ45d6"
      },
      "source": [
        ""
      ],
      "execution_count": null,
      "outputs": []
    },
    {
      "cell_type": "code",
      "metadata": {
        "colab": {
          "base_uri": "https://localhost:8080/"
        },
        "id": "cc4IYD52fqlV",
        "outputId": "b835963c-5906-435c-dd8d-f9513f9837de"
      },
      "source": [
        "master.shape"
      ],
      "execution_count": null,
      "outputs": [
        {
          "output_type": "execute_result",
          "data": {
            "text/plain": [
              "(847634, 5)"
            ]
          },
          "metadata": {
            "tags": []
          },
          "execution_count": 13
        }
      ]
    },
    {
      "cell_type": "code",
      "metadata": {
        "colab": {
          "base_uri": "https://localhost:8080/",
          "height": 80
        },
        "id": "PpmDMGKtePy7",
        "outputId": "c212d9f8-ae34-463e-d5d5-d4b6cef8cae2"
      },
      "source": [
        "master.head(1)"
      ],
      "execution_count": null,
      "outputs": [
        {
          "output_type": "execute_result",
          "data": {
            "text/html": [
              "<div>\n",
              "<style scoped>\n",
              "    .dataframe tbody tr th:only-of-type {\n",
              "        vertical-align: middle;\n",
              "    }\n",
              "\n",
              "    .dataframe tbody tr th {\n",
              "        vertical-align: top;\n",
              "    }\n",
              "\n",
              "    .dataframe thead th {\n",
              "        text-align: right;\n",
              "    }\n",
              "</style>\n",
              "<table border=\"1\" class=\"dataframe\">\n",
              "  <thead>\n",
              "    <tr style=\"text-align: right;\">\n",
              "      <th></th>\n",
              "      <th>pd_c</th>\n",
              "      <th>pd_nm</th>\n",
              "      <th>clac1_nm</th>\n",
              "      <th>clac2_nm</th>\n",
              "      <th>clac3_nm</th>\n",
              "    </tr>\n",
              "  </thead>\n",
              "  <tbody>\n",
              "    <tr>\n",
              "      <th>0</th>\n",
              "      <td>64382</td>\n",
              "      <td>언더아머 남성 UA HG 아머 모크 LS 1289559-001 - 블랙 / MD[95]</td>\n",
              "      <td>스포츠패션</td>\n",
              "      <td>남성일반스포츠의류</td>\n",
              "      <td>남성스포츠티셔츠</td>\n",
              "    </tr>\n",
              "  </tbody>\n",
              "</table>\n",
              "</div>"
            ],
            "text/plain": [
              "    pd_c                                             pd_nm  ...   clac2_nm  clac3_nm\n",
              "0  64382  언더아머 남성 UA HG 아머 모크 LS 1289559-001 - 블랙 / MD[95]  ...  남성일반스포츠의류  남성스포츠티셔츠\n",
              "\n",
              "[1 rows x 5 columns]"
            ]
          },
          "metadata": {
            "tags": []
          },
          "execution_count": 14
        }
      ]
    },
    {
      "cell_type": "code",
      "metadata": {
        "colab": {
          "base_uri": "https://localhost:8080/",
          "height": 80
        },
        "id": "otgcZMe5Np_A",
        "outputId": "a3c4a670-d1b7-4780-d117-c37f4388781d"
      },
      "source": [
        "customer.head(1)"
      ],
      "execution_count": null,
      "outputs": [
        {
          "output_type": "execute_result",
          "data": {
            "text/html": [
              "<div>\n",
              "<style scoped>\n",
              "    .dataframe tbody tr th:only-of-type {\n",
              "        vertical-align: middle;\n",
              "    }\n",
              "\n",
              "    .dataframe tbody tr th {\n",
              "        vertical-align: top;\n",
              "    }\n",
              "\n",
              "    .dataframe thead th {\n",
              "        text-align: right;\n",
              "    }\n",
              "</style>\n",
              "<table border=\"1\" class=\"dataframe\">\n",
              "  <thead>\n",
              "    <tr style=\"text-align: right;\">\n",
              "      <th></th>\n",
              "      <th>CLNT_ID</th>\n",
              "      <th>CLNT_GENDER</th>\n",
              "      <th>CLNT_AGE</th>\n",
              "    </tr>\n",
              "  </thead>\n",
              "  <tbody>\n",
              "    <tr>\n",
              "      <th>0</th>\n",
              "      <td>4830726</td>\n",
              "      <td>F</td>\n",
              "      <td>30</td>\n",
              "    </tr>\n",
              "  </tbody>\n",
              "</table>\n",
              "</div>"
            ],
            "text/plain": [
              "   CLNT_ID CLNT_GENDER  CLNT_AGE\n",
              "0  4830726           F        30"
            ]
          },
          "metadata": {
            "tags": []
          },
          "execution_count": 15
        }
      ]
    },
    {
      "cell_type": "code",
      "metadata": {
        "colab": {
          "base_uri": "https://localhost:8080/",
          "height": 80
        },
        "id": "RrDkxYRjNqDK",
        "outputId": "09885ffa-f469-433b-8064-48d25c730429"
      },
      "source": [
        "search1.head(1)"
      ],
      "execution_count": null,
      "outputs": [
        {
          "output_type": "execute_result",
          "data": {
            "text/html": [
              "<div>\n",
              "<style scoped>\n",
              "    .dataframe tbody tr th:only-of-type {\n",
              "        vertical-align: middle;\n",
              "    }\n",
              "\n",
              "    .dataframe tbody tr th {\n",
              "        vertical-align: top;\n",
              "    }\n",
              "\n",
              "    .dataframe thead th {\n",
              "        text-align: right;\n",
              "    }\n",
              "</style>\n",
              "<table border=\"1\" class=\"dataframe\">\n",
              "  <thead>\n",
              "    <tr style=\"text-align: right;\">\n",
              "      <th></th>\n",
              "      <th>CLNT_ID</th>\n",
              "      <th>SESS_ID</th>\n",
              "      <th>KWD_NM</th>\n",
              "      <th>SEARCH_CNT</th>\n",
              "    </tr>\n",
              "  </thead>\n",
              "  <tbody>\n",
              "    <tr>\n",
              "      <th>0</th>\n",
              "      <td>5607714</td>\n",
              "      <td>7112876</td>\n",
              "      <td>빌리프 아이크림</td>\n",
              "      <td>6</td>\n",
              "    </tr>\n",
              "  </tbody>\n",
              "</table>\n",
              "</div>"
            ],
            "text/plain": [
              "   CLNT_ID  SESS_ID    KWD_NM  SEARCH_CNT\n",
              "0  5607714  7112876  빌리프 아이크림           6"
            ]
          },
          "metadata": {
            "tags": []
          },
          "execution_count": 16
        }
      ]
    },
    {
      "cell_type": "code",
      "metadata": {
        "colab": {
          "base_uri": "https://localhost:8080/",
          "height": 80
        },
        "id": "NSaV0INTNqF6",
        "outputId": "dac2978e-5a79-4c9f-ed64-b23aa1d6a3a0"
      },
      "source": [
        "search2.head(1)"
      ],
      "execution_count": null,
      "outputs": [
        {
          "output_type": "execute_result",
          "data": {
            "text/html": [
              "<div>\n",
              "<style scoped>\n",
              "    .dataframe tbody tr th:only-of-type {\n",
              "        vertical-align: middle;\n",
              "    }\n",
              "\n",
              "    .dataframe tbody tr th {\n",
              "        vertical-align: top;\n",
              "    }\n",
              "\n",
              "    .dataframe thead th {\n",
              "        text-align: right;\n",
              "    }\n",
              "</style>\n",
              "<table border=\"1\" class=\"dataframe\">\n",
              "  <thead>\n",
              "    <tr style=\"text-align: right;\">\n",
              "      <th></th>\n",
              "      <th>SESS_DT</th>\n",
              "      <th>KWD_NM</th>\n",
              "      <th>SEARCH_CNT</th>\n",
              "    </tr>\n",
              "  </thead>\n",
              "  <tbody>\n",
              "    <tr>\n",
              "      <th>0</th>\n",
              "      <td>20180407</td>\n",
              "      <td>닥스원피스</td>\n",
              "      <td>8</td>\n",
              "    </tr>\n",
              "  </tbody>\n",
              "</table>\n",
              "</div>"
            ],
            "text/plain": [
              "    SESS_DT KWD_NM SEARCH_CNT\n",
              "0  20180407  닥스원피스          8"
            ]
          },
          "metadata": {
            "tags": []
          },
          "execution_count": 17
        }
      ]
    },
    {
      "cell_type": "code",
      "metadata": {
        "id": "esLnBSeXaPZn",
        "colab": {
          "base_uri": "https://localhost:8080/",
          "height": 75
        },
        "outputId": "89c8f8e6-c437-43a7-bbe6-2149f8ab8dc6"
      },
      "source": [
        "session.head(1)"
      ],
      "execution_count": null,
      "outputs": [
        {
          "output_type": "execute_result",
          "data": {
            "text/html": [
              "<div>\n",
              "<style scoped>\n",
              "    .dataframe tbody tr th:only-of-type {\n",
              "        vertical-align: middle;\n",
              "    }\n",
              "\n",
              "    .dataframe tbody tr th {\n",
              "        vertical-align: top;\n",
              "    }\n",
              "\n",
              "    .dataframe thead th {\n",
              "        text-align: right;\n",
              "    }\n",
              "</style>\n",
              "<table border=\"1\" class=\"dataframe\">\n",
              "  <thead>\n",
              "    <tr style=\"text-align: right;\">\n",
              "      <th></th>\n",
              "      <th>clnt_id</th>\n",
              "      <th>sess_id</th>\n",
              "      <th>sess_seq</th>\n",
              "      <th>sess_dt</th>\n",
              "      <th>tot_pag_view_ct</th>\n",
              "      <th>tot_sess_hr_v</th>\n",
              "      <th>dvc_ctg_nm</th>\n",
              "      <th>zon_nm</th>\n",
              "      <th>city_nm</th>\n",
              "    </tr>\n",
              "  </thead>\n",
              "  <tbody>\n",
              "    <tr>\n",
              "      <th>0</th>\n",
              "      <td>5873599</td>\n",
              "      <td>8641867</td>\n",
              "      <td>9</td>\n",
              "      <td>20180509</td>\n",
              "      <td>82.0</td>\n",
              "      <td>1,890</td>\n",
              "      <td>mobile</td>\n",
              "      <td>Daejeon</td>\n",
              "      <td>Daejeon</td>\n",
              "    </tr>\n",
              "  </tbody>\n",
              "</table>\n",
              "</div>"
            ],
            "text/plain": [
              "   clnt_id  sess_id  sess_seq  ...  dvc_ctg_nm   zon_nm  city_nm\n",
              "0  5873599  8641867         9  ...      mobile  Daejeon  Daejeon\n",
              "\n",
              "[1 rows x 9 columns]"
            ]
          },
          "metadata": {
            "tags": []
          },
          "execution_count": 52
        }
      ]
    },
    {
      "cell_type": "code",
      "metadata": {
        "colab": {
          "base_uri": "https://localhost:8080/",
          "height": 80
        },
        "id": "MMLoyYhfOLAh",
        "outputId": "420a4a46-7b8a-4237-9822-44e0401f9732"
      },
      "source": [
        "product.head(1)"
      ],
      "execution_count": null,
      "outputs": [
        {
          "output_type": "execute_result",
          "data": {
            "text/html": [
              "<div>\n",
              "<style scoped>\n",
              "    .dataframe tbody tr th:only-of-type {\n",
              "        vertical-align: middle;\n",
              "    }\n",
              "\n",
              "    .dataframe tbody tr th {\n",
              "        vertical-align: top;\n",
              "    }\n",
              "\n",
              "    .dataframe thead th {\n",
              "        text-align: right;\n",
              "    }\n",
              "</style>\n",
              "<table border=\"1\" class=\"dataframe\">\n",
              "  <thead>\n",
              "    <tr style=\"text-align: right;\">\n",
              "      <th></th>\n",
              "      <th>CLNT_ID</th>\n",
              "      <th>SESS_ID</th>\n",
              "      <th>HITS_SEQ</th>\n",
              "      <th>PD_C</th>\n",
              "      <th>PD_ADD_NM</th>\n",
              "      <th>PD_BRA_NM</th>\n",
              "      <th>PD_BUY_AM</th>\n",
              "      <th>PD_BUY_CT</th>\n",
              "    </tr>\n",
              "  </thead>\n",
              "  <tbody>\n",
              "    <tr>\n",
              "      <th>0</th>\n",
              "      <td>4139680</td>\n",
              "      <td>7605037</td>\n",
              "      <td>12</td>\n",
              "      <td>642112</td>\n",
              "      <td>색상:워터멜론</td>\n",
              "      <td>[바비브라운]</td>\n",
              "      <td>39,000</td>\n",
              "      <td>1</td>\n",
              "    </tr>\n",
              "  </tbody>\n",
              "</table>\n",
              "</div>"
            ],
            "text/plain": [
              "   CLNT_ID  SESS_ID  HITS_SEQ    PD_C PD_ADD_NM PD_BRA_NM PD_BUY_AM PD_BUY_CT\n",
              "0  4139680  7605037        12  642112   색상:워터멜론   [바비브라운]    39,000         1"
            ]
          },
          "metadata": {
            "tags": []
          },
          "execution_count": 19
        }
      ]
    },
    {
      "cell_type": "code",
      "metadata": {
        "colab": {
          "base_uri": "https://localhost:8080/",
          "height": 80
        },
        "id": "NvCFlstrPX-M",
        "outputId": "d2e39d0d-4720-4013-ecac-30179424a0ca"
      },
      "source": [
        "product.head(1)"
      ],
      "execution_count": null,
      "outputs": [
        {
          "output_type": "execute_result",
          "data": {
            "text/html": [
              "<div>\n",
              "<style scoped>\n",
              "    .dataframe tbody tr th:only-of-type {\n",
              "        vertical-align: middle;\n",
              "    }\n",
              "\n",
              "    .dataframe tbody tr th {\n",
              "        vertical-align: top;\n",
              "    }\n",
              "\n",
              "    .dataframe thead th {\n",
              "        text-align: right;\n",
              "    }\n",
              "</style>\n",
              "<table border=\"1\" class=\"dataframe\">\n",
              "  <thead>\n",
              "    <tr style=\"text-align: right;\">\n",
              "      <th></th>\n",
              "      <th>clnt_id</th>\n",
              "      <th>sess_id</th>\n",
              "      <th>hits_seq</th>\n",
              "      <th>pd_c</th>\n",
              "      <th>pd_add_nm</th>\n",
              "      <th>pd_bra_nm</th>\n",
              "      <th>pd_buy_am</th>\n",
              "      <th>pd_buy_ct</th>\n",
              "    </tr>\n",
              "  </thead>\n",
              "  <tbody>\n",
              "    <tr>\n",
              "      <th>0</th>\n",
              "      <td>4139680</td>\n",
              "      <td>7605037</td>\n",
              "      <td>12</td>\n",
              "      <td>642112</td>\n",
              "      <td>색상:워터멜론</td>\n",
              "      <td>[바비브라운]</td>\n",
              "      <td>39,000</td>\n",
              "      <td>1</td>\n",
              "    </tr>\n",
              "  </tbody>\n",
              "</table>\n",
              "</div>"
            ],
            "text/plain": [
              "   clnt_id  sess_id  hits_seq    pd_c pd_add_nm pd_bra_nm pd_buy_am pd_buy_ct\n",
              "0  4139680  7605037        12  642112   색상:워터멜론   [바비브라운]    39,000         1"
            ]
          },
          "metadata": {
            "tags": []
          },
          "execution_count": 29
        }
      ]
    },
    {
      "cell_type": "code",
      "metadata": {
        "colab": {
          "base_uri": "https://localhost:8080/"
        },
        "id": "WCJ3PQyTcw7Q",
        "outputId": "3db93f11-6700-468b-8d17-da3c33de03d1"
      },
      "source": [
        "session.shape"
      ],
      "execution_count": null,
      "outputs": [
        {
          "output_type": "execute_result",
          "data": {
            "text/plain": [
              "(2712907, 9)"
            ]
          },
          "metadata": {
            "tags": []
          },
          "execution_count": 53
        }
      ]
    },
    {
      "cell_type": "code",
      "metadata": {
        "colab": {
          "base_uri": "https://localhost:8080/"
        },
        "id": "Hu7CBgIQczBT",
        "outputId": "baa367cf-97a0-472a-f1dc-dd185a7c1450"
      },
      "source": [
        "session.columns"
      ],
      "execution_count": null,
      "outputs": [
        {
          "output_type": "execute_result",
          "data": {
            "text/plain": [
              "Index(['clnt_id', 'sess_id', 'sess_seq', 'sess_dt', 'tot_pag_view_ct',\n",
              "       'tot_sess_hr_v', 'dvc_ctg_nm', 'zon_nm', 'city_nm'],\n",
              "      dtype='object')"
            ]
          },
          "metadata": {
            "tags": []
          },
          "execution_count": 54
        }
      ]
    },
    {
      "cell_type": "markdown",
      "metadata": {
        "id": "bDEWJYxWvv0X"
      },
      "source": [
        "##3. Check the product variables:\n",
        "  * Type of card vs churn.\n",
        "  * Relationship with the bank vs churn.\n",
        "  * Number of products vs churn.\n",
        "  * Inactive months vs churn.\n",
        "  * Number of contacts vs churn.\n",
        "  * Credit Limit vs churn.\n",
        "  * Total resolving balance vs churn.\n",
        "  * Openness To Buy Credit Line vs churn.\n",
        "  * Transaction Amount Change vs churn.\n",
        "  * Transaction Count Change vs churn.\n",
        "  * Average Card Utilization Ratio vs churn."
      ]
    },
    {
      "cell_type": "markdown",
      "metadata": {
        "id": "DSGtpK6QwK3h"
      },
      "source": [
        "***How many customer have churned ?***"
      ]
    },
    {
      "cell_type": "code",
      "metadata": {
        "id": "vf6X8FaDwGB2"
      },
      "source": [
        ""
      ],
      "execution_count": null,
      "outputs": []
    },
    {
      "cell_type": "markdown",
      "metadata": {
        "id": "IWxmQWFNst4Y"
      },
      "source": [
        "***How many Customers visit the site during the period ?***"
      ]
    },
    {
      "cell_type": "code",
      "metadata": {
        "colab": {
          "base_uri": "https://localhost:8080/"
        },
        "id": "Lfi80Z0ha8Zh",
        "outputId": "bf46e56f-7073-4217-9b10-d924bf2362c8"
      },
      "source": [
        "# session.iloc[:,0].unique\n",
        "visitors = session['clnt_id'].nunique()\n",
        "print('visitors:{}'.format(visitors))"
      ],
      "execution_count": null,
      "outputs": [
        {
          "output_type": "stream",
          "text": [
            "visitors:922737\n"
          ],
          "name": "stdout"
        }
      ]
    },
    {
      "cell_type": "markdown",
      "metadata": {
        "id": "EQEmEpAmtKey"
      },
      "source": [
        "***Visitors daily Trend : Does traffic flunctuate by date?***"
      ]
    },
    {
      "cell_type": "code",
      "metadata": {
        "colab": {
          "base_uri": "https://localhost:8080/",
          "height": 421
        },
        "id": "FbJrYt3ka8jV",
        "outputId": "5808b808-f1df-4dcf-ba0c-fcce32c1a601"
      },
      "source": [
        "session.drop_duplicates().groupby(['sess_dt'])['clnt_id'].agg(['count'])"
      ],
      "execution_count": null,
      "outputs": [
        {
          "output_type": "execute_result",
          "data": {
            "text/html": [
              "<div>\n",
              "<style scoped>\n",
              "    .dataframe tbody tr th:only-of-type {\n",
              "        vertical-align: middle;\n",
              "    }\n",
              "\n",
              "    .dataframe tbody tr th {\n",
              "        vertical-align: top;\n",
              "    }\n",
              "\n",
              "    .dataframe thead th {\n",
              "        text-align: right;\n",
              "    }\n",
              "</style>\n",
              "<table border=\"1\" class=\"dataframe\">\n",
              "  <thead>\n",
              "    <tr style=\"text-align: right;\">\n",
              "      <th></th>\n",
              "      <th>count</th>\n",
              "    </tr>\n",
              "    <tr>\n",
              "      <th>sess_dt</th>\n",
              "      <th></th>\n",
              "    </tr>\n",
              "  </thead>\n",
              "  <tbody>\n",
              "    <tr>\n",
              "      <th>20180401</th>\n",
              "      <td>19274</td>\n",
              "    </tr>\n",
              "    <tr>\n",
              "      <th>20180402</th>\n",
              "      <td>19775</td>\n",
              "    </tr>\n",
              "    <tr>\n",
              "      <th>20180403</th>\n",
              "      <td>18939</td>\n",
              "    </tr>\n",
              "    <tr>\n",
              "      <th>20180404</th>\n",
              "      <td>17879</td>\n",
              "    </tr>\n",
              "    <tr>\n",
              "      <th>20180405</th>\n",
              "      <td>16757</td>\n",
              "    </tr>\n",
              "    <tr>\n",
              "      <th>...</th>\n",
              "      <td>...</td>\n",
              "    </tr>\n",
              "    <tr>\n",
              "      <th>20180926</th>\n",
              "      <td>13361</td>\n",
              "    </tr>\n",
              "    <tr>\n",
              "      <th>20180927</th>\n",
              "      <td>13333</td>\n",
              "    </tr>\n",
              "    <tr>\n",
              "      <th>20180928</th>\n",
              "      <td>12667</td>\n",
              "    </tr>\n",
              "    <tr>\n",
              "      <th>20180929</th>\n",
              "      <td>12108</td>\n",
              "    </tr>\n",
              "    <tr>\n",
              "      <th>20180930</th>\n",
              "      <td>14106</td>\n",
              "    </tr>\n",
              "  </tbody>\n",
              "</table>\n",
              "<p>183 rows × 1 columns</p>\n",
              "</div>"
            ],
            "text/plain": [
              "          count\n",
              "sess_dt        \n",
              "20180401  19274\n",
              "20180402  19775\n",
              "20180403  18939\n",
              "20180404  17879\n",
              "20180405  16757\n",
              "...         ...\n",
              "20180926  13361\n",
              "20180927  13333\n",
              "20180928  12667\n",
              "20180929  12108\n",
              "20180930  14106\n",
              "\n",
              "[183 rows x 1 columns]"
            ]
          },
          "metadata": {
            "tags": []
          },
          "execution_count": 62
        }
      ]
    },
    {
      "cell_type": "code",
      "metadata": {
        "colab": {
          "base_uri": "https://localhost:8080/",
          "height": 441
        },
        "id": "BwT4xbfArWBn",
        "outputId": "653176fd-d427-48ec-c050-963f65dc7d8b"
      },
      "source": [
        "session.drop_duplicates().groupby(['SESS_DT'])['CLNT_ID'].agg(['count']).sort_values(by=['SESS_DT'],ascending=True)"
      ],
      "execution_count": null,
      "outputs": [
        {
          "output_type": "execute_result",
          "data": {
            "text/html": [
              "<div>\n",
              "<style scoped>\n",
              "    .dataframe tbody tr th:only-of-type {\n",
              "        vertical-align: middle;\n",
              "    }\n",
              "\n",
              "    .dataframe tbody tr th {\n",
              "        vertical-align: top;\n",
              "    }\n",
              "\n",
              "    .dataframe thead th {\n",
              "        text-align: right;\n",
              "    }\n",
              "</style>\n",
              "<table border=\"1\" class=\"dataframe\">\n",
              "  <thead>\n",
              "    <tr style=\"text-align: right;\">\n",
              "      <th></th>\n",
              "      <th>count</th>\n",
              "    </tr>\n",
              "    <tr>\n",
              "      <th>SESS_DT</th>\n",
              "      <th></th>\n",
              "    </tr>\n",
              "  </thead>\n",
              "  <tbody>\n",
              "    <tr>\n",
              "      <th>20180401</th>\n",
              "      <td>19274</td>\n",
              "    </tr>\n",
              "    <tr>\n",
              "      <th>20180402</th>\n",
              "      <td>19775</td>\n",
              "    </tr>\n",
              "    <tr>\n",
              "      <th>20180403</th>\n",
              "      <td>18939</td>\n",
              "    </tr>\n",
              "    <tr>\n",
              "      <th>20180404</th>\n",
              "      <td>17879</td>\n",
              "    </tr>\n",
              "    <tr>\n",
              "      <th>20180405</th>\n",
              "      <td>16757</td>\n",
              "    </tr>\n",
              "    <tr>\n",
              "      <th>...</th>\n",
              "      <td>...</td>\n",
              "    </tr>\n",
              "    <tr>\n",
              "      <th>20180926</th>\n",
              "      <td>13361</td>\n",
              "    </tr>\n",
              "    <tr>\n",
              "      <th>20180927</th>\n",
              "      <td>13333</td>\n",
              "    </tr>\n",
              "    <tr>\n",
              "      <th>20180928</th>\n",
              "      <td>12667</td>\n",
              "    </tr>\n",
              "    <tr>\n",
              "      <th>20180929</th>\n",
              "      <td>12108</td>\n",
              "    </tr>\n",
              "    <tr>\n",
              "      <th>20180930</th>\n",
              "      <td>14106</td>\n",
              "    </tr>\n",
              "  </tbody>\n",
              "</table>\n",
              "<p>183 rows × 1 columns</p>\n",
              "</div>"
            ],
            "text/plain": [
              "          count\n",
              "SESS_DT        \n",
              "20180401  19274\n",
              "20180402  19775\n",
              "20180403  18939\n",
              "20180404  17879\n",
              "20180405  16757\n",
              "...         ...\n",
              "20180926  13361\n",
              "20180927  13333\n",
              "20180928  12667\n",
              "20180929  12108\n",
              "20180930  14106\n",
              "\n",
              "[183 rows x 1 columns]"
            ]
          },
          "metadata": {
            "tags": []
          },
          "execution_count": 20
        }
      ]
    },
    {
      "cell_type": "code",
      "metadata": {
        "id": "gOEYkCuIsl1u"
      },
      "source": [
        "visitors_by_date = session.drop_duplicates().groupby(['SESS_DT'])['CLNT_ID'].agg(['count']).sort_values(by=['SESS_DT'],ascending=True)"
      ],
      "execution_count": null,
      "outputs": []
    },
    {
      "cell_type": "code",
      "metadata": {
        "id": "QDQR_z7VsmC0"
      },
      "source": [
        " from datetime import datetime"
      ],
      "execution_count": null,
      "outputs": []
    },
    {
      "cell_type": "code",
      "metadata": {
        "colab": {
          "base_uri": "https://localhost:8080/"
        },
        "id": "IUBLkD67sl5h",
        "outputId": "0287d8ae-6a64-4e56-d23a-b9547d05f2a6"
      },
      "source": [
        "pd.Series(visitors_by_date.index.values).apply(lambda s: datetime.strptime(s,'%Y%m%d').date())"
      ],
      "execution_count": null,
      "outputs": [
        {
          "output_type": "execute_result",
          "data": {
            "text/plain": [
              "0      2018-04-01\n",
              "1      2018-04-02\n",
              "2      2018-04-03\n",
              "3      2018-04-04\n",
              "4      2018-04-05\n",
              "          ...    \n",
              "178    2018-09-26\n",
              "179    2018-09-27\n",
              "180    2018-09-28\n",
              "181    2018-09-29\n",
              "182    2018-09-30\n",
              "Length: 183, dtype: object"
            ]
          },
          "metadata": {
            "tags": []
          },
          "execution_count": 29
        }
      ]
    },
    {
      "cell_type": "code",
      "metadata": {
        "colab": {
          "base_uri": "https://localhost:8080/"
        },
        "id": "Mp83D-JKtpRW",
        "outputId": "4ab7fc51-65da-4883-ebdc-09275c632bae"
      },
      "source": [
        "visitors_by_date['count']"
      ],
      "execution_count": null,
      "outputs": [
        {
          "output_type": "execute_result",
          "data": {
            "text/plain": [
              "SESS_DT\n",
              "20180401    19274\n",
              "20180402    19775\n",
              "20180403    18939\n",
              "20180404    17879\n",
              "20180405    16757\n",
              "            ...  \n",
              "20180926    13361\n",
              "20180927    13333\n",
              "20180928    12667\n",
              "20180929    12108\n",
              "20180930    14106\n",
              "Name: count, Length: 183, dtype: int64"
            ]
          },
          "metadata": {
            "tags": []
          },
          "execution_count": 30
        }
      ]
    },
    {
      "cell_type": "code",
      "metadata": {
        "colab": {
          "base_uri": "https://localhost:8080/",
          "height": 230
        },
        "id": "QtTmYkrrsmGX",
        "outputId": "6493b1aa-8f87-4911-c97f-303d8ae3f816"
      },
      "source": [
        "x = pd.Series(visitors_by_date.index.values).apply(lambda s: datetime.strptime(s,'%Y%m%d').date())\n",
        "y = visitors_by_date['count']\n",
        "plt.rcParams['figure.figsize']=(20,8)\n",
        "plt.plot(x,y)\n",
        "plt.show()"
      ],
      "execution_count": null,
      "outputs": [
        {
          "output_type": "error",
          "ename": "NameError",
          "evalue": "ignored",
          "traceback": [
            "\u001b[0;31m---------------------------------------------------------------------------\u001b[0m",
            "\u001b[0;31mNameError\u001b[0m                                 Traceback (most recent call last)",
            "\u001b[0;32m<ipython-input-51-ae49198d5e9f>\u001b[0m in \u001b[0;36m<module>\u001b[0;34m()\u001b[0m\n\u001b[0;32m----> 1\u001b[0;31m \u001b[0mx\u001b[0m \u001b[0;34m=\u001b[0m \u001b[0mpd\u001b[0m\u001b[0;34m.\u001b[0m\u001b[0mSeries\u001b[0m\u001b[0;34m(\u001b[0m\u001b[0mvisitors_by_date\u001b[0m\u001b[0;34m.\u001b[0m\u001b[0mindex\u001b[0m\u001b[0;34m.\u001b[0m\u001b[0mvalues\u001b[0m\u001b[0;34m)\u001b[0m\u001b[0;34m.\u001b[0m\u001b[0mapply\u001b[0m\u001b[0;34m(\u001b[0m\u001b[0;32mlambda\u001b[0m \u001b[0ms\u001b[0m\u001b[0;34m:\u001b[0m \u001b[0mdatetime\u001b[0m\u001b[0;34m.\u001b[0m\u001b[0mstrptime\u001b[0m\u001b[0;34m(\u001b[0m\u001b[0ms\u001b[0m\u001b[0;34m,\u001b[0m\u001b[0;34m'%Y%m%d'\u001b[0m\u001b[0;34m)\u001b[0m\u001b[0;34m.\u001b[0m\u001b[0mdate\u001b[0m\u001b[0;34m(\u001b[0m\u001b[0;34m)\u001b[0m\u001b[0;34m)\u001b[0m\u001b[0;34m\u001b[0m\u001b[0;34m\u001b[0m\u001b[0m\n\u001b[0m\u001b[1;32m      2\u001b[0m \u001b[0my\u001b[0m \u001b[0;34m=\u001b[0m \u001b[0mvisitors_by_date\u001b[0m\u001b[0;34m[\u001b[0m\u001b[0;34m'count'\u001b[0m\u001b[0;34m]\u001b[0m\u001b[0;34m\u001b[0m\u001b[0;34m\u001b[0m\u001b[0m\n\u001b[1;32m      3\u001b[0m \u001b[0mplt\u001b[0m\u001b[0;34m.\u001b[0m\u001b[0mrcParams\u001b[0m\u001b[0;34m[\u001b[0m\u001b[0;34m'figure.figsize'\u001b[0m\u001b[0;34m]\u001b[0m\u001b[0;34m=\u001b[0m\u001b[0;34m(\u001b[0m\u001b[0;36m20\u001b[0m\u001b[0;34m,\u001b[0m\u001b[0;36m8\u001b[0m\u001b[0;34m)\u001b[0m\u001b[0;34m\u001b[0m\u001b[0;34m\u001b[0m\u001b[0m\n\u001b[1;32m      4\u001b[0m \u001b[0mplt\u001b[0m\u001b[0;34m.\u001b[0m\u001b[0mplot\u001b[0m\u001b[0;34m(\u001b[0m\u001b[0mx\u001b[0m\u001b[0;34m,\u001b[0m\u001b[0my\u001b[0m\u001b[0;34m)\u001b[0m\u001b[0;34m\u001b[0m\u001b[0;34m\u001b[0m\u001b[0m\n\u001b[1;32m      5\u001b[0m \u001b[0mplt\u001b[0m\u001b[0;34m.\u001b[0m\u001b[0mshow\u001b[0m\u001b[0;34m(\u001b[0m\u001b[0;34m)\u001b[0m\u001b[0;34m\u001b[0m\u001b[0;34m\u001b[0m\u001b[0m\n",
            "\u001b[0;31mNameError\u001b[0m: name 'visitors_by_date' is not defined"
          ]
        }
      ]
    },
    {
      "cell_type": "code",
      "metadata": {
        "id": "ao2oAetLsmJV"
      },
      "source": [
        ""
      ],
      "execution_count": null,
      "outputs": []
    },
    {
      "cell_type": "code",
      "metadata": {
        "id": "eWWp2CKfsmUh"
      },
      "source": [
        ""
      ],
      "execution_count": null,
      "outputs": []
    },
    {
      "cell_type": "code",
      "metadata": {
        "id": "Y-UqLWQiuq_k"
      },
      "source": [
        ""
      ],
      "execution_count": null,
      "outputs": []
    },
    {
      "cell_type": "code",
      "metadata": {
        "id": "zI48-dlpurCM"
      },
      "source": [
        ""
      ],
      "execution_count": null,
      "outputs": []
    },
    {
      "cell_type": "code",
      "metadata": {
        "id": "XSOpOgz2urFC"
      },
      "source": [
        ""
      ],
      "execution_count": null,
      "outputs": []
    },
    {
      "cell_type": "code",
      "metadata": {
        "id": "pm32HjWdurI2"
      },
      "source": [
        ""
      ],
      "execution_count": null,
      "outputs": []
    },
    {
      "cell_type": "code",
      "metadata": {
        "id": "tFvZWthUurLN"
      },
      "source": [
        ""
      ],
      "execution_count": null,
      "outputs": []
    },
    {
      "cell_type": "code",
      "metadata": {
        "id": "yTVBB0rHurNw"
      },
      "source": [
        ""
      ],
      "execution_count": null,
      "outputs": []
    },
    {
      "cell_type": "code",
      "metadata": {
        "id": "9EmKvhbjurQG"
      },
      "source": [
        ""
      ],
      "execution_count": null,
      "outputs": []
    },
    {
      "cell_type": "code",
      "metadata": {
        "id": "abVMdNbzurTb"
      },
      "source": [
        ""
      ],
      "execution_count": null,
      "outputs": []
    },
    {
      "cell_type": "code",
      "metadata": {
        "id": "0YCqLfjIurV_"
      },
      "source": [
        ""
      ],
      "execution_count": null,
      "outputs": []
    },
    {
      "cell_type": "code",
      "metadata": {
        "id": "8HSuIALOurZ3"
      },
      "source": [
        ""
      ],
      "execution_count": null,
      "outputs": []
    },
    {
      "cell_type": "code",
      "metadata": {
        "id": "LJ08F3jfurco"
      },
      "source": [
        ""
      ],
      "execution_count": null,
      "outputs": []
    },
    {
      "cell_type": "code",
      "metadata": {
        "id": "t24MTrpkure_"
      },
      "source": [
        ""
      ],
      "execution_count": null,
      "outputs": []
    },
    {
      "cell_type": "code",
      "metadata": {
        "id": "oeHwjtjFurin"
      },
      "source": [
        ""
      ],
      "execution_count": null,
      "outputs": []
    },
    {
      "cell_type": "markdown",
      "metadata": {
        "id": "_Rzx3MvAurs0"
      },
      "source": [
        "*Feature Engineering*"
      ]
    },
    {
      "cell_type": "code",
      "metadata": {
        "id": "ZfYbmH3zuuw4"
      },
      "source": [
        ""
      ],
      "execution_count": null,
      "outputs": []
    }
  ]
}