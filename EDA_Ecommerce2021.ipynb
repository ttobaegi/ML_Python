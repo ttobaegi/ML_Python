{
  "nbformat": 4,
  "nbformat_minor": 0,
  "metadata": {
    "colab": {
      "name": "EDA_Ecommerce2021.ipynb",
      "provenance": [],
      "collapsed_sections": [],
      "toc_visible": true,
      "authorship_tag": "ABX9TyOrnS0EH6T5q/wBVvJ0Ldlc",
      "include_colab_link": true
    },
    "kernelspec": {
      "name": "python3",
      "display_name": "Python 3"
    }
  },
  "cells": [
    {
      "cell_type": "markdown",
      "metadata": {
        "id": "view-in-github",
        "colab_type": "text"
      },
      "source": [
        "<a href=\"https://colab.research.google.com/github/ttobaegi/ML_Python/blob/master/EDA_Ecommerce2021.ipynb\" target=\"_parent\"><img src=\"https://colab.research.google.com/assets/colab-badge.svg\" alt=\"Open In Colab\"/></a>"
      ]
    },
    {
      "cell_type": "code",
      "metadata": {
        "colab": {
          "base_uri": "https://localhost:8080/"
        },
        "id": "XCxZJO13Z171",
        "outputId": "83715c76-094d-4756-9061-6bc8d30ce054"
      },
      "source": [
        "# drive를 colab에 연결해서 데이터 로딩하기\n",
        "from google.colab import drive\n",
        "drive.mount('/content/drive')"
      ],
      "execution_count": null,
      "outputs": [
        {
          "output_type": "stream",
          "text": [
            "Drive already mounted at /content/drive; to attempt to forcibly remount, call drive.mount(\"/content/drive\", force_remount=True).\n"
          ],
          "name": "stdout"
        }
      ]
    },
    {
      "cell_type": "code",
      "metadata": {
        "id": "E9c-TIAjePfO"
      },
      "source": [
        "import pandas as pd     # data preprocessing\n",
        "import numpy as np"
      ],
      "execution_count": null,
      "outputs": []
    },
    {
      "cell_type": "code",
      "metadata": {
        "id": "wkgs5viRfRN4"
      },
      "source": [
        "import seaborn as sns\n",
        "import matplotlib.pyplot as plt\n",
        "from IPython.display import set_matplotlib_formats\n",
        "set_matplotlib_formats('retina')\n",
        "\n",
        "plt.style.use('seaborn-whitegrid')"
      ],
      "execution_count": null,
      "outputs": []
    },
    {
      "cell_type": "markdown",
      "metadata": {
        "id": "EJa0sLy4Ot-O"
      },
      "source": [
        "# 파일 불러오기"
      ]
    },
    {
      "cell_type": "code",
      "metadata": {
        "id": "O9-56E75ePqi",
        "colab": {
          "base_uri": "https://localhost:8080/"
        },
        "outputId": "67d79acb-28ef-41e8-b21a-218ea657199e"
      },
      "source": [
        "master=pd.read_csv('/content/drive/MyDrive/Project_2021/master1.csv', sep=',')\n",
        "customer=pd.read_csv('/content/drive/MyDrive/Project_2021/Custom.csv', sep=',')\n",
        "search1=pd.read_csv('/content/drive/MyDrive/Project_2021/Search1.csv', sep=',')\n",
        "search2=pd.read_csv('/content/drive/MyDrive/Project_2021/Search2.csv', sep=',')\n",
        "session=pd.read_csv('/content/drive/MyDrive/Project_2021/Session.csv', sep=',')\n",
        "product=pd.read_csv('/content/drive/MyDrive/Project_2021/Product.csv', sep=',')\n",
        "indicator1=pd.read_csv('/content/drive/MyDrive/Project_2021/indicator1.csv', sep=',')"
      ],
      "execution_count": null,
      "outputs": [
        {
          "output_type": "stream",
          "text": [
            "/usr/local/lib/python3.7/dist-packages/IPython/core/interactiveshell.py:2718: DtypeWarning: Columns (7) have mixed types.Specify dtype option on import or set low_memory=False.\n",
            "  interactivity=interactivity, compiler=compiler, result=result)\n"
          ],
          "name": "stderr"
        }
      ]
    },
    {
      "cell_type": "markdown",
      "metadata": {
        "id": "Foe3cKZMXWDR"
      },
      "source": [
        "# PreProcessing\n",
        "1. 컬럼명 소문자로 변경"
      ]
    },
    {
      "cell_type": "code",
      "metadata": {
        "id": "ee0k1cs1RUw_"
      },
      "source": [
        "#컬럼명 소문자로 변경\n",
        "session_col = session.columns\n",
        "search1_col = search1.columns\n",
        "search2_col = search2.columns\n",
        "customer_col = customer.columns\n",
        "master_col = master.columns\n",
        "product_col = product.columns\n",
        "\n",
        "cols = (session_col, search1_col, search2_col, customer_col, master_col, product_col)\n",
        "df = (session, search1, search2, customer, master, product)\n",
        "for i in range(0,6):\n",
        "  c_lower = []\n",
        "  for ii in cols[i] :\n",
        "    c_lower.append(ii.lower())\n",
        "  df[i].columns=c_lower"
      ],
      "execution_count": null,
      "outputs": []
    },
    {
      "cell_type": "code",
      "metadata": {
        "colab": {
          "base_uri": "https://localhost:8080/"
        },
        "id": "YTHXpZlhVv-a",
        "outputId": "b9de84f1-e7e7-4af9-d591-d50bf3bc2703"
      },
      "source": [
        "for i in range(0,6):\n",
        "  print(df[i].columns)"
      ],
      "execution_count": null,
      "outputs": [
        {
          "output_type": "stream",
          "text": [
            "Index(['clnt_id', 'sess_id', 'sess_seq', 'sess_dt', 'tot_pag_view_ct',\n",
            "       'tot_sess_hr_v', 'dvc_ctg_nm', 'zon_nm', 'city_nm'],\n",
            "      dtype='object')\n",
            "Index(['clnt_id', 'sess_id', 'kwd_nm', 'search_cnt'], dtype='object')\n",
            "Index(['sess_dt', 'kwd_nm', 'search_cnt'], dtype='object')\n",
            "Index(['clnt_id', 'clnt_gender', 'clnt_age'], dtype='object')\n",
            "Index(['pd_c', 'pd_nm', 'clac1_nm', 'clac2_nm', 'clac3_nm'], dtype='object')\n",
            "Index(['clnt_id', 'sess_id', 'hits_seq', 'pd_c', 'pd_add_nm', 'pd_bra_nm',\n",
            "       'pd_buy_am', 'pd_buy_ct'],\n",
            "      dtype='object')\n"
          ],
          "name": "stdout"
        }
      ]
    },
    {
      "cell_type": "code",
      "metadata": {
        "colab": {
          "base_uri": "https://localhost:8080/"
        },
        "id": "3zMVbaczwbHK",
        "outputId": "38fc06fb-7674-46aa-fc83-f5cb2191d618"
      },
      "source": [
        "# any() > series df 모두 적용 가능\n",
        "# checks whether any value in the caller object is not 0 and returns True for that\n",
        "session.isnull().any()\n",
        "# tot_sesshr_v, tot_pag_view_ct 에 null값 존재"
      ],
      "execution_count": null,
      "outputs": [
        {
          "output_type": "execute_result",
          "data": {
            "text/plain": [
              "clnt_id            False\n",
              "sess_id            False\n",
              "sess_seq           False\n",
              "sess_dt            False\n",
              "tot_pag_view_ct     True\n",
              "tot_sess_hr_v       True\n",
              "dvc_ctg_nm         False\n",
              "zon_nm             False\n",
              "city_nm            False\n",
              "dtype: bool"
            ]
          },
          "metadata": {
            "tags": []
          },
          "execution_count": 8
        }
      ]
    },
    {
      "cell_type": "code",
      "metadata": {
        "colab": {
          "base_uri": "https://localhost:8080/",
          "height": 75
        },
        "id": "4NIaQRYF8cTb",
        "outputId": "86ffe120-0195-455f-8132-b57160d42c19"
      },
      "source": [
        "customer.head(1)"
      ],
      "execution_count": null,
      "outputs": [
        {
          "output_type": "execute_result",
          "data": {
            "text/html": [
              "<div>\n",
              "<style scoped>\n",
              "    .dataframe tbody tr th:only-of-type {\n",
              "        vertical-align: middle;\n",
              "    }\n",
              "\n",
              "    .dataframe tbody tr th {\n",
              "        vertical-align: top;\n",
              "    }\n",
              "\n",
              "    .dataframe thead th {\n",
              "        text-align: right;\n",
              "    }\n",
              "</style>\n",
              "<table border=\"1\" class=\"dataframe\">\n",
              "  <thead>\n",
              "    <tr style=\"text-align: right;\">\n",
              "      <th></th>\n",
              "      <th>clnt_id</th>\n",
              "      <th>clnt_gender</th>\n",
              "      <th>clnt_age</th>\n",
              "    </tr>\n",
              "  </thead>\n",
              "  <tbody>\n",
              "    <tr>\n",
              "      <th>0</th>\n",
              "      <td>4830726</td>\n",
              "      <td>F</td>\n",
              "      <td>30</td>\n",
              "    </tr>\n",
              "  </tbody>\n",
              "</table>\n",
              "</div>"
            ],
            "text/plain": [
              "   clnt_id clnt_gender  clnt_age\n",
              "0  4830726           F        30"
            ]
          },
          "metadata": {
            "tags": []
          },
          "execution_count": 23
        }
      ]
    },
    {
      "cell_type": "code",
      "metadata": {
        "colab": {
          "base_uri": "https://localhost:8080/",
          "height": 75
        },
        "id": "SEj1O7vK3cet",
        "outputId": "34de5f96-607d-4d35-929b-3f798c6f89a6"
      },
      "source": [
        "master.head(1)  # Product 상세 정보 포함 (대분류 중분류 소분류 상품이름)"
      ],
      "execution_count": null,
      "outputs": [
        {
          "output_type": "execute_result",
          "data": {
            "text/html": [
              "<div>\n",
              "<style scoped>\n",
              "    .dataframe tbody tr th:only-of-type {\n",
              "        vertical-align: middle;\n",
              "    }\n",
              "\n",
              "    .dataframe tbody tr th {\n",
              "        vertical-align: top;\n",
              "    }\n",
              "\n",
              "    .dataframe thead th {\n",
              "        text-align: right;\n",
              "    }\n",
              "</style>\n",
              "<table border=\"1\" class=\"dataframe\">\n",
              "  <thead>\n",
              "    <tr style=\"text-align: right;\">\n",
              "      <th></th>\n",
              "      <th>pd_c</th>\n",
              "      <th>pd_nm</th>\n",
              "      <th>clac1_nm</th>\n",
              "      <th>clac2_nm</th>\n",
              "      <th>clac3_nm</th>\n",
              "    </tr>\n",
              "  </thead>\n",
              "  <tbody>\n",
              "    <tr>\n",
              "      <th>0</th>\n",
              "      <td>64382</td>\n",
              "      <td>언더아머 남성 UA HG 아머 모크 LS 1289559-001 - 블랙 / MD[95]</td>\n",
              "      <td>스포츠패션</td>\n",
              "      <td>남성일반스포츠의류</td>\n",
              "      <td>남성스포츠티셔츠</td>\n",
              "    </tr>\n",
              "  </tbody>\n",
              "</table>\n",
              "</div>"
            ],
            "text/plain": [
              "    pd_c                                             pd_nm  ...   clac2_nm  clac3_nm\n",
              "0  64382  언더아머 남성 UA HG 아머 모크 LS 1289559-001 - 블랙 / MD[95]  ...  남성일반스포츠의류  남성스포츠티셔츠\n",
              "\n",
              "[1 rows x 5 columns]"
            ]
          },
          "metadata": {
            "tags": []
          },
          "execution_count": 10
        }
      ]
    },
    {
      "cell_type": "code",
      "metadata": {
        "colab": {
          "base_uri": "https://localhost:8080/"
        },
        "id": "D9cIvgqi6QCA",
        "outputId": "e81b1d57-02f7-488d-effd-c9fe3c78ac0e"
      },
      "source": [
        "print(product.info())\n",
        "print(master.info())"
      ],
      "execution_count": null,
      "outputs": [
        {
          "output_type": "stream",
          "text": [
            "<class 'pandas.core.frame.DataFrame'>\n",
            "RangeIndex: 5024906 entries, 0 to 5024905\n",
            "Data columns (total 8 columns):\n",
            " #   Column     Dtype \n",
            "---  ------     ----- \n",
            " 0   clnt_id    int64 \n",
            " 1   sess_id    int64 \n",
            " 2   hits_seq   int64 \n",
            " 3   pd_c       int64 \n",
            " 4   pd_add_nm  object\n",
            " 5   pd_bra_nm  object\n",
            " 6   pd_buy_am  object\n",
            " 7   pd_buy_ct  object\n",
            "dtypes: int64(4), object(4)\n",
            "memory usage: 306.7+ MB\n",
            "None\n",
            "<class 'pandas.core.frame.DataFrame'>\n",
            "RangeIndex: 847634 entries, 0 to 847633\n",
            "Data columns (total 5 columns):\n",
            " #   Column    Non-Null Count   Dtype \n",
            "---  ------    --------------   ----- \n",
            " 0   pd_c      847634 non-null  int64 \n",
            " 1   pd_nm     847634 non-null  object\n",
            " 2   clac1_nm  847634 non-null  object\n",
            " 3   clac2_nm  847634 non-null  object\n",
            " 4   clac3_nm  847634 non-null  object\n",
            "dtypes: int64(1), object(4)\n",
            "memory usage: 32.3+ MB\n",
            "None\n"
          ],
          "name": "stdout"
        }
      ]
    },
    {
      "cell_type": "code",
      "metadata": {
        "colab": {
          "base_uri": "https://localhost:8080/",
          "height": 75
        },
        "id": "GFjpO8ZWxNlX",
        "outputId": "718a0c23-0821-49ae-abcd-0606e9385edb"
      },
      "source": [
        "product.head(1)"
      ],
      "execution_count": null,
      "outputs": [
        {
          "output_type": "execute_result",
          "data": {
            "text/html": [
              "<div>\n",
              "<style scoped>\n",
              "    .dataframe tbody tr th:only-of-type {\n",
              "        vertical-align: middle;\n",
              "    }\n",
              "\n",
              "    .dataframe tbody tr th {\n",
              "        vertical-align: top;\n",
              "    }\n",
              "\n",
              "    .dataframe thead th {\n",
              "        text-align: right;\n",
              "    }\n",
              "</style>\n",
              "<table border=\"1\" class=\"dataframe\">\n",
              "  <thead>\n",
              "    <tr style=\"text-align: right;\">\n",
              "      <th></th>\n",
              "      <th>clnt_id</th>\n",
              "      <th>sess_id</th>\n",
              "      <th>hits_seq</th>\n",
              "      <th>pd_c</th>\n",
              "      <th>pd_add_nm</th>\n",
              "      <th>pd_bra_nm</th>\n",
              "      <th>pd_buy_am</th>\n",
              "      <th>pd_buy_ct</th>\n",
              "    </tr>\n",
              "  </thead>\n",
              "  <tbody>\n",
              "    <tr>\n",
              "      <th>0</th>\n",
              "      <td>4139680</td>\n",
              "      <td>7605037</td>\n",
              "      <td>12</td>\n",
              "      <td>642112</td>\n",
              "      <td>색상:워터멜론</td>\n",
              "      <td>[바비브라운]</td>\n",
              "      <td>39,000</td>\n",
              "      <td>1</td>\n",
              "    </tr>\n",
              "  </tbody>\n",
              "</table>\n",
              "</div>"
            ],
            "text/plain": [
              "   clnt_id  sess_id  hits_seq    pd_c pd_add_nm pd_bra_nm pd_buy_am pd_buy_ct\n",
              "0  4139680  7605037        12  642112   색상:워터멜론   [바비브라운]    39,000         1"
            ]
          },
          "metadata": {
            "tags": []
          },
          "execution_count": 12
        }
      ]
    },
    {
      "cell_type": "code",
      "metadata": {
        "colab": {
          "base_uri": "https://localhost:8080/",
          "height": 46
        },
        "id": "EST3m4nh0-3h",
        "outputId": "2e9e8f5d-053c-4a59-b5ad-5b785386df73"
      },
      "source": [
        "# df[df['col'] 조건] 해당하는 열만 추출\n",
        "product[product['pd_buy_ct']==0]        "
      ],
      "execution_count": null,
      "outputs": [
        {
          "output_type": "execute_result",
          "data": {
            "text/html": [
              "<div>\n",
              "<style scoped>\n",
              "    .dataframe tbody tr th:only-of-type {\n",
              "        vertical-align: middle;\n",
              "    }\n",
              "\n",
              "    .dataframe tbody tr th {\n",
              "        vertical-align: top;\n",
              "    }\n",
              "\n",
              "    .dataframe thead th {\n",
              "        text-align: right;\n",
              "    }\n",
              "</style>\n",
              "<table border=\"1\" class=\"dataframe\">\n",
              "  <thead>\n",
              "    <tr style=\"text-align: right;\">\n",
              "      <th></th>\n",
              "      <th>clnt_id</th>\n",
              "      <th>sess_id</th>\n",
              "      <th>hits_seq</th>\n",
              "      <th>pd_c</th>\n",
              "      <th>pd_add_nm</th>\n",
              "      <th>pd_bra_nm</th>\n",
              "      <th>pd_buy_am</th>\n",
              "      <th>pd_buy_ct</th>\n",
              "    </tr>\n",
              "  </thead>\n",
              "  <tbody>\n",
              "  </tbody>\n",
              "</table>\n",
              "</div>"
            ],
            "text/plain": [
              "Empty DataFrame\n",
              "Columns: [clnt_id, sess_id, hits_seq, pd_c, pd_add_nm, pd_bra_nm, pd_buy_am, pd_buy_ct]\n",
              "Index: []"
            ]
          },
          "metadata": {
            "tags": []
          },
          "execution_count": 13
        }
      ]
    },
    {
      "cell_type": "markdown",
      "metadata": {
        "id": "fGsuHoZo45_v"
      },
      "source": [
        "- product 테이블은 구매내역만 포함하고 있음 \n",
        "- Orders table 생성(Products, sessions, customer 정보)"
      ]
    },
    {
      "cell_type": "code",
      "metadata": {
        "colab": {
          "base_uri": "https://localhost:8080/",
          "height": 104
        },
        "id": "x8t5bmyWxNgZ",
        "outputId": "b9f352f5-5bd2-4352-d91a-fa113d7112f4"
      },
      "source": [
        "# left/right join : pd.merge(tables, left_on='key', right_on='key', how='left'|'right')\n",
        "# drop columns : df.drop(['col1','col2',...], axis=1)\n",
        "# rename column\n",
        "\n",
        "orders = pd.merge(product, session, left_on='sess_id', right_on='sess_id', how='left').drop(['pd_bra_nm', 'clnt_id_y'], axis=1)\n",
        "orders.head(2)"
      ],
      "execution_count": null,
      "outputs": [
        {
          "output_type": "execute_result",
          "data": {
            "text/html": [
              "<div>\n",
              "<style scoped>\n",
              "    .dataframe tbody tr th:only-of-type {\n",
              "        vertical-align: middle;\n",
              "    }\n",
              "\n",
              "    .dataframe tbody tr th {\n",
              "        vertical-align: top;\n",
              "    }\n",
              "\n",
              "    .dataframe thead th {\n",
              "        text-align: right;\n",
              "    }\n",
              "</style>\n",
              "<table border=\"1\" class=\"dataframe\">\n",
              "  <thead>\n",
              "    <tr style=\"text-align: right;\">\n",
              "      <th></th>\n",
              "      <th>clnt_id_x</th>\n",
              "      <th>sess_id</th>\n",
              "      <th>hits_seq</th>\n",
              "      <th>pd_c</th>\n",
              "      <th>pd_add_nm</th>\n",
              "      <th>pd_buy_am</th>\n",
              "      <th>pd_buy_ct</th>\n",
              "      <th>sess_seq</th>\n",
              "      <th>sess_dt</th>\n",
              "      <th>tot_pag_view_ct</th>\n",
              "      <th>tot_sess_hr_v</th>\n",
              "      <th>dvc_ctg_nm</th>\n",
              "      <th>zon_nm</th>\n",
              "      <th>city_nm</th>\n",
              "    </tr>\n",
              "  </thead>\n",
              "  <tbody>\n",
              "    <tr>\n",
              "      <th>0</th>\n",
              "      <td>4139680</td>\n",
              "      <td>7605037</td>\n",
              "      <td>12</td>\n",
              "      <td>642112</td>\n",
              "      <td>색상:워터멜론</td>\n",
              "      <td>39,000</td>\n",
              "      <td>1</td>\n",
              "      <td>1</td>\n",
              "      <td>20180526</td>\n",
              "      <td>21.0</td>\n",
              "      <td>902</td>\n",
              "      <td>desktop</td>\n",
              "      <td>Seoul</td>\n",
              "      <td>Seoul</td>\n",
              "    </tr>\n",
              "    <tr>\n",
              "      <th>1</th>\n",
              "      <td>4140076</td>\n",
              "      <td>10189797</td>\n",
              "      <td>13</td>\n",
              "      <td>570603</td>\n",
              "      <td>색상:BLK0_(BLK0)BLACK|사이즈:120 / 2개</td>\n",
              "      <td>39,000</td>\n",
              "      <td>2</td>\n",
              "      <td>172</td>\n",
              "      <td>20180413</td>\n",
              "      <td>18.0</td>\n",
              "      <td>113</td>\n",
              "      <td>mobile</td>\n",
              "      <td>Gyeonggi-do</td>\n",
              "      <td>Icheon-si</td>\n",
              "    </tr>\n",
              "  </tbody>\n",
              "</table>\n",
              "</div>"
            ],
            "text/plain": [
              "   clnt_id_x   sess_id  hits_seq  ...  dvc_ctg_nm       zon_nm    city_nm\n",
              "0    4139680   7605037        12  ...     desktop        Seoul      Seoul\n",
              "1    4140076  10189797        13  ...      mobile  Gyeonggi-do  Icheon-si\n",
              "\n",
              "[2 rows x 14 columns]"
            ]
          },
          "metadata": {
            "tags": []
          },
          "execution_count": 14
        }
      ]
    },
    {
      "cell_type": "code",
      "metadata": {
        "colab": {
          "base_uri": "https://localhost:8080/",
          "height": 138
        },
        "id": "7uIrYOvCxNcZ",
        "outputId": "b67d913b-f398-4f24-ffa8-c145644ac069"
      },
      "source": [
        "orders=pd.merge(orders, master, left_on=\"pd_c\", right_on=\"pd_c\", how='left').drop(['pd_add_nm'], axis=1).rename(columns={'clnt_id_x':'clnt_id'}, inplace=True) \n",
        "orders.head(2)"
      ],
      "execution_count": null,
      "outputs": [
        {
          "output_type": "execute_result",
          "data": {
            "text/html": [
              "<div>\n",
              "<style scoped>\n",
              "    .dataframe tbody tr th:only-of-type {\n",
              "        vertical-align: middle;\n",
              "    }\n",
              "\n",
              "    .dataframe tbody tr th {\n",
              "        vertical-align: top;\n",
              "    }\n",
              "\n",
              "    .dataframe thead th {\n",
              "        text-align: right;\n",
              "    }\n",
              "</style>\n",
              "<table border=\"1\" class=\"dataframe\">\n",
              "  <thead>\n",
              "    <tr style=\"text-align: right;\">\n",
              "      <th></th>\n",
              "      <th>clnt_id_x</th>\n",
              "      <th>sess_id</th>\n",
              "      <th>hits_seq</th>\n",
              "      <th>pd_c</th>\n",
              "      <th>pd_buy_am</th>\n",
              "      <th>pd_buy_ct</th>\n",
              "      <th>sess_seq</th>\n",
              "      <th>sess_dt</th>\n",
              "      <th>tot_pag_view_ct</th>\n",
              "      <th>tot_sess_hr_v</th>\n",
              "      <th>dvc_ctg_nm</th>\n",
              "      <th>zon_nm</th>\n",
              "      <th>city_nm</th>\n",
              "      <th>pd_nm</th>\n",
              "      <th>clac1_nm</th>\n",
              "      <th>clac2_nm</th>\n",
              "      <th>clac3_nm</th>\n",
              "    </tr>\n",
              "  </thead>\n",
              "  <tbody>\n",
              "    <tr>\n",
              "      <th>0</th>\n",
              "      <td>4139680</td>\n",
              "      <td>7605037</td>\n",
              "      <td>12</td>\n",
              "      <td>642112</td>\n",
              "      <td>39,000</td>\n",
              "      <td>1</td>\n",
              "      <td>1</td>\n",
              "      <td>20180526</td>\n",
              "      <td>21.0</td>\n",
              "      <td>902</td>\n",
              "      <td>desktop</td>\n",
              "      <td>Seoul</td>\n",
              "      <td>Seoul</td>\n",
              "      <td>크러쉬드 립칼라 - 플럼</td>\n",
              "      <td>화장품/뷰티케어</td>\n",
              "      <td>메이크업</td>\n",
              "      <td>블러셔/쉐이딩/하이라이터</td>\n",
              "    </tr>\n",
              "    <tr>\n",
              "      <th>1</th>\n",
              "      <td>4140076</td>\n",
              "      <td>10189797</td>\n",
              "      <td>13</td>\n",
              "      <td>570603</td>\n",
              "      <td>39,000</td>\n",
              "      <td>2</td>\n",
              "      <td>172</td>\n",
              "      <td>20180413</td>\n",
              "      <td>18.0</td>\n",
              "      <td>113</td>\n",
              "      <td>mobile</td>\n",
              "      <td>Gyeonggi-do</td>\n",
              "      <td>Icheon-si</td>\n",
              "      <td>[데상트] 스포츠베이직 빅로고 티셔츠 - DMGR_DMELANGE / 115</td>\n",
              "      <td>스포츠패션</td>\n",
              "      <td>남성일반스포츠의류</td>\n",
              "      <td>남성스포츠티셔츠</td>\n",
              "    </tr>\n",
              "  </tbody>\n",
              "</table>\n",
              "</div>"
            ],
            "text/plain": [
              "   clnt_id_x   sess_id  hits_seq  ...  clac1_nm   clac2_nm       clac3_nm\n",
              "0    4139680   7605037        12  ...  화장품/뷰티케어       메이크업  블러셔/쉐이딩/하이라이터\n",
              "1    4140076  10189797        13  ...     스포츠패션  남성일반스포츠의류       남성스포츠티셔츠\n",
              "\n",
              "[2 rows x 17 columns]"
            ]
          },
          "metadata": {
            "tags": []
          },
          "execution_count": 15
        }
      ]
    },
    {
      "cell_type": "code",
      "metadata": {
        "colab": {
          "base_uri": "https://localhost:8080/",
          "height": 171
        },
        "id": "w9sZwzs0xNU8",
        "outputId": "a0f90ee0-065d-4531-e382-7197809f33a4"
      },
      "source": [
        "orders=pd.merge(orders, customer, left_on=\"clnt_id\", right_on=\"clnt_id\", how='left')\n",
        "orders.head(2)"
      ],
      "execution_count": null,
      "outputs": [
        {
          "output_type": "execute_result",
          "data": {
            "text/html": [
              "<div>\n",
              "<style scoped>\n",
              "    .dataframe tbody tr th:only-of-type {\n",
              "        vertical-align: middle;\n",
              "    }\n",
              "\n",
              "    .dataframe tbody tr th {\n",
              "        vertical-align: top;\n",
              "    }\n",
              "\n",
              "    .dataframe thead th {\n",
              "        text-align: right;\n",
              "    }\n",
              "</style>\n",
              "<table border=\"1\" class=\"dataframe\">\n",
              "  <thead>\n",
              "    <tr style=\"text-align: right;\">\n",
              "      <th></th>\n",
              "      <th>clnt_id</th>\n",
              "      <th>sess_id</th>\n",
              "      <th>hits_seq</th>\n",
              "      <th>pd_c</th>\n",
              "      <th>pd_buy_am</th>\n",
              "      <th>pd_buy_ct</th>\n",
              "      <th>sess_seq</th>\n",
              "      <th>sess_dt</th>\n",
              "      <th>tot_pag_view_ct</th>\n",
              "      <th>tot_sess_hr_v</th>\n",
              "      <th>dvc_ctg_nm</th>\n",
              "      <th>zon_nm</th>\n",
              "      <th>city_nm</th>\n",
              "      <th>pd_nm</th>\n",
              "      <th>clac1_nm</th>\n",
              "      <th>clac2_nm</th>\n",
              "      <th>clac3_nm</th>\n",
              "      <th>clnt_gender</th>\n",
              "      <th>clnt_age</th>\n",
              "    </tr>\n",
              "  </thead>\n",
              "  <tbody>\n",
              "    <tr>\n",
              "      <th>0</th>\n",
              "      <td>4139680</td>\n",
              "      <td>7605037</td>\n",
              "      <td>12</td>\n",
              "      <td>642112</td>\n",
              "      <td>39,000</td>\n",
              "      <td>1</td>\n",
              "      <td>1</td>\n",
              "      <td>20180526</td>\n",
              "      <td>21.0</td>\n",
              "      <td>902</td>\n",
              "      <td>desktop</td>\n",
              "      <td>Seoul</td>\n",
              "      <td>Seoul</td>\n",
              "      <td>크러쉬드 립칼라 - 플럼</td>\n",
              "      <td>화장품/뷰티케어</td>\n",
              "      <td>메이크업</td>\n",
              "      <td>블러셔/쉐이딩/하이라이터</td>\n",
              "      <td>NaN</td>\n",
              "      <td>NaN</td>\n",
              "    </tr>\n",
              "    <tr>\n",
              "      <th>1</th>\n",
              "      <td>4140076</td>\n",
              "      <td>10189797</td>\n",
              "      <td>13</td>\n",
              "      <td>570603</td>\n",
              "      <td>39,000</td>\n",
              "      <td>2</td>\n",
              "      <td>172</td>\n",
              "      <td>20180413</td>\n",
              "      <td>18.0</td>\n",
              "      <td>113</td>\n",
              "      <td>mobile</td>\n",
              "      <td>Gyeonggi-do</td>\n",
              "      <td>Icheon-si</td>\n",
              "      <td>[데상트] 스포츠베이직 빅로고 티셔츠 - DMGR_DMELANGE / 115</td>\n",
              "      <td>스포츠패션</td>\n",
              "      <td>남성일반스포츠의류</td>\n",
              "      <td>남성스포츠티셔츠</td>\n",
              "      <td>F</td>\n",
              "      <td>40.0</td>\n",
              "    </tr>\n",
              "  </tbody>\n",
              "</table>\n",
              "</div>"
            ],
            "text/plain": [
              "   clnt_id   sess_id  hits_seq  ...       clac3_nm clnt_gender clnt_age\n",
              "0  4139680   7605037        12  ...  블러셔/쉐이딩/하이라이터         NaN      NaN\n",
              "1  4140076  10189797        13  ...       남성스포츠티셔츠           F     40.0\n",
              "\n",
              "[2 rows x 19 columns]"
            ]
          },
          "metadata": {
            "tags": []
          },
          "execution_count": 24
        }
      ]
    },
    {
      "cell_type": "markdown",
      "metadata": {
        "id": "26bFHUwd9SBe"
      },
      "source": [
        "- clnt gender / age 정보비회원으로 구매한경우 NaN"
      ]
    },
    {
      "cell_type": "code",
      "metadata": {
        "colab": {
          "base_uri": "https://localhost:8080/",
          "height": 171
        },
        "id": "SonvYvfixNNO",
        "outputId": "be94185e-16f9-4ff9-e10e-dd2b90240aee"
      },
      "source": [
        "orders.head(2)"
      ],
      "execution_count": null,
      "outputs": [
        {
          "output_type": "execute_result",
          "data": {
            "text/html": [
              "<div>\n",
              "<style scoped>\n",
              "    .dataframe tbody tr th:only-of-type {\n",
              "        vertical-align: middle;\n",
              "    }\n",
              "\n",
              "    .dataframe tbody tr th {\n",
              "        vertical-align: top;\n",
              "    }\n",
              "\n",
              "    .dataframe thead th {\n",
              "        text-align: right;\n",
              "    }\n",
              "</style>\n",
              "<table border=\"1\" class=\"dataframe\">\n",
              "  <thead>\n",
              "    <tr style=\"text-align: right;\">\n",
              "      <th></th>\n",
              "      <th>clnt_id</th>\n",
              "      <th>sess_id</th>\n",
              "      <th>hits_seq</th>\n",
              "      <th>pd_c</th>\n",
              "      <th>pd_buy_am</th>\n",
              "      <th>pd_buy_ct</th>\n",
              "      <th>sess_seq</th>\n",
              "      <th>sess_dt</th>\n",
              "      <th>tot_pag_view_ct</th>\n",
              "      <th>tot_sess_hr_v</th>\n",
              "      <th>dvc_ctg_nm</th>\n",
              "      <th>zon_nm</th>\n",
              "      <th>city_nm</th>\n",
              "      <th>pd_nm</th>\n",
              "      <th>clac1_nm</th>\n",
              "      <th>clac2_nm</th>\n",
              "      <th>clac3_nm</th>\n",
              "      <th>clnt_gender</th>\n",
              "      <th>clnt_age</th>\n",
              "    </tr>\n",
              "  </thead>\n",
              "  <tbody>\n",
              "    <tr>\n",
              "      <th>0</th>\n",
              "      <td>4139680</td>\n",
              "      <td>7605037</td>\n",
              "      <td>12</td>\n",
              "      <td>642112</td>\n",
              "      <td>39,000</td>\n",
              "      <td>1</td>\n",
              "      <td>1</td>\n",
              "      <td>20180526</td>\n",
              "      <td>21.0</td>\n",
              "      <td>902</td>\n",
              "      <td>desktop</td>\n",
              "      <td>Seoul</td>\n",
              "      <td>Seoul</td>\n",
              "      <td>크러쉬드 립칼라 - 플럼</td>\n",
              "      <td>화장품/뷰티케어</td>\n",
              "      <td>메이크업</td>\n",
              "      <td>블러셔/쉐이딩/하이라이터</td>\n",
              "      <td>NaN</td>\n",
              "      <td>NaN</td>\n",
              "    </tr>\n",
              "    <tr>\n",
              "      <th>1</th>\n",
              "      <td>4140076</td>\n",
              "      <td>10189797</td>\n",
              "      <td>13</td>\n",
              "      <td>570603</td>\n",
              "      <td>39,000</td>\n",
              "      <td>2</td>\n",
              "      <td>172</td>\n",
              "      <td>20180413</td>\n",
              "      <td>18.0</td>\n",
              "      <td>113</td>\n",
              "      <td>mobile</td>\n",
              "      <td>Gyeonggi-do</td>\n",
              "      <td>Icheon-si</td>\n",
              "      <td>[데상트] 스포츠베이직 빅로고 티셔츠 - DMGR_DMELANGE / 115</td>\n",
              "      <td>스포츠패션</td>\n",
              "      <td>남성일반스포츠의류</td>\n",
              "      <td>남성스포츠티셔츠</td>\n",
              "      <td>F</td>\n",
              "      <td>40.0</td>\n",
              "    </tr>\n",
              "  </tbody>\n",
              "</table>\n",
              "</div>"
            ],
            "text/plain": [
              "   clnt_id   sess_id  hits_seq  ...       clac3_nm clnt_gender clnt_age\n",
              "0  4139680   7605037        12  ...  블러셔/쉐이딩/하이라이터         NaN      NaN\n",
              "1  4140076  10189797        13  ...       남성스포츠티셔츠           F     40.0\n",
              "\n",
              "[2 rows x 19 columns]"
            ]
          },
          "metadata": {
            "tags": []
          },
          "execution_count": 37
        }
      ]
    },
    {
      "cell_type": "code",
      "metadata": {
        "colab": {
          "base_uri": "https://localhost:8080/"
        },
        "id": "2VcgYhqYxM2R",
        "outputId": "f4851014-989b-42b2-ff07-8682387761b9"
      },
      "source": [
        "orders.loc[0,'clnt_age']"
      ],
      "execution_count": null,
      "outputs": [
        {
          "output_type": "execute_result",
          "data": {
            "text/plain": [
              "nan"
            ]
          },
          "metadata": {
            "tags": []
          },
          "execution_count": 40
        }
      ]
    },
    {
      "cell_type": "code",
      "metadata": {
        "colab": {
          "base_uri": "https://localhost:8080/",
          "height": 46
        },
        "id": "BLuYzRJm-K7J",
        "outputId": "dd191b6a-c55e-4c72-c20c-80210cc59aad"
      },
      "source": [
        "orders[orders['clnt_age']=='nan']"
      ],
      "execution_count": null,
      "outputs": [
        {
          "output_type": "execute_result",
          "data": {
            "text/html": [
              "<div>\n",
              "<style scoped>\n",
              "    .dataframe tbody tr th:only-of-type {\n",
              "        vertical-align: middle;\n",
              "    }\n",
              "\n",
              "    .dataframe tbody tr th {\n",
              "        vertical-align: top;\n",
              "    }\n",
              "\n",
              "    .dataframe thead th {\n",
              "        text-align: right;\n",
              "    }\n",
              "</style>\n",
              "<table border=\"1\" class=\"dataframe\">\n",
              "  <thead>\n",
              "    <tr style=\"text-align: right;\">\n",
              "      <th></th>\n",
              "      <th>clnt_id</th>\n",
              "      <th>sess_id</th>\n",
              "      <th>hits_seq</th>\n",
              "      <th>pd_c</th>\n",
              "      <th>pd_buy_am</th>\n",
              "      <th>pd_buy_ct</th>\n",
              "      <th>sess_seq</th>\n",
              "      <th>sess_dt</th>\n",
              "      <th>tot_pag_view_ct</th>\n",
              "      <th>tot_sess_hr_v</th>\n",
              "      <th>dvc_ctg_nm</th>\n",
              "      <th>zon_nm</th>\n",
              "      <th>city_nm</th>\n",
              "      <th>pd_nm</th>\n",
              "      <th>clac1_nm</th>\n",
              "      <th>clac2_nm</th>\n",
              "      <th>clac3_nm</th>\n",
              "      <th>clnt_gender</th>\n",
              "      <th>clnt_age</th>\n",
              "    </tr>\n",
              "  </thead>\n",
              "  <tbody>\n",
              "  </tbody>\n",
              "</table>\n",
              "</div>"
            ],
            "text/plain": [
              "Empty DataFrame\n",
              "Columns: [clnt_id, sess_id, hits_seq, pd_c, pd_buy_am, pd_buy_ct, sess_seq, sess_dt, tot_pag_view_ct, tot_sess_hr_v, dvc_ctg_nm, zon_nm, city_nm, pd_nm, clac1_nm, clac2_nm, clac3_nm, clnt_gender, clnt_age]\n",
              "Index: []"
            ]
          },
          "metadata": {
            "tags": []
          },
          "execution_count": 43
        }
      ]
    },
    {
      "cell_type": "code",
      "metadata": {
        "id": "NT8zBUDQ-LOT"
      },
      "source": [
        ""
      ],
      "execution_count": null,
      "outputs": []
    },
    {
      "cell_type": "code",
      "metadata": {
        "id": "idvoQVtI-LaK"
      },
      "source": [
        ""
      ],
      "execution_count": null,
      "outputs": []
    },
    {
      "cell_type": "code",
      "metadata": {
        "id": "Dyv7XNbd-Lg_"
      },
      "source": [
        ""
      ],
      "execution_count": null,
      "outputs": []
    },
    {
      "cell_type": "code",
      "metadata": {
        "id": "158oTnFM-LlJ"
      },
      "source": [
        ""
      ],
      "execution_count": null,
      "outputs": []
    },
    {
      "cell_type": "code",
      "metadata": {
        "id": "YpK5KPMB-LpO"
      },
      "source": [
        ""
      ],
      "execution_count": null,
      "outputs": []
    },
    {
      "cell_type": "markdown",
      "metadata": {
        "id": "Z57KMjbMO7rt"
      },
      "source": [
        "# EDA Tasks\n"
      ]
    },
    {
      "cell_type": "markdown",
      "metadata": {
        "id": "gL3VRUSWPA4s"
      },
      "source": [
        "1. Check the target variable: Amount of attrition.\n",
        "\n",
        "2. Check the demographic variables: CUSTOMERRELATED\n",
        "  * Age vs attrition.\n",
        "  * Gender vs churn.\n",
        "  * Number of dependents vs churn.\n",
        "  * Education level vs churn.\n",
        "  * Marital status vs churn.\n",
        "  * Income category vs churn.\n",
        "\n",
        "3. Check the product variables:\n",
        "Type of card vs churn.\n",
        "Relationship with the bank vs churn.\n",
        "Number of products vs churn.\n",
        "Inactive months vs churn.\n",
        "Number of contacts vs churn.\n",
        "Credit Limit vs churn.\n",
        "Total resolving balance vs churn.\n",
        "Openness To Buy Credit Line vs churn.\n",
        "Transaction Amount Change vs churn.\n",
        "Transaction Count Change vs churn.\n",
        "Average Card Utilization Ratio vs churn."
      ]
    },
    {
      "cell_type": "code",
      "metadata": {
        "colab": {
          "base_uri": "https://localhost:8080/"
        },
        "id": "cc4IYD52fqlV",
        "outputId": "b835963c-5906-435c-dd8d-f9513f9837de"
      },
      "source": [
        "master.shape"
      ],
      "execution_count": null,
      "outputs": [
        {
          "output_type": "execute_result",
          "data": {
            "text/plain": [
              "(847634, 5)"
            ]
          },
          "metadata": {
            "tags": []
          },
          "execution_count": 13
        }
      ]
    },
    {
      "cell_type": "code",
      "metadata": {
        "colab": {
          "base_uri": "https://localhost:8080/",
          "height": 80
        },
        "id": "PpmDMGKtePy7",
        "outputId": "c212d9f8-ae34-463e-d5d5-d4b6cef8cae2"
      },
      "source": [
        "master.head(1)"
      ],
      "execution_count": null,
      "outputs": [
        {
          "output_type": "execute_result",
          "data": {
            "text/html": [
              "<div>\n",
              "<style scoped>\n",
              "    .dataframe tbody tr th:only-of-type {\n",
              "        vertical-align: middle;\n",
              "    }\n",
              "\n",
              "    .dataframe tbody tr th {\n",
              "        vertical-align: top;\n",
              "    }\n",
              "\n",
              "    .dataframe thead th {\n",
              "        text-align: right;\n",
              "    }\n",
              "</style>\n",
              "<table border=\"1\" class=\"dataframe\">\n",
              "  <thead>\n",
              "    <tr style=\"text-align: right;\">\n",
              "      <th></th>\n",
              "      <th>pd_c</th>\n",
              "      <th>pd_nm</th>\n",
              "      <th>clac1_nm</th>\n",
              "      <th>clac2_nm</th>\n",
              "      <th>clac3_nm</th>\n",
              "    </tr>\n",
              "  </thead>\n",
              "  <tbody>\n",
              "    <tr>\n",
              "      <th>0</th>\n",
              "      <td>64382</td>\n",
              "      <td>언더아머 남성 UA HG 아머 모크 LS 1289559-001 - 블랙 / MD[95]</td>\n",
              "      <td>스포츠패션</td>\n",
              "      <td>남성일반스포츠의류</td>\n",
              "      <td>남성스포츠티셔츠</td>\n",
              "    </tr>\n",
              "  </tbody>\n",
              "</table>\n",
              "</div>"
            ],
            "text/plain": [
              "    pd_c                                             pd_nm  ...   clac2_nm  clac3_nm\n",
              "0  64382  언더아머 남성 UA HG 아머 모크 LS 1289559-001 - 블랙 / MD[95]  ...  남성일반스포츠의류  남성스포츠티셔츠\n",
              "\n",
              "[1 rows x 5 columns]"
            ]
          },
          "metadata": {
            "tags": []
          },
          "execution_count": 14
        }
      ]
    },
    {
      "cell_type": "code",
      "metadata": {
        "colab": {
          "base_uri": "https://localhost:8080/",
          "height": 80
        },
        "id": "otgcZMe5Np_A",
        "outputId": "a3c4a670-d1b7-4780-d117-c37f4388781d"
      },
      "source": [
        "customer.head(1)"
      ],
      "execution_count": null,
      "outputs": [
        {
          "output_type": "execute_result",
          "data": {
            "text/html": [
              "<div>\n",
              "<style scoped>\n",
              "    .dataframe tbody tr th:only-of-type {\n",
              "        vertical-align: middle;\n",
              "    }\n",
              "\n",
              "    .dataframe tbody tr th {\n",
              "        vertical-align: top;\n",
              "    }\n",
              "\n",
              "    .dataframe thead th {\n",
              "        text-align: right;\n",
              "    }\n",
              "</style>\n",
              "<table border=\"1\" class=\"dataframe\">\n",
              "  <thead>\n",
              "    <tr style=\"text-align: right;\">\n",
              "      <th></th>\n",
              "      <th>CLNT_ID</th>\n",
              "      <th>CLNT_GENDER</th>\n",
              "      <th>CLNT_AGE</th>\n",
              "    </tr>\n",
              "  </thead>\n",
              "  <tbody>\n",
              "    <tr>\n",
              "      <th>0</th>\n",
              "      <td>4830726</td>\n",
              "      <td>F</td>\n",
              "      <td>30</td>\n",
              "    </tr>\n",
              "  </tbody>\n",
              "</table>\n",
              "</div>"
            ],
            "text/plain": [
              "   CLNT_ID CLNT_GENDER  CLNT_AGE\n",
              "0  4830726           F        30"
            ]
          },
          "metadata": {
            "tags": []
          },
          "execution_count": 15
        }
      ]
    },
    {
      "cell_type": "code",
      "metadata": {
        "colab": {
          "base_uri": "https://localhost:8080/",
          "height": 80
        },
        "id": "RrDkxYRjNqDK",
        "outputId": "09885ffa-f469-433b-8064-48d25c730429"
      },
      "source": [
        "search1.head(1)"
      ],
      "execution_count": null,
      "outputs": [
        {
          "output_type": "execute_result",
          "data": {
            "text/html": [
              "<div>\n",
              "<style scoped>\n",
              "    .dataframe tbody tr th:only-of-type {\n",
              "        vertical-align: middle;\n",
              "    }\n",
              "\n",
              "    .dataframe tbody tr th {\n",
              "        vertical-align: top;\n",
              "    }\n",
              "\n",
              "    .dataframe thead th {\n",
              "        text-align: right;\n",
              "    }\n",
              "</style>\n",
              "<table border=\"1\" class=\"dataframe\">\n",
              "  <thead>\n",
              "    <tr style=\"text-align: right;\">\n",
              "      <th></th>\n",
              "      <th>CLNT_ID</th>\n",
              "      <th>SESS_ID</th>\n",
              "      <th>KWD_NM</th>\n",
              "      <th>SEARCH_CNT</th>\n",
              "    </tr>\n",
              "  </thead>\n",
              "  <tbody>\n",
              "    <tr>\n",
              "      <th>0</th>\n",
              "      <td>5607714</td>\n",
              "      <td>7112876</td>\n",
              "      <td>빌리프 아이크림</td>\n",
              "      <td>6</td>\n",
              "    </tr>\n",
              "  </tbody>\n",
              "</table>\n",
              "</div>"
            ],
            "text/plain": [
              "   CLNT_ID  SESS_ID    KWD_NM  SEARCH_CNT\n",
              "0  5607714  7112876  빌리프 아이크림           6"
            ]
          },
          "metadata": {
            "tags": []
          },
          "execution_count": 16
        }
      ]
    },
    {
      "cell_type": "code",
      "metadata": {
        "colab": {
          "base_uri": "https://localhost:8080/",
          "height": 80
        },
        "id": "NSaV0INTNqF6",
        "outputId": "dac2978e-5a79-4c9f-ed64-b23aa1d6a3a0"
      },
      "source": [
        "search2.head(1)"
      ],
      "execution_count": null,
      "outputs": [
        {
          "output_type": "execute_result",
          "data": {
            "text/html": [
              "<div>\n",
              "<style scoped>\n",
              "    .dataframe tbody tr th:only-of-type {\n",
              "        vertical-align: middle;\n",
              "    }\n",
              "\n",
              "    .dataframe tbody tr th {\n",
              "        vertical-align: top;\n",
              "    }\n",
              "\n",
              "    .dataframe thead th {\n",
              "        text-align: right;\n",
              "    }\n",
              "</style>\n",
              "<table border=\"1\" class=\"dataframe\">\n",
              "  <thead>\n",
              "    <tr style=\"text-align: right;\">\n",
              "      <th></th>\n",
              "      <th>SESS_DT</th>\n",
              "      <th>KWD_NM</th>\n",
              "      <th>SEARCH_CNT</th>\n",
              "    </tr>\n",
              "  </thead>\n",
              "  <tbody>\n",
              "    <tr>\n",
              "      <th>0</th>\n",
              "      <td>20180407</td>\n",
              "      <td>닥스원피스</td>\n",
              "      <td>8</td>\n",
              "    </tr>\n",
              "  </tbody>\n",
              "</table>\n",
              "</div>"
            ],
            "text/plain": [
              "    SESS_DT KWD_NM SEARCH_CNT\n",
              "0  20180407  닥스원피스          8"
            ]
          },
          "metadata": {
            "tags": []
          },
          "execution_count": 17
        }
      ]
    },
    {
      "cell_type": "code",
      "metadata": {
        "id": "esLnBSeXaPZn",
        "colab": {
          "base_uri": "https://localhost:8080/",
          "height": 75
        },
        "outputId": "89c8f8e6-c437-43a7-bbe6-2149f8ab8dc6"
      },
      "source": [
        "session.head(1)"
      ],
      "execution_count": null,
      "outputs": [
        {
          "output_type": "execute_result",
          "data": {
            "text/html": [
              "<div>\n",
              "<style scoped>\n",
              "    .dataframe tbody tr th:only-of-type {\n",
              "        vertical-align: middle;\n",
              "    }\n",
              "\n",
              "    .dataframe tbody tr th {\n",
              "        vertical-align: top;\n",
              "    }\n",
              "\n",
              "    .dataframe thead th {\n",
              "        text-align: right;\n",
              "    }\n",
              "</style>\n",
              "<table border=\"1\" class=\"dataframe\">\n",
              "  <thead>\n",
              "    <tr style=\"text-align: right;\">\n",
              "      <th></th>\n",
              "      <th>clnt_id</th>\n",
              "      <th>sess_id</th>\n",
              "      <th>sess_seq</th>\n",
              "      <th>sess_dt</th>\n",
              "      <th>tot_pag_view_ct</th>\n",
              "      <th>tot_sess_hr_v</th>\n",
              "      <th>dvc_ctg_nm</th>\n",
              "      <th>zon_nm</th>\n",
              "      <th>city_nm</th>\n",
              "    </tr>\n",
              "  </thead>\n",
              "  <tbody>\n",
              "    <tr>\n",
              "      <th>0</th>\n",
              "      <td>5873599</td>\n",
              "      <td>8641867</td>\n",
              "      <td>9</td>\n",
              "      <td>20180509</td>\n",
              "      <td>82.0</td>\n",
              "      <td>1,890</td>\n",
              "      <td>mobile</td>\n",
              "      <td>Daejeon</td>\n",
              "      <td>Daejeon</td>\n",
              "    </tr>\n",
              "  </tbody>\n",
              "</table>\n",
              "</div>"
            ],
            "text/plain": [
              "   clnt_id  sess_id  sess_seq  ...  dvc_ctg_nm   zon_nm  city_nm\n",
              "0  5873599  8641867         9  ...      mobile  Daejeon  Daejeon\n",
              "\n",
              "[1 rows x 9 columns]"
            ]
          },
          "metadata": {
            "tags": []
          },
          "execution_count": 52
        }
      ]
    },
    {
      "cell_type": "code",
      "metadata": {
        "colab": {
          "base_uri": "https://localhost:8080/",
          "height": 80
        },
        "id": "MMLoyYhfOLAh",
        "outputId": "420a4a46-7b8a-4237-9822-44e0401f9732"
      },
      "source": [
        "product.head(1)"
      ],
      "execution_count": null,
      "outputs": [
        {
          "output_type": "execute_result",
          "data": {
            "text/html": [
              "<div>\n",
              "<style scoped>\n",
              "    .dataframe tbody tr th:only-of-type {\n",
              "        vertical-align: middle;\n",
              "    }\n",
              "\n",
              "    .dataframe tbody tr th {\n",
              "        vertical-align: top;\n",
              "    }\n",
              "\n",
              "    .dataframe thead th {\n",
              "        text-align: right;\n",
              "    }\n",
              "</style>\n",
              "<table border=\"1\" class=\"dataframe\">\n",
              "  <thead>\n",
              "    <tr style=\"text-align: right;\">\n",
              "      <th></th>\n",
              "      <th>CLNT_ID</th>\n",
              "      <th>SESS_ID</th>\n",
              "      <th>HITS_SEQ</th>\n",
              "      <th>PD_C</th>\n",
              "      <th>PD_ADD_NM</th>\n",
              "      <th>PD_BRA_NM</th>\n",
              "      <th>PD_BUY_AM</th>\n",
              "      <th>PD_BUY_CT</th>\n",
              "    </tr>\n",
              "  </thead>\n",
              "  <tbody>\n",
              "    <tr>\n",
              "      <th>0</th>\n",
              "      <td>4139680</td>\n",
              "      <td>7605037</td>\n",
              "      <td>12</td>\n",
              "      <td>642112</td>\n",
              "      <td>색상:워터멜론</td>\n",
              "      <td>[바비브라운]</td>\n",
              "      <td>39,000</td>\n",
              "      <td>1</td>\n",
              "    </tr>\n",
              "  </tbody>\n",
              "</table>\n",
              "</div>"
            ],
            "text/plain": [
              "   CLNT_ID  SESS_ID  HITS_SEQ    PD_C PD_ADD_NM PD_BRA_NM PD_BUY_AM PD_BUY_CT\n",
              "0  4139680  7605037        12  642112   색상:워터멜론   [바비브라운]    39,000         1"
            ]
          },
          "metadata": {
            "tags": []
          },
          "execution_count": 19
        }
      ]
    },
    {
      "cell_type": "code",
      "metadata": {
        "colab": {
          "base_uri": "https://localhost:8080/",
          "height": 80
        },
        "id": "NvCFlstrPX-M",
        "outputId": "d2e39d0d-4720-4013-ecac-30179424a0ca"
      },
      "source": [
        "product.head(1)"
      ],
      "execution_count": null,
      "outputs": [
        {
          "output_type": "execute_result",
          "data": {
            "text/html": [
              "<div>\n",
              "<style scoped>\n",
              "    .dataframe tbody tr th:only-of-type {\n",
              "        vertical-align: middle;\n",
              "    }\n",
              "\n",
              "    .dataframe tbody tr th {\n",
              "        vertical-align: top;\n",
              "    }\n",
              "\n",
              "    .dataframe thead th {\n",
              "        text-align: right;\n",
              "    }\n",
              "</style>\n",
              "<table border=\"1\" class=\"dataframe\">\n",
              "  <thead>\n",
              "    <tr style=\"text-align: right;\">\n",
              "      <th></th>\n",
              "      <th>clnt_id</th>\n",
              "      <th>sess_id</th>\n",
              "      <th>hits_seq</th>\n",
              "      <th>pd_c</th>\n",
              "      <th>pd_add_nm</th>\n",
              "      <th>pd_bra_nm</th>\n",
              "      <th>pd_buy_am</th>\n",
              "      <th>pd_buy_ct</th>\n",
              "    </tr>\n",
              "  </thead>\n",
              "  <tbody>\n",
              "    <tr>\n",
              "      <th>0</th>\n",
              "      <td>4139680</td>\n",
              "      <td>7605037</td>\n",
              "      <td>12</td>\n",
              "      <td>642112</td>\n",
              "      <td>색상:워터멜론</td>\n",
              "      <td>[바비브라운]</td>\n",
              "      <td>39,000</td>\n",
              "      <td>1</td>\n",
              "    </tr>\n",
              "  </tbody>\n",
              "</table>\n",
              "</div>"
            ],
            "text/plain": [
              "   clnt_id  sess_id  hits_seq    pd_c pd_add_nm pd_bra_nm pd_buy_am pd_buy_ct\n",
              "0  4139680  7605037        12  642112   색상:워터멜론   [바비브라운]    39,000         1"
            ]
          },
          "metadata": {
            "tags": []
          },
          "execution_count": 29
        }
      ]
    },
    {
      "cell_type": "code",
      "metadata": {
        "colab": {
          "base_uri": "https://localhost:8080/"
        },
        "id": "WCJ3PQyTcw7Q",
        "outputId": "3db93f11-6700-468b-8d17-da3c33de03d1"
      },
      "source": [
        "session.shape"
      ],
      "execution_count": null,
      "outputs": [
        {
          "output_type": "execute_result",
          "data": {
            "text/plain": [
              "(2712907, 9)"
            ]
          },
          "metadata": {
            "tags": []
          },
          "execution_count": 53
        }
      ]
    },
    {
      "cell_type": "code",
      "metadata": {
        "colab": {
          "base_uri": "https://localhost:8080/"
        },
        "id": "Hu7CBgIQczBT",
        "outputId": "baa367cf-97a0-472a-f1dc-dd185a7c1450"
      },
      "source": [
        "session.columns"
      ],
      "execution_count": null,
      "outputs": [
        {
          "output_type": "execute_result",
          "data": {
            "text/plain": [
              "Index(['clnt_id', 'sess_id', 'sess_seq', 'sess_dt', 'tot_pag_view_ct',\n",
              "       'tot_sess_hr_v', 'dvc_ctg_nm', 'zon_nm', 'city_nm'],\n",
              "      dtype='object')"
            ]
          },
          "metadata": {
            "tags": []
          },
          "execution_count": 54
        }
      ]
    },
    {
      "cell_type": "code",
      "metadata": {
        "colab": {
          "base_uri": "https://localhost:8080/"
        },
        "id": "j0iXuJ32a8RP",
        "outputId": "80fe6f7d-c455-40b3-dc7e-93b5b6d0b6bf"
      },
      "source": [
        "session.info() \n",
        "# date 변수 변환 필요 "
      ],
      "execution_count": null,
      "outputs": [
        {
          "output_type": "stream",
          "text": [
            "<class 'pandas.core.frame.DataFrame'>\n",
            "RangeIndex: 2712907 entries, 0 to 2712906\n",
            "Data columns (total 9 columns):\n",
            " #   Column           Dtype  \n",
            "---  ------           -----  \n",
            " 0   clnt_id          int64  \n",
            " 1   sess_id          int64  \n",
            " 2   sess_seq         int64  \n",
            " 3   sess_dt          int64  \n",
            " 4   tot_pag_view_ct  float64\n",
            " 5   tot_sess_hr_v    object \n",
            " 6   dvc_ctg_nm       object \n",
            " 7   zon_nm           object \n",
            " 8   city_nm          object \n",
            "dtypes: float64(1), int64(4), object(4)\n",
            "memory usage: 186.3+ MB\n"
          ],
          "name": "stdout"
        }
      ]
    },
    {
      "cell_type": "code",
      "metadata": {
        "colab": {
          "base_uri": "https://localhost:8080/",
          "height": 277
        },
        "id": "exRZQEE1a8c-",
        "outputId": "c94cd0ac-5154-4934-ecd4-30565b7d29d6"
      },
      "source": [
        "pd.set_option('float_format','{:f}'.format)\n",
        "session.describe()\n",
        "# 201804-201809 6개월 session 데이터 "
      ],
      "execution_count": null,
      "outputs": [
        {
          "output_type": "execute_result",
          "data": {
            "text/html": [
              "<div>\n",
              "<style scoped>\n",
              "    .dataframe tbody tr th:only-of-type {\n",
              "        vertical-align: middle;\n",
              "    }\n",
              "\n",
              "    .dataframe tbody tr th {\n",
              "        vertical-align: top;\n",
              "    }\n",
              "\n",
              "    .dataframe thead th {\n",
              "        text-align: right;\n",
              "    }\n",
              "</style>\n",
              "<table border=\"1\" class=\"dataframe\">\n",
              "  <thead>\n",
              "    <tr style=\"text-align: right;\">\n",
              "      <th></th>\n",
              "      <th>clnt_id</th>\n",
              "      <th>sess_id</th>\n",
              "      <th>sess_seq</th>\n",
              "      <th>sess_dt</th>\n",
              "      <th>tot_pag_view_ct</th>\n",
              "    </tr>\n",
              "  </thead>\n",
              "  <tbody>\n",
              "    <tr>\n",
              "      <th>count</th>\n",
              "      <td>2712907.000000</td>\n",
              "      <td>2712907.000000</td>\n",
              "      <td>2712907.000000</td>\n",
              "      <td>2712907.000000</td>\n",
              "      <td>2712633.000000</td>\n",
              "    </tr>\n",
              "    <tr>\n",
              "      <th>mean</th>\n",
              "      <td>3318866.710368</td>\n",
              "      <td>5796890.738461</td>\n",
              "      <td>178.130644</td>\n",
              "      <td>20180648.425562</td>\n",
              "      <td>85.167676</td>\n",
              "    </tr>\n",
              "    <tr>\n",
              "      <th>std</th>\n",
              "      <td>1914523.994231</td>\n",
              "      <td>3095032.611309</td>\n",
              "      <td>297.158311</td>\n",
              "      <td>166.288816</td>\n",
              "      <td>87.508775</td>\n",
              "    </tr>\n",
              "    <tr>\n",
              "      <th>min</th>\n",
              "      <td>8.000000</td>\n",
              "      <td>26.000000</td>\n",
              "      <td>1.000000</td>\n",
              "      <td>20180401.000000</td>\n",
              "      <td>1.000000</td>\n",
              "    </tr>\n",
              "    <tr>\n",
              "      <th>25%</th>\n",
              "      <td>1656959.000000</td>\n",
              "      <td>3220733.000000</td>\n",
              "      <td>14.000000</td>\n",
              "      <td>20180513.000000</td>\n",
              "      <td>29.000000</td>\n",
              "    </tr>\n",
              "    <tr>\n",
              "      <th>50%</th>\n",
              "      <td>3318627.000000</td>\n",
              "      <td>5967623.000000</td>\n",
              "      <td>59.000000</td>\n",
              "      <td>20180622.000000</td>\n",
              "      <td>55.000000</td>\n",
              "    </tr>\n",
              "    <tr>\n",
              "      <th>75%</th>\n",
              "      <td>4984705.500000</td>\n",
              "      <td>8421878.000000</td>\n",
              "      <td>211.000000</td>\n",
              "      <td>20180807.000000</td>\n",
              "      <td>108.000000</td>\n",
              "    </tr>\n",
              "    <tr>\n",
              "      <th>max</th>\n",
              "      <td>6592554.000000</td>\n",
              "      <td>10977941.000000</td>\n",
              "      <td>7020.000000</td>\n",
              "      <td>20180930.000000</td>\n",
              "      <td>499.000000</td>\n",
              "    </tr>\n",
              "  </tbody>\n",
              "</table>\n",
              "</div>"
            ],
            "text/plain": [
              "             clnt_id         sess_id  ...         sess_dt  tot_pag_view_ct\n",
              "count 2712907.000000  2712907.000000  ...  2712907.000000   2712633.000000\n",
              "mean  3318866.710368  5796890.738461  ... 20180648.425562        85.167676\n",
              "std   1914523.994231  3095032.611309  ...      166.288816        87.508775\n",
              "min         8.000000       26.000000  ... 20180401.000000         1.000000\n",
              "25%   1656959.000000  3220733.000000  ... 20180513.000000        29.000000\n",
              "50%   3318627.000000  5967623.000000  ... 20180622.000000        55.000000\n",
              "75%   4984705.500000  8421878.000000  ... 20180807.000000       108.000000\n",
              "max   6592554.000000 10977941.000000  ... 20180930.000000       499.000000\n",
              "\n",
              "[8 rows x 5 columns]"
            ]
          },
          "metadata": {
            "tags": []
          },
          "execution_count": 56
        }
      ]
    },
    {
      "cell_type": "code",
      "metadata": {
        "colab": {
          "base_uri": "https://localhost:8080/",
          "height": 277
        },
        "id": "3aDigTeFqisL",
        "outputId": "c46bfb7e-339c-49c0-e761-77f7b97dbb30"
      },
      "source": [
        "# date변수 str 변환 > apply lambda\n",
        "session['sess_dt']=session['sess_dt'].apply(lambda s : str(s)[0:10])\n",
        "session.describe()"
      ],
      "execution_count": null,
      "outputs": [
        {
          "output_type": "execute_result",
          "data": {
            "text/html": [
              "<div>\n",
              "<style scoped>\n",
              "    .dataframe tbody tr th:only-of-type {\n",
              "        vertical-align: middle;\n",
              "    }\n",
              "\n",
              "    .dataframe tbody tr th {\n",
              "        vertical-align: top;\n",
              "    }\n",
              "\n",
              "    .dataframe thead th {\n",
              "        text-align: right;\n",
              "    }\n",
              "</style>\n",
              "<table border=\"1\" class=\"dataframe\">\n",
              "  <thead>\n",
              "    <tr style=\"text-align: right;\">\n",
              "      <th></th>\n",
              "      <th>clnt_id</th>\n",
              "      <th>sess_id</th>\n",
              "      <th>sess_seq</th>\n",
              "      <th>tot_pag_view_ct</th>\n",
              "    </tr>\n",
              "  </thead>\n",
              "  <tbody>\n",
              "    <tr>\n",
              "      <th>count</th>\n",
              "      <td>2712907.000000</td>\n",
              "      <td>2712907.000000</td>\n",
              "      <td>2712907.000000</td>\n",
              "      <td>2712633.000000</td>\n",
              "    </tr>\n",
              "    <tr>\n",
              "      <th>mean</th>\n",
              "      <td>3318866.710368</td>\n",
              "      <td>5796890.738461</td>\n",
              "      <td>178.130644</td>\n",
              "      <td>85.167676</td>\n",
              "    </tr>\n",
              "    <tr>\n",
              "      <th>std</th>\n",
              "      <td>1914523.994231</td>\n",
              "      <td>3095032.611309</td>\n",
              "      <td>297.158311</td>\n",
              "      <td>87.508775</td>\n",
              "    </tr>\n",
              "    <tr>\n",
              "      <th>min</th>\n",
              "      <td>8.000000</td>\n",
              "      <td>26.000000</td>\n",
              "      <td>1.000000</td>\n",
              "      <td>1.000000</td>\n",
              "    </tr>\n",
              "    <tr>\n",
              "      <th>25%</th>\n",
              "      <td>1656959.000000</td>\n",
              "      <td>3220733.000000</td>\n",
              "      <td>14.000000</td>\n",
              "      <td>29.000000</td>\n",
              "    </tr>\n",
              "    <tr>\n",
              "      <th>50%</th>\n",
              "      <td>3318627.000000</td>\n",
              "      <td>5967623.000000</td>\n",
              "      <td>59.000000</td>\n",
              "      <td>55.000000</td>\n",
              "    </tr>\n",
              "    <tr>\n",
              "      <th>75%</th>\n",
              "      <td>4984705.500000</td>\n",
              "      <td>8421878.000000</td>\n",
              "      <td>211.000000</td>\n",
              "      <td>108.000000</td>\n",
              "    </tr>\n",
              "    <tr>\n",
              "      <th>max</th>\n",
              "      <td>6592554.000000</td>\n",
              "      <td>10977941.000000</td>\n",
              "      <td>7020.000000</td>\n",
              "      <td>499.000000</td>\n",
              "    </tr>\n",
              "  </tbody>\n",
              "</table>\n",
              "</div>"
            ],
            "text/plain": [
              "             clnt_id         sess_id       sess_seq  tot_pag_view_ct\n",
              "count 2712907.000000  2712907.000000 2712907.000000   2712633.000000\n",
              "mean  3318866.710368  5796890.738461     178.130644        85.167676\n",
              "std   1914523.994231  3095032.611309     297.158311        87.508775\n",
              "min         8.000000       26.000000       1.000000         1.000000\n",
              "25%   1656959.000000  3220733.000000      14.000000        29.000000\n",
              "50%   3318627.000000  5967623.000000      59.000000        55.000000\n",
              "75%   4984705.500000  8421878.000000     211.000000       108.000000\n",
              "max   6592554.000000 10977941.000000    7020.000000       499.000000"
            ]
          },
          "metadata": {
            "tags": []
          },
          "execution_count": 58
        }
      ]
    },
    {
      "cell_type": "markdown",
      "metadata": {
        "id": "bDEWJYxWvv0X"
      },
      "source": [
        "##2. Check the demographic variables: CUSTOMERRELATED\n",
        "  * Age vs attrition.\n",
        "  * Gender vs churn.\n",
        "  * Number of dependents vs churn.\n",
        "  * Education level vs churn.\n",
        "  * Marital status vs churn.\n",
        "  * Income category vs churn."
      ]
    },
    {
      "cell_type": "markdown",
      "metadata": {
        "id": "DSGtpK6QwK3h"
      },
      "source": [
        "***How many customer have churned ?***"
      ]
    },
    {
      "cell_type": "code",
      "metadata": {
        "id": "vf6X8FaDwGB2"
      },
      "source": [
        ""
      ],
      "execution_count": null,
      "outputs": []
    },
    {
      "cell_type": "markdown",
      "metadata": {
        "id": "IWxmQWFNst4Y"
      },
      "source": [
        "***How many Customers visit the site during the period ?***"
      ]
    },
    {
      "cell_type": "code",
      "metadata": {
        "colab": {
          "base_uri": "https://localhost:8080/"
        },
        "id": "Lfi80Z0ha8Zh",
        "outputId": "bf46e56f-7073-4217-9b10-d924bf2362c8"
      },
      "source": [
        "# session.iloc[:,0].unique\n",
        "visitors = session['clnt_id'].nunique()\n",
        "print('visitors:{}'.format(visitors))"
      ],
      "execution_count": null,
      "outputs": [
        {
          "output_type": "stream",
          "text": [
            "visitors:922737\n"
          ],
          "name": "stdout"
        }
      ]
    },
    {
      "cell_type": "markdown",
      "metadata": {
        "id": "EQEmEpAmtKey"
      },
      "source": [
        "***Visitors daily Trend : Does traffic flunctuate by date?***"
      ]
    },
    {
      "cell_type": "code",
      "metadata": {
        "colab": {
          "base_uri": "https://localhost:8080/",
          "height": 421
        },
        "id": "FbJrYt3ka8jV",
        "outputId": "5808b808-f1df-4dcf-ba0c-fcce32c1a601"
      },
      "source": [
        "session.drop_duplicates().groupby(['sess_dt'])['clnt_id'].agg(['count'])"
      ],
      "execution_count": null,
      "outputs": [
        {
          "output_type": "execute_result",
          "data": {
            "text/html": [
              "<div>\n",
              "<style scoped>\n",
              "    .dataframe tbody tr th:only-of-type {\n",
              "        vertical-align: middle;\n",
              "    }\n",
              "\n",
              "    .dataframe tbody tr th {\n",
              "        vertical-align: top;\n",
              "    }\n",
              "\n",
              "    .dataframe thead th {\n",
              "        text-align: right;\n",
              "    }\n",
              "</style>\n",
              "<table border=\"1\" class=\"dataframe\">\n",
              "  <thead>\n",
              "    <tr style=\"text-align: right;\">\n",
              "      <th></th>\n",
              "      <th>count</th>\n",
              "    </tr>\n",
              "    <tr>\n",
              "      <th>sess_dt</th>\n",
              "      <th></th>\n",
              "    </tr>\n",
              "  </thead>\n",
              "  <tbody>\n",
              "    <tr>\n",
              "      <th>20180401</th>\n",
              "      <td>19274</td>\n",
              "    </tr>\n",
              "    <tr>\n",
              "      <th>20180402</th>\n",
              "      <td>19775</td>\n",
              "    </tr>\n",
              "    <tr>\n",
              "      <th>20180403</th>\n",
              "      <td>18939</td>\n",
              "    </tr>\n",
              "    <tr>\n",
              "      <th>20180404</th>\n",
              "      <td>17879</td>\n",
              "    </tr>\n",
              "    <tr>\n",
              "      <th>20180405</th>\n",
              "      <td>16757</td>\n",
              "    </tr>\n",
              "    <tr>\n",
              "      <th>...</th>\n",
              "      <td>...</td>\n",
              "    </tr>\n",
              "    <tr>\n",
              "      <th>20180926</th>\n",
              "      <td>13361</td>\n",
              "    </tr>\n",
              "    <tr>\n",
              "      <th>20180927</th>\n",
              "      <td>13333</td>\n",
              "    </tr>\n",
              "    <tr>\n",
              "      <th>20180928</th>\n",
              "      <td>12667</td>\n",
              "    </tr>\n",
              "    <tr>\n",
              "      <th>20180929</th>\n",
              "      <td>12108</td>\n",
              "    </tr>\n",
              "    <tr>\n",
              "      <th>20180930</th>\n",
              "      <td>14106</td>\n",
              "    </tr>\n",
              "  </tbody>\n",
              "</table>\n",
              "<p>183 rows × 1 columns</p>\n",
              "</div>"
            ],
            "text/plain": [
              "          count\n",
              "sess_dt        \n",
              "20180401  19274\n",
              "20180402  19775\n",
              "20180403  18939\n",
              "20180404  17879\n",
              "20180405  16757\n",
              "...         ...\n",
              "20180926  13361\n",
              "20180927  13333\n",
              "20180928  12667\n",
              "20180929  12108\n",
              "20180930  14106\n",
              "\n",
              "[183 rows x 1 columns]"
            ]
          },
          "metadata": {
            "tags": []
          },
          "execution_count": 62
        }
      ]
    },
    {
      "cell_type": "code",
      "metadata": {
        "colab": {
          "base_uri": "https://localhost:8080/",
          "height": 441
        },
        "id": "BwT4xbfArWBn",
        "outputId": "653176fd-d427-48ec-c050-963f65dc7d8b"
      },
      "source": [
        "session.drop_duplicates().groupby(['SESS_DT'])['CLNT_ID'].agg(['count']).sort_values(by=['SESS_DT'],ascending=True)"
      ],
      "execution_count": null,
      "outputs": [
        {
          "output_type": "execute_result",
          "data": {
            "text/html": [
              "<div>\n",
              "<style scoped>\n",
              "    .dataframe tbody tr th:only-of-type {\n",
              "        vertical-align: middle;\n",
              "    }\n",
              "\n",
              "    .dataframe tbody tr th {\n",
              "        vertical-align: top;\n",
              "    }\n",
              "\n",
              "    .dataframe thead th {\n",
              "        text-align: right;\n",
              "    }\n",
              "</style>\n",
              "<table border=\"1\" class=\"dataframe\">\n",
              "  <thead>\n",
              "    <tr style=\"text-align: right;\">\n",
              "      <th></th>\n",
              "      <th>count</th>\n",
              "    </tr>\n",
              "    <tr>\n",
              "      <th>SESS_DT</th>\n",
              "      <th></th>\n",
              "    </tr>\n",
              "  </thead>\n",
              "  <tbody>\n",
              "    <tr>\n",
              "      <th>20180401</th>\n",
              "      <td>19274</td>\n",
              "    </tr>\n",
              "    <tr>\n",
              "      <th>20180402</th>\n",
              "      <td>19775</td>\n",
              "    </tr>\n",
              "    <tr>\n",
              "      <th>20180403</th>\n",
              "      <td>18939</td>\n",
              "    </tr>\n",
              "    <tr>\n",
              "      <th>20180404</th>\n",
              "      <td>17879</td>\n",
              "    </tr>\n",
              "    <tr>\n",
              "      <th>20180405</th>\n",
              "      <td>16757</td>\n",
              "    </tr>\n",
              "    <tr>\n",
              "      <th>...</th>\n",
              "      <td>...</td>\n",
              "    </tr>\n",
              "    <tr>\n",
              "      <th>20180926</th>\n",
              "      <td>13361</td>\n",
              "    </tr>\n",
              "    <tr>\n",
              "      <th>20180927</th>\n",
              "      <td>13333</td>\n",
              "    </tr>\n",
              "    <tr>\n",
              "      <th>20180928</th>\n",
              "      <td>12667</td>\n",
              "    </tr>\n",
              "    <tr>\n",
              "      <th>20180929</th>\n",
              "      <td>12108</td>\n",
              "    </tr>\n",
              "    <tr>\n",
              "      <th>20180930</th>\n",
              "      <td>14106</td>\n",
              "    </tr>\n",
              "  </tbody>\n",
              "</table>\n",
              "<p>183 rows × 1 columns</p>\n",
              "</div>"
            ],
            "text/plain": [
              "          count\n",
              "SESS_DT        \n",
              "20180401  19274\n",
              "20180402  19775\n",
              "20180403  18939\n",
              "20180404  17879\n",
              "20180405  16757\n",
              "...         ...\n",
              "20180926  13361\n",
              "20180927  13333\n",
              "20180928  12667\n",
              "20180929  12108\n",
              "20180930  14106\n",
              "\n",
              "[183 rows x 1 columns]"
            ]
          },
          "metadata": {
            "tags": []
          },
          "execution_count": 20
        }
      ]
    },
    {
      "cell_type": "code",
      "metadata": {
        "id": "gOEYkCuIsl1u"
      },
      "source": [
        "visitors_by_date = session.drop_duplicates().groupby(['SESS_DT'])['CLNT_ID'].agg(['count']).sort_values(by=['SESS_DT'],ascending=True)"
      ],
      "execution_count": null,
      "outputs": []
    },
    {
      "cell_type": "code",
      "metadata": {
        "id": "QDQR_z7VsmC0"
      },
      "source": [
        " from datetime import datetime"
      ],
      "execution_count": null,
      "outputs": []
    },
    {
      "cell_type": "code",
      "metadata": {
        "colab": {
          "base_uri": "https://localhost:8080/"
        },
        "id": "IUBLkD67sl5h",
        "outputId": "0287d8ae-6a64-4e56-d23a-b9547d05f2a6"
      },
      "source": [
        "pd.Series(visitors_by_date.index.values).apply(lambda s: datetime.strptime(s,'%Y%m%d').date())"
      ],
      "execution_count": null,
      "outputs": [
        {
          "output_type": "execute_result",
          "data": {
            "text/plain": [
              "0      2018-04-01\n",
              "1      2018-04-02\n",
              "2      2018-04-03\n",
              "3      2018-04-04\n",
              "4      2018-04-05\n",
              "          ...    \n",
              "178    2018-09-26\n",
              "179    2018-09-27\n",
              "180    2018-09-28\n",
              "181    2018-09-29\n",
              "182    2018-09-30\n",
              "Length: 183, dtype: object"
            ]
          },
          "metadata": {
            "tags": []
          },
          "execution_count": 29
        }
      ]
    },
    {
      "cell_type": "code",
      "metadata": {
        "colab": {
          "base_uri": "https://localhost:8080/"
        },
        "id": "Mp83D-JKtpRW",
        "outputId": "4ab7fc51-65da-4883-ebdc-09275c632bae"
      },
      "source": [
        "visitors_by_date['count']"
      ],
      "execution_count": null,
      "outputs": [
        {
          "output_type": "execute_result",
          "data": {
            "text/plain": [
              "SESS_DT\n",
              "20180401    19274\n",
              "20180402    19775\n",
              "20180403    18939\n",
              "20180404    17879\n",
              "20180405    16757\n",
              "            ...  \n",
              "20180926    13361\n",
              "20180927    13333\n",
              "20180928    12667\n",
              "20180929    12108\n",
              "20180930    14106\n",
              "Name: count, Length: 183, dtype: int64"
            ]
          },
          "metadata": {
            "tags": []
          },
          "execution_count": 30
        }
      ]
    },
    {
      "cell_type": "code",
      "metadata": {
        "colab": {
          "base_uri": "https://localhost:8080/",
          "height": 230
        },
        "id": "QtTmYkrrsmGX",
        "outputId": "6493b1aa-8f87-4911-c97f-303d8ae3f816"
      },
      "source": [
        "x = pd.Series(visitors_by_date.index.values).apply(lambda s: datetime.strptime(s,'%Y%m%d').date())\n",
        "y = visitors_by_date['count']\n",
        "plt.rcParams['figure.figsize']=(20,8)\n",
        "plt.plot(x,y)\n",
        "plt.show()"
      ],
      "execution_count": null,
      "outputs": [
        {
          "output_type": "error",
          "ename": "NameError",
          "evalue": "ignored",
          "traceback": [
            "\u001b[0;31m---------------------------------------------------------------------------\u001b[0m",
            "\u001b[0;31mNameError\u001b[0m                                 Traceback (most recent call last)",
            "\u001b[0;32m<ipython-input-51-ae49198d5e9f>\u001b[0m in \u001b[0;36m<module>\u001b[0;34m()\u001b[0m\n\u001b[0;32m----> 1\u001b[0;31m \u001b[0mx\u001b[0m \u001b[0;34m=\u001b[0m \u001b[0mpd\u001b[0m\u001b[0;34m.\u001b[0m\u001b[0mSeries\u001b[0m\u001b[0;34m(\u001b[0m\u001b[0mvisitors_by_date\u001b[0m\u001b[0;34m.\u001b[0m\u001b[0mindex\u001b[0m\u001b[0;34m.\u001b[0m\u001b[0mvalues\u001b[0m\u001b[0;34m)\u001b[0m\u001b[0;34m.\u001b[0m\u001b[0mapply\u001b[0m\u001b[0;34m(\u001b[0m\u001b[0;32mlambda\u001b[0m \u001b[0ms\u001b[0m\u001b[0;34m:\u001b[0m \u001b[0mdatetime\u001b[0m\u001b[0;34m.\u001b[0m\u001b[0mstrptime\u001b[0m\u001b[0;34m(\u001b[0m\u001b[0ms\u001b[0m\u001b[0;34m,\u001b[0m\u001b[0;34m'%Y%m%d'\u001b[0m\u001b[0;34m)\u001b[0m\u001b[0;34m.\u001b[0m\u001b[0mdate\u001b[0m\u001b[0;34m(\u001b[0m\u001b[0;34m)\u001b[0m\u001b[0;34m)\u001b[0m\u001b[0;34m\u001b[0m\u001b[0;34m\u001b[0m\u001b[0m\n\u001b[0m\u001b[1;32m      2\u001b[0m \u001b[0my\u001b[0m \u001b[0;34m=\u001b[0m \u001b[0mvisitors_by_date\u001b[0m\u001b[0;34m[\u001b[0m\u001b[0;34m'count'\u001b[0m\u001b[0;34m]\u001b[0m\u001b[0;34m\u001b[0m\u001b[0;34m\u001b[0m\u001b[0m\n\u001b[1;32m      3\u001b[0m \u001b[0mplt\u001b[0m\u001b[0;34m.\u001b[0m\u001b[0mrcParams\u001b[0m\u001b[0;34m[\u001b[0m\u001b[0;34m'figure.figsize'\u001b[0m\u001b[0;34m]\u001b[0m\u001b[0;34m=\u001b[0m\u001b[0;34m(\u001b[0m\u001b[0;36m20\u001b[0m\u001b[0;34m,\u001b[0m\u001b[0;36m8\u001b[0m\u001b[0;34m)\u001b[0m\u001b[0;34m\u001b[0m\u001b[0;34m\u001b[0m\u001b[0m\n\u001b[1;32m      4\u001b[0m \u001b[0mplt\u001b[0m\u001b[0;34m.\u001b[0m\u001b[0mplot\u001b[0m\u001b[0;34m(\u001b[0m\u001b[0mx\u001b[0m\u001b[0;34m,\u001b[0m\u001b[0my\u001b[0m\u001b[0;34m)\u001b[0m\u001b[0;34m\u001b[0m\u001b[0;34m\u001b[0m\u001b[0m\n\u001b[1;32m      5\u001b[0m \u001b[0mplt\u001b[0m\u001b[0;34m.\u001b[0m\u001b[0mshow\u001b[0m\u001b[0;34m(\u001b[0m\u001b[0;34m)\u001b[0m\u001b[0;34m\u001b[0m\u001b[0;34m\u001b[0m\u001b[0m\n",
            "\u001b[0;31mNameError\u001b[0m: name 'visitors_by_date' is not defined"
          ]
        }
      ]
    },
    {
      "cell_type": "code",
      "metadata": {
        "id": "ao2oAetLsmJV"
      },
      "source": [
        ""
      ],
      "execution_count": null,
      "outputs": []
    },
    {
      "cell_type": "code",
      "metadata": {
        "id": "eWWp2CKfsmUh"
      },
      "source": [
        ""
      ],
      "execution_count": null,
      "outputs": []
    },
    {
      "cell_type": "code",
      "metadata": {
        "id": "Y-UqLWQiuq_k"
      },
      "source": [
        ""
      ],
      "execution_count": null,
      "outputs": []
    },
    {
      "cell_type": "code",
      "metadata": {
        "id": "zI48-dlpurCM"
      },
      "source": [
        ""
      ],
      "execution_count": null,
      "outputs": []
    },
    {
      "cell_type": "code",
      "metadata": {
        "id": "XSOpOgz2urFC"
      },
      "source": [
        ""
      ],
      "execution_count": null,
      "outputs": []
    },
    {
      "cell_type": "code",
      "metadata": {
        "id": "pm32HjWdurI2"
      },
      "source": [
        ""
      ],
      "execution_count": null,
      "outputs": []
    },
    {
      "cell_type": "code",
      "metadata": {
        "id": "tFvZWthUurLN"
      },
      "source": [
        ""
      ],
      "execution_count": null,
      "outputs": []
    },
    {
      "cell_type": "code",
      "metadata": {
        "id": "yTVBB0rHurNw"
      },
      "source": [
        ""
      ],
      "execution_count": null,
      "outputs": []
    },
    {
      "cell_type": "code",
      "metadata": {
        "id": "9EmKvhbjurQG"
      },
      "source": [
        ""
      ],
      "execution_count": null,
      "outputs": []
    },
    {
      "cell_type": "code",
      "metadata": {
        "id": "abVMdNbzurTb"
      },
      "source": [
        ""
      ],
      "execution_count": null,
      "outputs": []
    },
    {
      "cell_type": "code",
      "metadata": {
        "id": "0YCqLfjIurV_"
      },
      "source": [
        ""
      ],
      "execution_count": null,
      "outputs": []
    },
    {
      "cell_type": "code",
      "metadata": {
        "id": "8HSuIALOurZ3"
      },
      "source": [
        ""
      ],
      "execution_count": null,
      "outputs": []
    },
    {
      "cell_type": "code",
      "metadata": {
        "id": "LJ08F3jfurco"
      },
      "source": [
        ""
      ],
      "execution_count": null,
      "outputs": []
    },
    {
      "cell_type": "code",
      "metadata": {
        "id": "t24MTrpkure_"
      },
      "source": [
        ""
      ],
      "execution_count": null,
      "outputs": []
    },
    {
      "cell_type": "code",
      "metadata": {
        "id": "oeHwjtjFurin"
      },
      "source": [
        ""
      ],
      "execution_count": null,
      "outputs": []
    },
    {
      "cell_type": "markdown",
      "metadata": {
        "id": "_Rzx3MvAurs0"
      },
      "source": [
        "*Feature Engineering*"
      ]
    },
    {
      "cell_type": "code",
      "metadata": {
        "id": "ZfYbmH3zuuw4"
      },
      "source": [
        ""
      ],
      "execution_count": null,
      "outputs": []
    }
  ]
}