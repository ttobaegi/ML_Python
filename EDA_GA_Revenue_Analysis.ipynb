{
  "nbformat": 4,
  "nbformat_minor": 0,
  "metadata": {
    "colab": {
      "name": "EDA_GA_Revenue_Analysis.ipynb",
      "provenance": [],
      "authorship_tag": "ABX9TyNfujLg70RzWX8pA+rltq6z",
      "include_colab_link": true
    },
    "kernelspec": {
      "name": "python3",
      "display_name": "Python 3"
    }
  },
  "cells": [
    {
      "cell_type": "markdown",
      "metadata": {
        "id": "view-in-github",
        "colab_type": "text"
      },
      "source": [
        "<a href=\"https://colab.research.google.com/github/ttobaegi/ML_Python/blob/master/EDA_GA_Revenue_Analysis.ipynb\" target=\"_parent\"><img src=\"https://colab.research.google.com/assets/colab-badge.svg\" alt=\"Open In Colab\"/></a>"
      ]
    },
    {
      "cell_type": "markdown",
      "metadata": {
        "id": "RG9PFMyvEqYr"
      },
      "source": [
        "#### Setting\r\n"
      ]
    },
    {
      "cell_type": "code",
      "metadata": {
        "colab": {
          "base_uri": "https://localhost:8080/",
          "height": 0
        },
        "id": "oNlH0YKAnFoU",
        "outputId": "234a23f0-1f3e-4b8f-83ec-5f9a69a419b4"
      },
      "source": [
        "import os \r\n",
        "import random\r\n",
        "\r\n",
        "import pandas as pd\r\n",
        "import numpy as np\r\n",
        "from scipy.stats import kurtosis, skew # explore some stats of numeric values\r\n",
        "\r\n",
        "import matplotlib.pyplot as plt\r\n",
        "import seaborn as sns\r\n",
        "#import squarify # to better understand proportion of categorys - treemap\r\n",
        "\r\n",
        "#importing libs to use on interactive graphs\r\n",
        "from plotly.offline import init_notebook_mode, iplot, plot\r\n",
        "import plotly.graph_objs as go\r\n",
        "\r\n",
        "# to convert json in df\r\n",
        "import json \r\n",
        "from pandas.io.json import json_normalize # to normalize the json file\r\n",
        "\r\n",
        "# graph setting\r\n",
        "plt.style.use('fivethirtyeight')\r\n",
        "init_notebook_mode(connected=True)"
      ],
      "execution_count": 5,
      "outputs": [
        {
          "output_type": "display_data",
          "data": {
            "text/html": [
              "        <script type=\"text/javascript\">\n",
              "        window.PlotlyConfig = {MathJaxConfig: 'local'};\n",
              "        if (window.MathJax) {MathJax.Hub.Config({SVG: {font: \"STIX-Web\"}});}\n",
              "        if (typeof require !== 'undefined') {\n",
              "        require.undef(\"plotly\");\n",
              "        requirejs.config({\n",
              "            paths: {\n",
              "                'plotly': ['https://cdn.plot.ly/plotly-latest.min']\n",
              "            }\n",
              "        });\n",
              "        require(['plotly'], function(Plotly) {\n",
              "            window._Plotly = Plotly;\n",
              "        });\n",
              "        }\n",
              "        </script>\n",
              "        "
            ]
          },
          "metadata": {
            "tags": []
          }
        }
      ]
    },
    {
      "cell_type": "code",
      "metadata": {
        "colab": {
          "base_uri": "https://localhost:8080/"
        },
        "id": "2rUDreBZEp3m",
        "outputId": "d2471791-8712-4d74-e241-e08a2aebedd0"
      },
      "source": [
        "from google.colab import drive\r\n",
        "drive.mount('/content/drive')"
      ],
      "execution_count": 2,
      "outputs": [
        {
          "output_type": "stream",
          "text": [
            "Drive already mounted at /content/drive; to attempt to forcibly remount, call drive.mount(\"/content/drive\", force_remount=True).\n"
          ],
          "name": "stdout"
        }
      ]
    },
    {
      "cell_type": "code",
      "metadata": {
        "id": "rcZDCTrvnCRp"
      },
      "source": [
        "columns = ['device', 'geoNetwork', 'totals', 'trafficSource'] # Columns that have json format\r\n",
        "\r\n",
        "dir_path = \"/content/drive/MyDrive/ML/GA_Revenue_Analysis/\" # you can change to your local \r\n",
        "\r\n",
        "# p is a fractional number to skiprows and read just a random sample of the our dataset. \r\n",
        "p = 0.07 # *** In this case we will use 50% of data set *** #\r\n",
        "\r\n",
        "#Code to transform the json format columns in table\r\n",
        "def json_read(df):\r\n",
        "    #joining the [ path + df received]\r\n",
        "    data_frame = dir_path + df\r\n",
        "    \r\n",
        "    #Importing the dataset\r\n",
        "    df = pd.read_csv(data_frame, \r\n",
        "                     converters={column: json.loads for column in columns}, # loading the json columns properly\r\n",
        "                     dtype={'fullVisitorId': 'str'}, # transforming this column to string\r\n",
        "                     skiprows=lambda i: i>0 and random.random() > p)# Number of rows that will be imported randomly\r\n",
        "    \r\n",
        "    for column in columns: #loop to finally transform the columns in data frame\r\n",
        "        #It will normalize and set the json to a table\r\n",
        "        column_as_df = json_normalize(df[column]) \r\n",
        "        # here will be set the name using the category and subcategory of json columns\r\n",
        "        column_as_df.columns = [f\"{column}.{subcolumn}\" for subcolumn in column_as_df.columns] \r\n",
        "        # after extracting the values, let drop the original columns\r\n",
        "        df = df.drop(column, axis=1).merge(column_as_df, right_index=True, left_index=True)\r\n",
        "        \r\n",
        "    # Printing the shape of dataframes that was imported     \r\n",
        "    print(f\"Loaded {os.path.basename(data_frame)}. Shape: {df.shape}\")\r\n",
        "    return df # returning the df after importing and transforming"
      ],
      "execution_count": 7,
      "outputs": []
    },
    {
      "cell_type": "code",
      "metadata": {
        "colab": {
          "base_uri": "https://localhost:8080/"
        },
        "id": "DK3YF0zdop8s",
        "outputId": "7d4a06dd-ab10-4928-ab8c-2084450d481a"
      },
      "source": [
        "%%time \r\n",
        "# %%time is used to calculate the timing of code chunk execution #\r\n",
        "\r\n",
        "# We will import the data using the name and extension that will be concatenated with dir_path\r\n",
        "df_train = json_read('train.csv') \r\n",
        "# The same to test dataset\r\n",
        "#df_test = json_read(\"test.csv\") "
      ],
      "execution_count": 8,
      "outputs": [
        {
          "output_type": "stream",
          "text": [
            "/usr/local/lib/python3.7/dist-packages/ipykernel_launcher.py:21: FutureWarning:\n",
            "\n",
            "pandas.io.json.json_normalize is deprecated, use pandas.json_normalize instead\n",
            "\n"
          ],
          "name": "stderr"
        },
        {
          "output_type": "stream",
          "text": [
            "Loaded train.csv. Shape: (62861, 54)\n",
            "CPU times: user 12.7 s, sys: 1.54 s, total: 14.2 s\n",
            "Wall time: 33.5 s\n"
          ],
          "name": "stdout"
        }
      ]
    },
    {
      "cell_type": "code",
      "metadata": {
        "colab": {
          "base_uri": "https://localhost:8080/"
        },
        "id": "AB9Wg201FNVf",
        "outputId": "f3bb5a88-4f4c-4db9-eacc-1d192d730afa"
      },
      "source": [
        "df = df_train \r\n",
        "df.shape"
      ],
      "execution_count": 9,
      "outputs": [
        {
          "output_type": "execute_result",
          "data": {
            "text/plain": [
              "(62861, 54)"
            ]
          },
          "metadata": {
            "tags": []
          },
          "execution_count": 9
        }
      ]
    },
    {
      "cell_type": "code",
      "metadata": {
        "colab": {
          "base_uri": "https://localhost:8080/",
          "height": 0
        },
        "id": "ruOfYDnBotVX",
        "outputId": "23efe432-6913-4200-f3e6-d5f0efee9b5d"
      },
      "source": [
        "df.tail()"
      ],
      "execution_count": 10,
      "outputs": [
        {
          "output_type": "execute_result",
          "data": {
            "text/html": [
              "<div>\n",
              "<style scoped>\n",
              "    .dataframe tbody tr th:only-of-type {\n",
              "        vertical-align: middle;\n",
              "    }\n",
              "\n",
              "    .dataframe tbody tr th {\n",
              "        vertical-align: top;\n",
              "    }\n",
              "\n",
              "    .dataframe thead th {\n",
              "        text-align: right;\n",
              "    }\n",
              "</style>\n",
              "<table border=\"1\" class=\"dataframe\">\n",
              "  <thead>\n",
              "    <tr style=\"text-align: right;\">\n",
              "      <th></th>\n",
              "      <th>channelGrouping</th>\n",
              "      <th>date</th>\n",
              "      <th>fullVisitorId</th>\n",
              "      <th>sessionId</th>\n",
              "      <th>socialEngagementType</th>\n",
              "      <th>visitId</th>\n",
              "      <th>visitNumber</th>\n",
              "      <th>visitStartTime</th>\n",
              "      <th>device.browser</th>\n",
              "      <th>device.browserVersion</th>\n",
              "      <th>device.browserSize</th>\n",
              "      <th>device.operatingSystem</th>\n",
              "      <th>device.operatingSystemVersion</th>\n",
              "      <th>device.isMobile</th>\n",
              "      <th>device.mobileDeviceBranding</th>\n",
              "      <th>device.mobileDeviceModel</th>\n",
              "      <th>device.mobileInputSelector</th>\n",
              "      <th>device.mobileDeviceInfo</th>\n",
              "      <th>device.mobileDeviceMarketingName</th>\n",
              "      <th>device.flashVersion</th>\n",
              "      <th>device.language</th>\n",
              "      <th>device.screenColors</th>\n",
              "      <th>device.screenResolution</th>\n",
              "      <th>device.deviceCategory</th>\n",
              "      <th>geoNetwork.continent</th>\n",
              "      <th>geoNetwork.subContinent</th>\n",
              "      <th>geoNetwork.country</th>\n",
              "      <th>geoNetwork.region</th>\n",
              "      <th>geoNetwork.metro</th>\n",
              "      <th>geoNetwork.city</th>\n",
              "      <th>geoNetwork.cityId</th>\n",
              "      <th>geoNetwork.networkDomain</th>\n",
              "      <th>geoNetwork.latitude</th>\n",
              "      <th>geoNetwork.longitude</th>\n",
              "      <th>geoNetwork.networkLocation</th>\n",
              "      <th>totals.visits</th>\n",
              "      <th>totals.hits</th>\n",
              "      <th>totals.pageviews</th>\n",
              "      <th>totals.bounces</th>\n",
              "      <th>totals.newVisits</th>\n",
              "      <th>totals.transactionRevenue</th>\n",
              "      <th>trafficSource.campaign</th>\n",
              "      <th>trafficSource.source</th>\n",
              "      <th>trafficSource.medium</th>\n",
              "      <th>trafficSource.keyword</th>\n",
              "      <th>trafficSource.adwordsClickInfo.criteriaParameters</th>\n",
              "      <th>trafficSource.referralPath</th>\n",
              "      <th>trafficSource.isTrueDirect</th>\n",
              "      <th>trafficSource.adwordsClickInfo.page</th>\n",
              "      <th>trafficSource.adwordsClickInfo.slot</th>\n",
              "      <th>trafficSource.adwordsClickInfo.gclId</th>\n",
              "      <th>trafficSource.adwordsClickInfo.adNetworkType</th>\n",
              "      <th>trafficSource.adwordsClickInfo.isVideoAd</th>\n",
              "      <th>trafficSource.adContent</th>\n",
              "    </tr>\n",
              "  </thead>\n",
              "  <tbody>\n",
              "    <tr>\n",
              "      <th>62856</th>\n",
              "      <td>Social</td>\n",
              "      <td>20170104</td>\n",
              "      <td>4676831114906257190</td>\n",
              "      <td>4676831114906257190_1483526811</td>\n",
              "      <td>Not Socially Engaged</td>\n",
              "      <td>1483526811</td>\n",
              "      <td>1</td>\n",
              "      <td>1483526811</td>\n",
              "      <td>Chrome</td>\n",
              "      <td>not available in demo dataset</td>\n",
              "      <td>not available in demo dataset</td>\n",
              "      <td>Windows</td>\n",
              "      <td>not available in demo dataset</td>\n",
              "      <td>False</td>\n",
              "      <td>not available in demo dataset</td>\n",
              "      <td>not available in demo dataset</td>\n",
              "      <td>not available in demo dataset</td>\n",
              "      <td>not available in demo dataset</td>\n",
              "      <td>not available in demo dataset</td>\n",
              "      <td>not available in demo dataset</td>\n",
              "      <td>not available in demo dataset</td>\n",
              "      <td>not available in demo dataset</td>\n",
              "      <td>not available in demo dataset</td>\n",
              "      <td>desktop</td>\n",
              "      <td>Asia</td>\n",
              "      <td>Southern Asia</td>\n",
              "      <td>India</td>\n",
              "      <td>not available in demo dataset</td>\n",
              "      <td>not available in demo dataset</td>\n",
              "      <td>not available in demo dataset</td>\n",
              "      <td>not available in demo dataset</td>\n",
              "      <td>unknown.unknown</td>\n",
              "      <td>not available in demo dataset</td>\n",
              "      <td>not available in demo dataset</td>\n",
              "      <td>not available in demo dataset</td>\n",
              "      <td>1</td>\n",
              "      <td>2</td>\n",
              "      <td>2</td>\n",
              "      <td>NaN</td>\n",
              "      <td>1</td>\n",
              "      <td>NaN</td>\n",
              "      <td>(not set)</td>\n",
              "      <td>youtube.com</td>\n",
              "      <td>referral</td>\n",
              "      <td>NaN</td>\n",
              "      <td>not available in demo dataset</td>\n",
              "      <td>/yt/about/</td>\n",
              "      <td>NaN</td>\n",
              "      <td>NaN</td>\n",
              "      <td>NaN</td>\n",
              "      <td>NaN</td>\n",
              "      <td>NaN</td>\n",
              "      <td>NaN</td>\n",
              "      <td>NaN</td>\n",
              "    </tr>\n",
              "    <tr>\n",
              "      <th>62857</th>\n",
              "      <td>Social</td>\n",
              "      <td>20170104</td>\n",
              "      <td>2042198043275420503</td>\n",
              "      <td>2042198043275420503_1483540075</td>\n",
              "      <td>Not Socially Engaged</td>\n",
              "      <td>1483540075</td>\n",
              "      <td>1</td>\n",
              "      <td>1483540075</td>\n",
              "      <td>Edge</td>\n",
              "      <td>not available in demo dataset</td>\n",
              "      <td>not available in demo dataset</td>\n",
              "      <td>Windows</td>\n",
              "      <td>not available in demo dataset</td>\n",
              "      <td>False</td>\n",
              "      <td>not available in demo dataset</td>\n",
              "      <td>not available in demo dataset</td>\n",
              "      <td>not available in demo dataset</td>\n",
              "      <td>not available in demo dataset</td>\n",
              "      <td>not available in demo dataset</td>\n",
              "      <td>not available in demo dataset</td>\n",
              "      <td>not available in demo dataset</td>\n",
              "      <td>not available in demo dataset</td>\n",
              "      <td>not available in demo dataset</td>\n",
              "      <td>desktop</td>\n",
              "      <td>Europe</td>\n",
              "      <td>Southern Europe</td>\n",
              "      <td>Italy</td>\n",
              "      <td>not available in demo dataset</td>\n",
              "      <td>not available in demo dataset</td>\n",
              "      <td>not available in demo dataset</td>\n",
              "      <td>not available in demo dataset</td>\n",
              "      <td>telecomitalia.it</td>\n",
              "      <td>not available in demo dataset</td>\n",
              "      <td>not available in demo dataset</td>\n",
              "      <td>not available in demo dataset</td>\n",
              "      <td>1</td>\n",
              "      <td>3</td>\n",
              "      <td>3</td>\n",
              "      <td>NaN</td>\n",
              "      <td>1</td>\n",
              "      <td>NaN</td>\n",
              "      <td>(not set)</td>\n",
              "      <td>youtube.com</td>\n",
              "      <td>referral</td>\n",
              "      <td>NaN</td>\n",
              "      <td>not available in demo dataset</td>\n",
              "      <td>/yt/about/it/</td>\n",
              "      <td>NaN</td>\n",
              "      <td>NaN</td>\n",
              "      <td>NaN</td>\n",
              "      <td>NaN</td>\n",
              "      <td>NaN</td>\n",
              "      <td>NaN</td>\n",
              "      <td>NaN</td>\n",
              "    </tr>\n",
              "    <tr>\n",
              "      <th>62858</th>\n",
              "      <td>Social</td>\n",
              "      <td>20170104</td>\n",
              "      <td>7660319315190231588</td>\n",
              "      <td>7660319315190231588_1483548841</td>\n",
              "      <td>Not Socially Engaged</td>\n",
              "      <td>1483548841</td>\n",
              "      <td>1</td>\n",
              "      <td>1483548841</td>\n",
              "      <td>Chrome</td>\n",
              "      <td>not available in demo dataset</td>\n",
              "      <td>not available in demo dataset</td>\n",
              "      <td>Windows</td>\n",
              "      <td>not available in demo dataset</td>\n",
              "      <td>False</td>\n",
              "      <td>not available in demo dataset</td>\n",
              "      <td>not available in demo dataset</td>\n",
              "      <td>not available in demo dataset</td>\n",
              "      <td>not available in demo dataset</td>\n",
              "      <td>not available in demo dataset</td>\n",
              "      <td>not available in demo dataset</td>\n",
              "      <td>not available in demo dataset</td>\n",
              "      <td>not available in demo dataset</td>\n",
              "      <td>not available in demo dataset</td>\n",
              "      <td>desktop</td>\n",
              "      <td>Europe</td>\n",
              "      <td>Southern Europe</td>\n",
              "      <td>Serbia</td>\n",
              "      <td>not available in demo dataset</td>\n",
              "      <td>not available in demo dataset</td>\n",
              "      <td>not available in demo dataset</td>\n",
              "      <td>not available in demo dataset</td>\n",
              "      <td>sbb.rs</td>\n",
              "      <td>not available in demo dataset</td>\n",
              "      <td>not available in demo dataset</td>\n",
              "      <td>not available in demo dataset</td>\n",
              "      <td>1</td>\n",
              "      <td>5</td>\n",
              "      <td>5</td>\n",
              "      <td>NaN</td>\n",
              "      <td>1</td>\n",
              "      <td>NaN</td>\n",
              "      <td>(not set)</td>\n",
              "      <td>youtube.com</td>\n",
              "      <td>referral</td>\n",
              "      <td>NaN</td>\n",
              "      <td>not available in demo dataset</td>\n",
              "      <td>/yt/about/</td>\n",
              "      <td>NaN</td>\n",
              "      <td>NaN</td>\n",
              "      <td>NaN</td>\n",
              "      <td>NaN</td>\n",
              "      <td>NaN</td>\n",
              "      <td>NaN</td>\n",
              "      <td>NaN</td>\n",
              "    </tr>\n",
              "    <tr>\n",
              "      <th>62859</th>\n",
              "      <td>Social</td>\n",
              "      <td>20170104</td>\n",
              "      <td>168043908052904808</td>\n",
              "      <td>168043908052904808_1483541485</td>\n",
              "      <td>Not Socially Engaged</td>\n",
              "      <td>1483541485</td>\n",
              "      <td>1</td>\n",
              "      <td>1483541485</td>\n",
              "      <td>Chrome</td>\n",
              "      <td>not available in demo dataset</td>\n",
              "      <td>not available in demo dataset</td>\n",
              "      <td>Windows</td>\n",
              "      <td>not available in demo dataset</td>\n",
              "      <td>False</td>\n",
              "      <td>not available in demo dataset</td>\n",
              "      <td>not available in demo dataset</td>\n",
              "      <td>not available in demo dataset</td>\n",
              "      <td>not available in demo dataset</td>\n",
              "      <td>not available in demo dataset</td>\n",
              "      <td>not available in demo dataset</td>\n",
              "      <td>not available in demo dataset</td>\n",
              "      <td>not available in demo dataset</td>\n",
              "      <td>not available in demo dataset</td>\n",
              "      <td>desktop</td>\n",
              "      <td>Europe</td>\n",
              "      <td>Southern Europe</td>\n",
              "      <td>Italy</td>\n",
              "      <td>not available in demo dataset</td>\n",
              "      <td>not available in demo dataset</td>\n",
              "      <td>not available in demo dataset</td>\n",
              "      <td>not available in demo dataset</td>\n",
              "      <td>electrosystem.com</td>\n",
              "      <td>not available in demo dataset</td>\n",
              "      <td>not available in demo dataset</td>\n",
              "      <td>not available in demo dataset</td>\n",
              "      <td>1</td>\n",
              "      <td>7</td>\n",
              "      <td>7</td>\n",
              "      <td>NaN</td>\n",
              "      <td>1</td>\n",
              "      <td>NaN</td>\n",
              "      <td>(not set)</td>\n",
              "      <td>quora.com</td>\n",
              "      <td>referral</td>\n",
              "      <td>NaN</td>\n",
              "      <td>not available in demo dataset</td>\n",
              "      <td>/Where-can-I-buy-a-stuffed-Go-language-gopher-...</td>\n",
              "      <td>NaN</td>\n",
              "      <td>NaN</td>\n",
              "      <td>NaN</td>\n",
              "      <td>NaN</td>\n",
              "      <td>NaN</td>\n",
              "      <td>NaN</td>\n",
              "      <td>NaN</td>\n",
              "    </tr>\n",
              "    <tr>\n",
              "      <th>62860</th>\n",
              "      <td>Social</td>\n",
              "      <td>20170104</td>\n",
              "      <td>567297396362985009</td>\n",
              "      <td>567297396362985009_1483581760</td>\n",
              "      <td>Not Socially Engaged</td>\n",
              "      <td>1483581760</td>\n",
              "      <td>1</td>\n",
              "      <td>1483581760</td>\n",
              "      <td>Chrome</td>\n",
              "      <td>not available in demo dataset</td>\n",
              "      <td>not available in demo dataset</td>\n",
              "      <td>iOS</td>\n",
              "      <td>not available in demo dataset</td>\n",
              "      <td>True</td>\n",
              "      <td>not available in demo dataset</td>\n",
              "      <td>not available in demo dataset</td>\n",
              "      <td>not available in demo dataset</td>\n",
              "      <td>not available in demo dataset</td>\n",
              "      <td>not available in demo dataset</td>\n",
              "      <td>not available in demo dataset</td>\n",
              "      <td>not available in demo dataset</td>\n",
              "      <td>not available in demo dataset</td>\n",
              "      <td>not available in demo dataset</td>\n",
              "      <td>tablet</td>\n",
              "      <td>Oceania</td>\n",
              "      <td>Australasia</td>\n",
              "      <td>Australia</td>\n",
              "      <td>Victoria</td>\n",
              "      <td>(not set)</td>\n",
              "      <td>Melbourne</td>\n",
              "      <td>not available in demo dataset</td>\n",
              "      <td>optusnet.com.au</td>\n",
              "      <td>not available in demo dataset</td>\n",
              "      <td>not available in demo dataset</td>\n",
              "      <td>not available in demo dataset</td>\n",
              "      <td>1</td>\n",
              "      <td>15</td>\n",
              "      <td>12</td>\n",
              "      <td>NaN</td>\n",
              "      <td>1</td>\n",
              "      <td>NaN</td>\n",
              "      <td>(not set)</td>\n",
              "      <td>youtube.com</td>\n",
              "      <td>referral</td>\n",
              "      <td>NaN</td>\n",
              "      <td>not available in demo dataset</td>\n",
              "      <td>/yt/about/</td>\n",
              "      <td>NaN</td>\n",
              "      <td>NaN</td>\n",
              "      <td>NaN</td>\n",
              "      <td>NaN</td>\n",
              "      <td>NaN</td>\n",
              "      <td>NaN</td>\n",
              "      <td>NaN</td>\n",
              "    </tr>\n",
              "  </tbody>\n",
              "</table>\n",
              "</div>"
            ],
            "text/plain": [
              "      channelGrouping  ...  trafficSource.adContent\n",
              "62856          Social  ...                      NaN\n",
              "62857          Social  ...                      NaN\n",
              "62858          Social  ...                      NaN\n",
              "62859          Social  ...                      NaN\n",
              "62860          Social  ...                      NaN\n",
              "\n",
              "[5 rows x 54 columns]"
            ]
          },
          "metadata": {
            "tags": []
          },
          "execution_count": 10
        }
      ]
    },
    {
      "cell_type": "markdown",
      "metadata": {
        "id": "xqClyy1lquns"
      },
      "source": [
        "#### DATA"
      ]
    },
    {
      "cell_type": "code",
      "metadata": {
        "colab": {
          "base_uri": "https://localhost:8080/"
        },
        "id": "gnRAyyYUo8KR",
        "outputId": "f5b88915-be45-4f5c-a1c8-f44cba4414ec"
      },
      "source": [
        "df.columns"
      ],
      "execution_count": 11,
      "outputs": [
        {
          "output_type": "execute_result",
          "data": {
            "text/plain": [
              "Index(['channelGrouping', 'date', 'fullVisitorId', 'sessionId',\n",
              "       'socialEngagementType', 'visitId', 'visitNumber', 'visitStartTime',\n",
              "       'device.browser', 'device.browserVersion', 'device.browserSize',\n",
              "       'device.operatingSystem', 'device.operatingSystemVersion',\n",
              "       'device.isMobile', 'device.mobileDeviceBranding',\n",
              "       'device.mobileDeviceModel', 'device.mobileInputSelector',\n",
              "       'device.mobileDeviceInfo', 'device.mobileDeviceMarketingName',\n",
              "       'device.flashVersion', 'device.language', 'device.screenColors',\n",
              "       'device.screenResolution', 'device.deviceCategory',\n",
              "       'geoNetwork.continent', 'geoNetwork.subContinent', 'geoNetwork.country',\n",
              "       'geoNetwork.region', 'geoNetwork.metro', 'geoNetwork.city',\n",
              "       'geoNetwork.cityId', 'geoNetwork.networkDomain', 'geoNetwork.latitude',\n",
              "       'geoNetwork.longitude', 'geoNetwork.networkLocation', 'totals.visits',\n",
              "       'totals.hits', 'totals.pageviews', 'totals.bounces', 'totals.newVisits',\n",
              "       'totals.transactionRevenue', 'trafficSource.campaign',\n",
              "       'trafficSource.source', 'trafficSource.medium', 'trafficSource.keyword',\n",
              "       'trafficSource.adwordsClickInfo.criteriaParameters',\n",
              "       'trafficSource.referralPath', 'trafficSource.isTrueDirect',\n",
              "       'trafficSource.adwordsClickInfo.page',\n",
              "       'trafficSource.adwordsClickInfo.slot',\n",
              "       'trafficSource.adwordsClickInfo.gclId',\n",
              "       'trafficSource.adwordsClickInfo.adNetworkType',\n",
              "       'trafficSource.adwordsClickInfo.isVideoAd', 'trafficSource.adContent'],\n",
              "      dtype='object')"
            ]
          },
          "metadata": {
            "tags": []
          },
          "execution_count": 11
        }
      ]
    },
    {
      "cell_type": "code",
      "metadata": {
        "colab": {
          "base_uri": "https://localhost:8080/"
        },
        "id": "L3MR23NppLbG",
        "outputId": "846c375f-9d1c-4c27-a7ef-6b535ab72ce7"
      },
      "source": [
        "df.info()"
      ],
      "execution_count": 12,
      "outputs": [
        {
          "output_type": "stream",
          "text": [
            "<class 'pandas.core.frame.DataFrame'>\n",
            "RangeIndex: 62861 entries, 0 to 62860\n",
            "Data columns (total 54 columns):\n",
            " #   Column                                             Non-Null Count  Dtype \n",
            "---  ------                                             --------------  ----- \n",
            " 0   channelGrouping                                    62861 non-null  object\n",
            " 1   date                                               62861 non-null  int64 \n",
            " 2   fullVisitorId                                      62861 non-null  object\n",
            " 3   sessionId                                          62861 non-null  object\n",
            " 4   socialEngagementType                               62861 non-null  object\n",
            " 5   visitId                                            62861 non-null  int64 \n",
            " 6   visitNumber                                        62861 non-null  int64 \n",
            " 7   visitStartTime                                     62861 non-null  int64 \n",
            " 8   device.browser                                     62861 non-null  object\n",
            " 9   device.browserVersion                              62861 non-null  object\n",
            " 10  device.browserSize                                 62861 non-null  object\n",
            " 11  device.operatingSystem                             62861 non-null  object\n",
            " 12  device.operatingSystemVersion                      62861 non-null  object\n",
            " 13  device.isMobile                                    62861 non-null  bool  \n",
            " 14  device.mobileDeviceBranding                        62861 non-null  object\n",
            " 15  device.mobileDeviceModel                           62861 non-null  object\n",
            " 16  device.mobileInputSelector                         62861 non-null  object\n",
            " 17  device.mobileDeviceInfo                            62861 non-null  object\n",
            " 18  device.mobileDeviceMarketingName                   62861 non-null  object\n",
            " 19  device.flashVersion                                62861 non-null  object\n",
            " 20  device.language                                    62861 non-null  object\n",
            " 21  device.screenColors                                62861 non-null  object\n",
            " 22  device.screenResolution                            62861 non-null  object\n",
            " 23  device.deviceCategory                              62861 non-null  object\n",
            " 24  geoNetwork.continent                               62861 non-null  object\n",
            " 25  geoNetwork.subContinent                            62861 non-null  object\n",
            " 26  geoNetwork.country                                 62861 non-null  object\n",
            " 27  geoNetwork.region                                  62861 non-null  object\n",
            " 28  geoNetwork.metro                                   62861 non-null  object\n",
            " 29  geoNetwork.city                                    62861 non-null  object\n",
            " 30  geoNetwork.cityId                                  62861 non-null  object\n",
            " 31  geoNetwork.networkDomain                           62861 non-null  object\n",
            " 32  geoNetwork.latitude                                62861 non-null  object\n",
            " 33  geoNetwork.longitude                               62861 non-null  object\n",
            " 34  geoNetwork.networkLocation                         62861 non-null  object\n",
            " 35  totals.visits                                      62861 non-null  object\n",
            " 36  totals.hits                                        62861 non-null  object\n",
            " 37  totals.pageviews                                   62858 non-null  object\n",
            " 38  totals.bounces                                     31388 non-null  object\n",
            " 39  totals.newVisits                                   48937 non-null  object\n",
            " 40  totals.transactionRevenue                          824 non-null    object\n",
            " 41  trafficSource.campaign                             62861 non-null  object\n",
            " 42  trafficSource.source                               62861 non-null  object\n",
            " 43  trafficSource.medium                               62861 non-null  object\n",
            " 44  trafficSource.keyword                              27919 non-null  object\n",
            " 45  trafficSource.adwordsClickInfo.criteriaParameters  62861 non-null  object\n",
            " 46  trafficSource.referralPath                         23115 non-null  object\n",
            " 47  trafficSource.isTrueDirect                         19022 non-null  object\n",
            " 48  trafficSource.adwordsClickInfo.page                1490 non-null   object\n",
            " 49  trafficSource.adwordsClickInfo.slot                1490 non-null   object\n",
            " 50  trafficSource.adwordsClickInfo.gclId               1501 non-null   object\n",
            " 51  trafficSource.adwordsClickInfo.adNetworkType       1490 non-null   object\n",
            " 52  trafficSource.adwordsClickInfo.isVideoAd           1490 non-null   object\n",
            " 53  trafficSource.adContent                            748 non-null    object\n",
            "dtypes: bool(1), int64(4), object(49)\n",
            "memory usage: 25.5+ MB\n"
          ],
          "name": "stdout"
        }
      ]
    },
    {
      "cell_type": "markdown",
      "metadata": {
        "id": "OOMDOw02yut4"
      },
      "source": [
        "#### Variable 분류"
      ]
    },
    {
      "cell_type": "code",
      "metadata": {
        "colab": {
          "base_uri": "https://localhost:8080/"
        },
        "id": "DpqsE2VyqUSH",
        "outputId": "38fb581b-a9f9-4a26-e4a7-60152b195350"
      },
      "source": [
        "df.columns"
      ],
      "execution_count": 28,
      "outputs": [
        {
          "output_type": "execute_result",
          "data": {
            "text/plain": [
              "Index(['channelGrouping', 'date', 'fullVisitorId', 'sessionId',\n",
              "       'socialEngagementType', 'visitId', 'visitNumber', 'visitStartTime',\n",
              "       'device.browser', 'device.browserVersion', 'device.browserSize',\n",
              "       'device.operatingSystem', 'device.operatingSystemVersion',\n",
              "       'device.isMobile', 'device.mobileDeviceBranding',\n",
              "       'device.mobileDeviceModel', 'device.mobileInputSelector',\n",
              "       'device.mobileDeviceInfo', 'device.mobileDeviceMarketingName',\n",
              "       'device.flashVersion', 'device.language', 'device.screenColors',\n",
              "       'device.screenResolution', 'device.deviceCategory',\n",
              "       'geoNetwork.continent', 'geoNetwork.subContinent', 'geoNetwork.country',\n",
              "       'geoNetwork.region', 'geoNetwork.metro', 'geoNetwork.city',\n",
              "       'geoNetwork.cityId', 'geoNetwork.networkDomain', 'geoNetwork.latitude',\n",
              "       'geoNetwork.longitude', 'geoNetwork.networkLocation', 'totals.visits',\n",
              "       'totals.hits', 'totals.pageviews', 'totals.bounces', 'totals.newVisits',\n",
              "       'totals.transactionRevenue', 'trafficSource.campaign',\n",
              "       'trafficSource.source', 'trafficSource.medium', 'trafficSource.keyword',\n",
              "       'trafficSource.adwordsClickInfo.criteriaParameters',\n",
              "       'trafficSource.referralPath', 'trafficSource.isTrueDirect',\n",
              "       'trafficSource.adwordsClickInfo.page',\n",
              "       'trafficSource.adwordsClickInfo.slot',\n",
              "       'trafficSource.adwordsClickInfo.gclId',\n",
              "       'trafficSource.adwordsClickInfo.adNetworkType',\n",
              "       'trafficSource.adwordsClickInfo.isVideoAd', 'trafficSource.adContent',\n",
              "       'weekday', 'month', 'year', 'visitHour'],\n",
              "      dtype='object')"
            ]
          },
          "metadata": {
            "tags": []
          },
          "execution_count": 28
        }
      ]
    },
    {
      "cell_type": "markdown",
      "metadata": {
        "id": "4MwXnlIWxpcN"
      },
      "source": [
        "**Key 값인 fullVisitorId 포함하여 컬럼분류**\r\n",
        "> 1. str.contains() == True\r\n",
        "> 2. Or 조건 : | 사용시 () 괄호로 묶어주기\r\n",
        "> 3. Columns (인덱스) 기준으로 분할시 list.append 쓰지 않기\r\n",
        "> 4. loc vs iloc [행,열]\r\n",
        ">> - loc 정확한 인덱스(컬럼명) 알 때 사용 \r\n",
        ">> - iloc 위치로 접근 "
      ]
    },
    {
      "cell_type": "code",
      "metadata": {
        "colab": {
          "base_uri": "https://localhost:8080/"
        },
        "id": "mp0cGluvrNp8",
        "outputId": "63846142-5483-4e45-c8e5-754715b3634b"
      },
      "source": [
        "device_col = df.columns[(df.columns.str.contains('device')==True) | (df.columns=='fullVisitorId')]\r\n",
        "device_col"
      ],
      "execution_count": 72,
      "outputs": [
        {
          "output_type": "execute_result",
          "data": {
            "text/plain": [
              "Index(['fullVisitorId', 'device.browser', 'device.browserVersion',\n",
              "       'device.browserSize', 'device.operatingSystem',\n",
              "       'device.operatingSystemVersion', 'device.isMobile',\n",
              "       'device.mobileDeviceBranding', 'device.mobileDeviceModel',\n",
              "       'device.mobileInputSelector', 'device.mobileDeviceInfo',\n",
              "       'device.mobileDeviceMarketingName', 'device.flashVersion',\n",
              "       'device.language', 'device.screenColors', 'device.screenResolution',\n",
              "       'device.deviceCategory'],\n",
              "      dtype='object')"
            ]
          },
          "metadata": {
            "tags": []
          },
          "execution_count": 72
        }
      ]
    },
    {
      "cell_type": "code",
      "metadata": {
        "colab": {
          "base_uri": "https://localhost:8080/"
        },
        "id": "oEfEiStvr2Yz",
        "outputId": "d8a2daa7-9ed0-4dd7-a85c-5ae57f091021"
      },
      "source": [
        "traffic_col = df.columns[(df.columns.str.contains('traffic')==True) | (df.columns=='fullVisitorId')]\r\n",
        "traffic_col"
      ],
      "execution_count": 70,
      "outputs": [
        {
          "output_type": "execute_result",
          "data": {
            "text/plain": [
              "Index(['fullVisitorId', 'trafficSource.campaign', 'trafficSource.source',\n",
              "       'trafficSource.medium', 'trafficSource.keyword',\n",
              "       'trafficSource.adwordsClickInfo.criteriaParameters',\n",
              "       'trafficSource.referralPath', 'trafficSource.isTrueDirect',\n",
              "       'trafficSource.adwordsClickInfo.page',\n",
              "       'trafficSource.adwordsClickInfo.slot',\n",
              "       'trafficSource.adwordsClickInfo.gclId',\n",
              "       'trafficSource.adwordsClickInfo.adNetworkType',\n",
              "       'trafficSource.adwordsClickInfo.isVideoAd', 'trafficSource.adContent'],\n",
              "      dtype='object')"
            ]
          },
          "metadata": {
            "tags": []
          },
          "execution_count": 70
        }
      ]
    },
    {
      "cell_type": "code",
      "metadata": {
        "colab": {
          "base_uri": "https://localhost:8080/"
        },
        "id": "969nHaXfsGMQ",
        "outputId": "fe7af5b3-4066-4a14-bd4f-8debe579d9de"
      },
      "source": [
        "geoNetwork_col = df.columns[(df.columns.str.contains('geoNetwork')==True) | (df.columns=='fullVisitorId')]\r\n",
        "geoNetwork_col"
      ],
      "execution_count": 73,
      "outputs": [
        {
          "output_type": "execute_result",
          "data": {
            "text/plain": [
              "Index(['fullVisitorId', 'geoNetwork.continent', 'geoNetwork.subContinent',\n",
              "       'geoNetwork.country', 'geoNetwork.region', 'geoNetwork.metro',\n",
              "       'geoNetwork.city', 'geoNetwork.cityId', 'geoNetwork.networkDomain',\n",
              "       'geoNetwork.latitude', 'geoNetwork.longitude',\n",
              "       'geoNetwork.networkLocation'],\n",
              "      dtype='object')"
            ]
          },
          "metadata": {
            "tags": []
          },
          "execution_count": 73
        }
      ]
    },
    {
      "cell_type": "code",
      "metadata": {
        "colab": {
          "base_uri": "https://localhost:8080/",
          "height": 0
        },
        "id": "q7KzKYgqsRXK",
        "outputId": "226baa14-eee6-4314-9e9b-4a3574347b04"
      },
      "source": [
        "df.loc[:,df.columns.isin(traffic_col)].head(1)    # 분류 잘 되었음"
      ],
      "execution_count": 76,
      "outputs": [
        {
          "output_type": "execute_result",
          "data": {
            "text/html": [
              "<div>\n",
              "<style scoped>\n",
              "    .dataframe tbody tr th:only-of-type {\n",
              "        vertical-align: middle;\n",
              "    }\n",
              "\n",
              "    .dataframe tbody tr th {\n",
              "        vertical-align: top;\n",
              "    }\n",
              "\n",
              "    .dataframe thead th {\n",
              "        text-align: right;\n",
              "    }\n",
              "</style>\n",
              "<table border=\"1\" class=\"dataframe\">\n",
              "  <thead>\n",
              "    <tr style=\"text-align: right;\">\n",
              "      <th></th>\n",
              "      <th>fullVisitorId</th>\n",
              "      <th>trafficSource.campaign</th>\n",
              "      <th>trafficSource.source</th>\n",
              "      <th>trafficSource.medium</th>\n",
              "      <th>trafficSource.keyword</th>\n",
              "      <th>trafficSource.adwordsClickInfo.criteriaParameters</th>\n",
              "      <th>trafficSource.referralPath</th>\n",
              "      <th>trafficSource.isTrueDirect</th>\n",
              "      <th>trafficSource.adwordsClickInfo.page</th>\n",
              "      <th>trafficSource.adwordsClickInfo.slot</th>\n",
              "      <th>trafficSource.adwordsClickInfo.gclId</th>\n",
              "      <th>trafficSource.adwordsClickInfo.adNetworkType</th>\n",
              "      <th>trafficSource.adwordsClickInfo.isVideoAd</th>\n",
              "      <th>trafficSource.adContent</th>\n",
              "    </tr>\n",
              "  </thead>\n",
              "  <tbody>\n",
              "    <tr>\n",
              "      <th>0</th>\n",
              "      <td>3531015320757710684</td>\n",
              "      <td>(not set)</td>\n",
              "      <td>google</td>\n",
              "      <td>organic</td>\n",
              "      <td>(not provided)</td>\n",
              "      <td>not available in demo dataset</td>\n",
              "      <td>NaN</td>\n",
              "      <td>NaN</td>\n",
              "      <td>NaN</td>\n",
              "      <td>NaN</td>\n",
              "      <td>NaN</td>\n",
              "      <td>NaN</td>\n",
              "      <td>NaN</td>\n",
              "      <td>NaN</td>\n",
              "    </tr>\n",
              "  </tbody>\n",
              "</table>\n",
              "</div>"
            ],
            "text/plain": [
              "         fullVisitorId  ... trafficSource.adContent\n",
              "0  3531015320757710684  ...                     NaN\n",
              "\n",
              "[1 rows x 14 columns]"
            ]
          },
          "metadata": {
            "tags": []
          },
          "execution_count": 76
        }
      ]
    },
    {
      "cell_type": "code",
      "metadata": {
        "colab": {
          "base_uri": "https://localhost:8080/"
        },
        "id": "55ec_ngFuVfI",
        "outputId": "e4703032-d846-41f7-ad3e-5245beccfae5"
      },
      "source": [
        "# Target Variable\r\n",
        "totals_col = df.columns[(df.columns.str.contains('totals')==True) | (df.columns=='fullVisitorId')]\r\n",
        "totals_col"
      ],
      "execution_count": 78,
      "outputs": [
        {
          "output_type": "execute_result",
          "data": {
            "text/plain": [
              "Index(['fullVisitorId', 'totals.visits', 'totals.hits', 'totals.pageviews',\n",
              "       'totals.bounces', 'totals.newVisits', 'totals.transactionRevenue'],\n",
              "      dtype='object')"
            ]
          },
          "metadata": {
            "tags": []
          },
          "execution_count": 78
        }
      ]
    },
    {
      "cell_type": "code",
      "metadata": {
        "colab": {
          "base_uri": "https://localhost:8080/"
        },
        "id": "g9A0UqzLsXwD",
        "outputId": "febf2568-dec0-4eb1-e590-0738e911f459"
      },
      "source": [
        "df.columns"
      ],
      "execution_count": 52,
      "outputs": [
        {
          "output_type": "execute_result",
          "data": {
            "text/plain": [
              "Index(['channelGrouping', 'date', 'fullVisitorId', 'sessionId',\n",
              "       'socialEngagementType', 'visitId', 'visitNumber', 'visitStartTime',\n",
              "       'device.browser', 'device.browserVersion', 'device.browserSize',\n",
              "       'device.operatingSystem', 'device.operatingSystemVersion',\n",
              "       'device.isMobile', 'device.mobileDeviceBranding',\n",
              "       'device.mobileDeviceModel', 'device.mobileInputSelector',\n",
              "       'device.mobileDeviceInfo', 'device.mobileDeviceMarketingName',\n",
              "       'device.flashVersion', 'device.language', 'device.screenColors',\n",
              "       'device.screenResolution', 'device.deviceCategory',\n",
              "       'geoNetwork.continent', 'geoNetwork.subContinent', 'geoNetwork.country',\n",
              "       'geoNetwork.region', 'geoNetwork.metro', 'geoNetwork.city',\n",
              "       'geoNetwork.cityId', 'geoNetwork.networkDomain', 'geoNetwork.latitude',\n",
              "       'geoNetwork.longitude', 'geoNetwork.networkLocation', 'totals.visits',\n",
              "       'totals.hits', 'totals.pageviews', 'totals.bounces', 'totals.newVisits',\n",
              "       'totals.transactionRevenue', 'trafficSource.campaign',\n",
              "       'trafficSource.source', 'trafficSource.medium', 'trafficSource.keyword',\n",
              "       'trafficSource.adwordsClickInfo.criteriaParameters',\n",
              "       'trafficSource.referralPath', 'trafficSource.isTrueDirect',\n",
              "       'trafficSource.adwordsClickInfo.page',\n",
              "       'trafficSource.adwordsClickInfo.slot',\n",
              "       'trafficSource.adwordsClickInfo.gclId',\n",
              "       'trafficSource.adwordsClickInfo.adNetworkType',\n",
              "       'trafficSource.adwordsClickInfo.isVideoAd', 'trafficSource.adContent',\n",
              "       'weekday', 'month', 'year', 'visitHour'],\n",
              "      dtype='object')"
            ]
          },
          "metadata": {
            "tags": []
          },
          "execution_count": 52
        }
      ]
    },
    {
      "cell_type": "markdown",
      "metadata": {
        "id": "zYC78rOMz5lz"
      },
      "source": [
        "#### Data Preprocessing"
      ]
    },
    {
      "cell_type": "markdown",
      "metadata": {
        "id": "9BU7rQsd0XLe"
      },
      "source": [
        "##### Datatype"
      ]
    },
    {
      "cell_type": "code",
      "metadata": {
        "colab": {
          "base_uri": "https://localhost:8080/"
        },
        "id": "0OQZ0z-ppOA1",
        "outputId": "81e4917c-0a72-4dc2-b740-341ba5f72b1e"
      },
      "source": [
        "# transform datatype and add variables\r\n",
        "from datetime import datetime\r\n",
        "df['visitStartTime'].apply(lambda x : str(datetime.fromtimestamp(x).hour)).astype(int)"
      ],
      "execution_count": 16,
      "outputs": [
        {
          "output_type": "execute_result",
          "data": {
            "text/plain": [
              "0         2\n",
              "1         7\n",
              "2         0\n",
              "3        18\n",
              "4        12\n",
              "         ..\n",
              "62856    10\n",
              "62857    14\n",
              "62858    16\n",
              "62859    14\n",
              "62860     2\n",
              "Name: visitStartTime, Length: 62861, dtype: int64"
            ]
          },
          "metadata": {
            "tags": []
          },
          "execution_count": 16
        }
      ]
    },
    {
      "cell_type": "code",
      "metadata": {
        "colab": {
          "base_uri": "https://localhost:8080/"
        },
        "id": "m3DoGvgSpf_e",
        "outputId": "93d212ff-32ee-46e3-dd94-3bebd5f2344f"
      },
      "source": [
        "df['visitStartTime'].head()"
      ],
      "execution_count": 17,
      "outputs": [
        {
          "output_type": "execute_result",
          "data": {
            "text/plain": [
              "0    1472868337\n",
              "1    1472801099\n",
              "2    1472863754\n",
              "3    1472839261\n",
              "4    1472820135\n",
              "Name: visitStartTime, dtype: int64"
            ]
          },
          "metadata": {
            "tags": []
          },
          "execution_count": 17
        }
      ]
    },
    {
      "cell_type": "code",
      "metadata": {
        "id": "3nuRytzMpoON"
      },
      "source": [
        "df['date']= pd.to_datetime(df['date'],format='%Y%m%d')\r\n",
        "df['weekday']=df['date'].dt.day\r\n",
        "df['month']=df['date'].dt.month\r\n",
        "df['year']=df['date'].dt.year\r\n",
        "df['visitHour'] = (df['visitStartTime'].apply(lambda x: str(datetime.fromtimestamp(x).hour)).astype(int))"
      ],
      "execution_count": 18,
      "outputs": []
    },
    {
      "cell_type": "code",
      "metadata": {
        "colab": {
          "base_uri": "https://localhost:8080/"
        },
        "id": "yV-VhnCgp-rU",
        "outputId": "2514792a-1a01-41c7-83e9-44944f43c415"
      },
      "source": [
        "date_col=['date','weekday','month','year','visitHour']\r\n",
        "date_col"
      ],
      "execution_count": 21,
      "outputs": [
        {
          "output_type": "execute_result",
          "data": {
            "text/plain": [
              "['date', 'weekday', 'month', 'year', 'visitHour']"
            ]
          },
          "metadata": {
            "tags": []
          },
          "execution_count": 21
        }
      ]
    },
    {
      "cell_type": "code",
      "metadata": {
        "colab": {
          "base_uri": "https://localhost:8080/",
          "height": 0
        },
        "id": "PuGzcUa4p7Ai",
        "outputId": "70155e13-8479-469c-9faa-c108bb7cb019"
      },
      "source": [
        "df[date_col].head(1)"
      ],
      "execution_count": 24,
      "outputs": [
        {
          "output_type": "execute_result",
          "data": {
            "text/html": [
              "<div>\n",
              "<style scoped>\n",
              "    .dataframe tbody tr th:only-of-type {\n",
              "        vertical-align: middle;\n",
              "    }\n",
              "\n",
              "    .dataframe tbody tr th {\n",
              "        vertical-align: top;\n",
              "    }\n",
              "\n",
              "    .dataframe thead th {\n",
              "        text-align: right;\n",
              "    }\n",
              "</style>\n",
              "<table border=\"1\" class=\"dataframe\">\n",
              "  <thead>\n",
              "    <tr style=\"text-align: right;\">\n",
              "      <th></th>\n",
              "      <th>date</th>\n",
              "      <th>weekday</th>\n",
              "      <th>month</th>\n",
              "      <th>year</th>\n",
              "      <th>visitHour</th>\n",
              "    </tr>\n",
              "  </thead>\n",
              "  <tbody>\n",
              "    <tr>\n",
              "      <th>0</th>\n",
              "      <td>2016-09-02</td>\n",
              "      <td>2</td>\n",
              "      <td>9</td>\n",
              "      <td>2016</td>\n",
              "      <td>2</td>\n",
              "    </tr>\n",
              "  </tbody>\n",
              "</table>\n",
              "</div>"
            ],
            "text/plain": [
              "        date  weekday  month  year  visitHour\n",
              "0 2016-09-02        2      9  2016          2"
            ]
          },
          "metadata": {
            "tags": []
          },
          "execution_count": 24
        }
      ]
    },
    {
      "cell_type": "code",
      "metadata": {
        "colab": {
          "base_uri": "https://localhost:8080/"
        },
        "id": "jNGYkD_cqOdc",
        "outputId": "097baf46-ecbd-48c9-fa2d-184dd3a33436"
      },
      "source": [
        "len(df.columns)       # 4개변수 추가됨"
      ],
      "execution_count": 27,
      "outputs": [
        {
          "output_type": "execute_result",
          "data": {
            "text/plain": [
              "58"
            ]
          },
          "metadata": {
            "tags": []
          },
          "execution_count": 27
        }
      ]
    },
    {
      "cell_type": "markdown",
      "metadata": {
        "id": "1bvflElC2IyI"
      },
      "source": [
        "##### Clean the data : NA\r\n",
        "> - \r\n",
        "  \r\n"
      ]
    },
    {
      "cell_type": "code",
      "metadata": {
        "colab": {
          "base_uri": "https://localhost:8080/"
        },
        "id": "nwEODXx-2RBi",
        "outputId": "28128002-020c-4b78-a3e7-d6dfee0f225f"
      },
      "source": [
        "(df[df['totals.transactionRevenue'] != np.NaN]['totals.transactionRevenue'].count()/df.shape[0] ) *100"
      ],
      "execution_count": 102,
      "outputs": [
        {
          "output_type": "execute_result",
          "data": {
            "text/plain": [
              "1.3108286536962503"
            ]
          },
          "metadata": {
            "tags": []
          },
          "execution_count": 102
        }
      ]
    },
    {
      "cell_type": "markdown",
      "metadata": {
        "id": "S0RSTzISGuoT"
      },
      "source": [
        "> Target variable has just 1.3% nonnull values"
      ]
    },
    {
      "cell_type": "code",
      "metadata": {
        "colab": {
          "base_uri": "https://localhost:8080/"
        },
        "id": "Hr5GfHJFBz-g",
        "outputId": "fe781005-e85d-4880-91f7-dc4190e38342"
      },
      "source": [
        "print(df.isnull().sum()[df.isnull().sum().values!=0])\r\n",
        "na_col=df.isnull().sum()[df.isnull().sum().values!=0].index\r\n",
        "na_col"
      ],
      "execution_count": 126,
      "outputs": [
        {
          "output_type": "stream",
          "text": [
            "totals.pageviews                                    3\n",
            "totals.bounces                                  31473\n",
            "totals.newVisits                                13924\n",
            "totals.transactionRevenue                       62037\n",
            "trafficSource.keyword                           34942\n",
            "trafficSource.referralPath                      39746\n",
            "trafficSource.isTrueDirect                      43839\n",
            "trafficSource.adwordsClickInfo.page             61371\n",
            "trafficSource.adwordsClickInfo.slot             61371\n",
            "trafficSource.adwordsClickInfo.gclId            61360\n",
            "trafficSource.adwordsClickInfo.adNetworkType    61371\n",
            "trafficSource.adwordsClickInfo.isVideoAd        61371\n",
            "trafficSource.adContent                         62113\n",
            "dtype: int64\n"
          ],
          "name": "stdout"
        },
        {
          "output_type": "execute_result",
          "data": {
            "text/plain": [
              "Index(['totals.pageviews', 'totals.bounces', 'totals.newVisits',\n",
              "       'totals.transactionRevenue', 'trafficSource.keyword',\n",
              "       'trafficSource.referralPath', 'trafficSource.isTrueDirect',\n",
              "       'trafficSource.adwordsClickInfo.page',\n",
              "       'trafficSource.adwordsClickInfo.slot',\n",
              "       'trafficSource.adwordsClickInfo.gclId',\n",
              "       'trafficSource.adwordsClickInfo.adNetworkType',\n",
              "       'trafficSource.adwordsClickInfo.isVideoAd', 'trafficSource.adContent'],\n",
              "      dtype='object')"
            ]
          },
          "metadata": {
            "tags": []
          },
          "execution_count": 126
        }
      ]
    },
    {
      "cell_type": "markdown",
      "metadata": {
        "id": "zMjwM0W5G7qC"
      },
      "source": [
        "> need to drop or fill Na Values for these variables"
      ]
    },
    {
      "cell_type": "code",
      "metadata": {
        "colab": {
          "base_uri": "https://localhost:8080/",
          "height": 456
        },
        "id": "unUSPk3UCRF7",
        "outputId": "79254864-7d28-4388-a38f-5d1f2bbf8d6b"
      },
      "source": [
        "df[na_col]"
      ],
      "execution_count": 127,
      "outputs": [
        {
          "output_type": "execute_result",
          "data": {
            "text/html": [
              "<div>\n",
              "<style scoped>\n",
              "    .dataframe tbody tr th:only-of-type {\n",
              "        vertical-align: middle;\n",
              "    }\n",
              "\n",
              "    .dataframe tbody tr th {\n",
              "        vertical-align: top;\n",
              "    }\n",
              "\n",
              "    .dataframe thead th {\n",
              "        text-align: right;\n",
              "    }\n",
              "</style>\n",
              "<table border=\"1\" class=\"dataframe\">\n",
              "  <thead>\n",
              "    <tr style=\"text-align: right;\">\n",
              "      <th></th>\n",
              "      <th>totals.pageviews</th>\n",
              "      <th>totals.bounces</th>\n",
              "      <th>totals.newVisits</th>\n",
              "      <th>totals.transactionRevenue</th>\n",
              "      <th>trafficSource.keyword</th>\n",
              "      <th>trafficSource.referralPath</th>\n",
              "      <th>trafficSource.isTrueDirect</th>\n",
              "      <th>trafficSource.adwordsClickInfo.page</th>\n",
              "      <th>trafficSource.adwordsClickInfo.slot</th>\n",
              "      <th>trafficSource.adwordsClickInfo.gclId</th>\n",
              "      <th>trafficSource.adwordsClickInfo.adNetworkType</th>\n",
              "      <th>trafficSource.adwordsClickInfo.isVideoAd</th>\n",
              "      <th>trafficSource.adContent</th>\n",
              "    </tr>\n",
              "  </thead>\n",
              "  <tbody>\n",
              "    <tr>\n",
              "      <th>0</th>\n",
              "      <td>1</td>\n",
              "      <td>1</td>\n",
              "      <td>1</td>\n",
              "      <td>NaN</td>\n",
              "      <td>(not provided)</td>\n",
              "      <td>NaN</td>\n",
              "      <td>NaN</td>\n",
              "      <td>NaN</td>\n",
              "      <td>NaN</td>\n",
              "      <td>NaN</td>\n",
              "      <td>NaN</td>\n",
              "      <td>NaN</td>\n",
              "      <td>NaN</td>\n",
              "    </tr>\n",
              "    <tr>\n",
              "      <th>1</th>\n",
              "      <td>1</td>\n",
              "      <td>1</td>\n",
              "      <td>1</td>\n",
              "      <td>NaN</td>\n",
              "      <td>(not provided)</td>\n",
              "      <td>NaN</td>\n",
              "      <td>NaN</td>\n",
              "      <td>NaN</td>\n",
              "      <td>NaN</td>\n",
              "      <td>NaN</td>\n",
              "      <td>NaN</td>\n",
              "      <td>NaN</td>\n",
              "      <td>NaN</td>\n",
              "    </tr>\n",
              "    <tr>\n",
              "      <th>2</th>\n",
              "      <td>1</td>\n",
              "      <td>1</td>\n",
              "      <td>1</td>\n",
              "      <td>NaN</td>\n",
              "      <td>NaN</td>\n",
              "      <td>NaN</td>\n",
              "      <td>NaN</td>\n",
              "      <td>NaN</td>\n",
              "      <td>NaN</td>\n",
              "      <td>NaN</td>\n",
              "      <td>NaN</td>\n",
              "      <td>NaN</td>\n",
              "      <td>NaN</td>\n",
              "    </tr>\n",
              "    <tr>\n",
              "      <th>3</th>\n",
              "      <td>1</td>\n",
              "      <td>1</td>\n",
              "      <td>1</td>\n",
              "      <td>NaN</td>\n",
              "      <td>(not provided)</td>\n",
              "      <td>NaN</td>\n",
              "      <td>NaN</td>\n",
              "      <td>NaN</td>\n",
              "      <td>NaN</td>\n",
              "      <td>NaN</td>\n",
              "      <td>NaN</td>\n",
              "      <td>NaN</td>\n",
              "      <td>NaN</td>\n",
              "    </tr>\n",
              "    <tr>\n",
              "      <th>4</th>\n",
              "      <td>1</td>\n",
              "      <td>1</td>\n",
              "      <td>1</td>\n",
              "      <td>NaN</td>\n",
              "      <td>(not provided)</td>\n",
              "      <td>NaN</td>\n",
              "      <td>NaN</td>\n",
              "      <td>NaN</td>\n",
              "      <td>NaN</td>\n",
              "      <td>NaN</td>\n",
              "      <td>NaN</td>\n",
              "      <td>NaN</td>\n",
              "      <td>NaN</td>\n",
              "    </tr>\n",
              "    <tr>\n",
              "      <th>...</th>\n",
              "      <td>...</td>\n",
              "      <td>...</td>\n",
              "      <td>...</td>\n",
              "      <td>...</td>\n",
              "      <td>...</td>\n",
              "      <td>...</td>\n",
              "      <td>...</td>\n",
              "      <td>...</td>\n",
              "      <td>...</td>\n",
              "      <td>...</td>\n",
              "      <td>...</td>\n",
              "      <td>...</td>\n",
              "      <td>...</td>\n",
              "    </tr>\n",
              "    <tr>\n",
              "      <th>62856</th>\n",
              "      <td>2</td>\n",
              "      <td>NaN</td>\n",
              "      <td>1</td>\n",
              "      <td>NaN</td>\n",
              "      <td>NaN</td>\n",
              "      <td>/yt/about/</td>\n",
              "      <td>NaN</td>\n",
              "      <td>NaN</td>\n",
              "      <td>NaN</td>\n",
              "      <td>NaN</td>\n",
              "      <td>NaN</td>\n",
              "      <td>NaN</td>\n",
              "      <td>NaN</td>\n",
              "    </tr>\n",
              "    <tr>\n",
              "      <th>62857</th>\n",
              "      <td>3</td>\n",
              "      <td>NaN</td>\n",
              "      <td>1</td>\n",
              "      <td>NaN</td>\n",
              "      <td>NaN</td>\n",
              "      <td>/yt/about/it/</td>\n",
              "      <td>NaN</td>\n",
              "      <td>NaN</td>\n",
              "      <td>NaN</td>\n",
              "      <td>NaN</td>\n",
              "      <td>NaN</td>\n",
              "      <td>NaN</td>\n",
              "      <td>NaN</td>\n",
              "    </tr>\n",
              "    <tr>\n",
              "      <th>62858</th>\n",
              "      <td>5</td>\n",
              "      <td>NaN</td>\n",
              "      <td>1</td>\n",
              "      <td>NaN</td>\n",
              "      <td>NaN</td>\n",
              "      <td>/yt/about/</td>\n",
              "      <td>NaN</td>\n",
              "      <td>NaN</td>\n",
              "      <td>NaN</td>\n",
              "      <td>NaN</td>\n",
              "      <td>NaN</td>\n",
              "      <td>NaN</td>\n",
              "      <td>NaN</td>\n",
              "    </tr>\n",
              "    <tr>\n",
              "      <th>62859</th>\n",
              "      <td>7</td>\n",
              "      <td>NaN</td>\n",
              "      <td>1</td>\n",
              "      <td>NaN</td>\n",
              "      <td>NaN</td>\n",
              "      <td>/Where-can-I-buy-a-stuffed-Go-language-gopher-...</td>\n",
              "      <td>NaN</td>\n",
              "      <td>NaN</td>\n",
              "      <td>NaN</td>\n",
              "      <td>NaN</td>\n",
              "      <td>NaN</td>\n",
              "      <td>NaN</td>\n",
              "      <td>NaN</td>\n",
              "    </tr>\n",
              "    <tr>\n",
              "      <th>62860</th>\n",
              "      <td>12</td>\n",
              "      <td>NaN</td>\n",
              "      <td>1</td>\n",
              "      <td>NaN</td>\n",
              "      <td>NaN</td>\n",
              "      <td>/yt/about/</td>\n",
              "      <td>NaN</td>\n",
              "      <td>NaN</td>\n",
              "      <td>NaN</td>\n",
              "      <td>NaN</td>\n",
              "      <td>NaN</td>\n",
              "      <td>NaN</td>\n",
              "      <td>NaN</td>\n",
              "    </tr>\n",
              "  </tbody>\n",
              "</table>\n",
              "<p>62861 rows × 13 columns</p>\n",
              "</div>"
            ],
            "text/plain": [
              "      totals.pageviews  ... trafficSource.adContent\n",
              "0                    1  ...                     NaN\n",
              "1                    1  ...                     NaN\n",
              "2                    1  ...                     NaN\n",
              "3                    1  ...                     NaN\n",
              "4                    1  ...                     NaN\n",
              "...                ...  ...                     ...\n",
              "62856                2  ...                     NaN\n",
              "62857                3  ...                     NaN\n",
              "62858                5  ...                     NaN\n",
              "62859                7  ...                     NaN\n",
              "62860               12  ...                     NaN\n",
              "\n",
              "[62861 rows x 13 columns]"
            ]
          },
          "metadata": {
            "tags": []
          },
          "execution_count": 127
        }
      ]
    },
    {
      "cell_type": "code",
      "metadata": {
        "colab": {
          "base_uri": "https://localhost:8080/",
          "height": 172
        },
        "id": "cuxj4UNSCQqR",
        "outputId": "302e426a-79b0-4c49-cc0e-6a0a68b8b634"
      },
      "source": [
        "df['totals.pageviews'].fillna(1, inplace=True).astype(int)"
      ],
      "execution_count": 132,
      "outputs": [
        {
          "output_type": "error",
          "ename": "AttributeError",
          "evalue": "ignored",
          "traceback": [
            "\u001b[0;31m---------------------------------------------------------------------------\u001b[0m",
            "\u001b[0;31mAttributeError\u001b[0m                            Traceback (most recent call last)",
            "\u001b[0;32m<ipython-input-132-13cde4b630fa>\u001b[0m in \u001b[0;36m<module>\u001b[0;34m()\u001b[0m\n\u001b[0;32m----> 1\u001b[0;31m \u001b[0mdf\u001b[0m\u001b[0;34m[\u001b[0m\u001b[0;34m'totals.pageviews'\u001b[0m\u001b[0;34m]\u001b[0m\u001b[0;34m.\u001b[0m\u001b[0mfillna\u001b[0m\u001b[0;34m(\u001b[0m\u001b[0;36m1\u001b[0m\u001b[0;34m,\u001b[0m \u001b[0minplace\u001b[0m\u001b[0;34m=\u001b[0m\u001b[0;32mTrue\u001b[0m\u001b[0;34m)\u001b[0m\u001b[0;34m.\u001b[0m\u001b[0mastype\u001b[0m\u001b[0;34m(\u001b[0m\u001b[0mint\u001b[0m\u001b[0;34m)\u001b[0m\u001b[0;34m\u001b[0m\u001b[0;34m\u001b[0m\u001b[0m\n\u001b[0m",
            "\u001b[0;31mAttributeError\u001b[0m: 'NoneType' object has no attribute 'astype'"
          ]
        }
      ]
    },
    {
      "cell_type": "code",
      "metadata": {
        "id": "IAnkxyAzCQUn"
      },
      "source": [
        "b"
      ],
      "execution_count": null,
      "outputs": []
    },
    {
      "cell_type": "markdown",
      "metadata": {
        "id": "uaNRiWTn0hpP"
      },
      "source": [
        "##### unnecessary columns\r\n",
        "> - constant columns\r\n",
        ">> 1. df.col[ ].unique()\r\n",
        ">> 2. df.col[ ].nunique()"
      ]
    },
    {
      "cell_type": "code",
      "metadata": {
        "colab": {
          "base_uri": "https://localhost:8080/"
        },
        "id": "2ZWRkVTNzzL7",
        "outputId": "4365550a-721c-471c-e37f-de52610dc07c"
      },
      "source": [
        "print(df.columns[0])\r\n",
        "print(df[df.columns[0]].unique())\r\n",
        "print(df[df.columns[0]].nunique())"
      ],
      "execution_count": 86,
      "outputs": [
        {
          "output_type": "stream",
          "text": [
            "channelGrouping\n",
            "['Organic Search' 'Referral' 'Affiliates' 'Paid Search' 'Direct' 'Social'\n",
            " 'Display' '(Other)']\n",
            "8\n"
          ],
          "name": "stdout"
        }
      ]
    },
    {
      "cell_type": "code",
      "metadata": {
        "colab": {
          "base_uri": "https://localhost:8080/"
        },
        "id": "6Oud1D-YzzUW",
        "outputId": "d784c95b-b1a3-469c-e2dd-04d167d1735b"
      },
      "source": [
        "# COLUMNS TO DROP\r\n",
        "const_col = [col for col in df.columns if df[col].nunique() == 1]\r\n",
        "const_col"
      ],
      "execution_count": 89,
      "outputs": [
        {
          "output_type": "execute_result",
          "data": {
            "text/plain": [
              "['socialEngagementType',\n",
              " 'device.browserVersion',\n",
              " 'device.browserSize',\n",
              " 'device.operatingSystemVersion',\n",
              " 'device.mobileDeviceBranding',\n",
              " 'device.mobileDeviceModel',\n",
              " 'device.mobileInputSelector',\n",
              " 'device.mobileDeviceInfo',\n",
              " 'device.mobileDeviceMarketingName',\n",
              " 'device.flashVersion',\n",
              " 'device.language',\n",
              " 'device.screenColors',\n",
              " 'device.screenResolution',\n",
              " 'geoNetwork.cityId',\n",
              " 'geoNetwork.latitude',\n",
              " 'geoNetwork.longitude',\n",
              " 'geoNetwork.networkLocation',\n",
              " 'totals.visits',\n",
              " 'totals.bounces',\n",
              " 'totals.newVisits',\n",
              " 'trafficSource.adwordsClickInfo.criteriaParameters',\n",
              " 'trafficSource.isTrueDirect',\n",
              " 'trafficSource.adwordsClickInfo.adNetworkType',\n",
              " 'trafficSource.adwordsClickInfo.isVideoAd']"
            ]
          },
          "metadata": {
            "tags": []
          },
          "execution_count": 89
        }
      ]
    },
    {
      "cell_type": "code",
      "metadata": {
        "colab": {
          "base_uri": "https://localhost:8080/"
        },
        "id": "enR4rp4wzzdq",
        "outputId": "fd4b12b7-11d6-4f3c-8f04-6a0d5dbb3e0d"
      },
      "source": [
        "df['totals.visits']"
      ],
      "execution_count": 90,
      "outputs": [
        {
          "output_type": "execute_result",
          "data": {
            "text/plain": [
              "0        1\n",
              "1        1\n",
              "2        1\n",
              "3        1\n",
              "4        1\n",
              "        ..\n",
              "62856    1\n",
              "62857    1\n",
              "62858    1\n",
              "62859    1\n",
              "62860    1\n",
              "Name: totals.visits, Length: 62861, dtype: object"
            ]
          },
          "metadata": {
            "tags": []
          },
          "execution_count": 90
        }
      ]
    },
    {
      "cell_type": "code",
      "metadata": {
        "id": "MzuRsts-zzmX"
      },
      "source": [
        ""
      ],
      "execution_count": null,
      "outputs": []
    },
    {
      "cell_type": "code",
      "metadata": {
        "id": "fMvu95Gizzo-"
      },
      "source": [
        ""
      ],
      "execution_count": null,
      "outputs": []
    },
    {
      "cell_type": "code",
      "metadata": {
        "id": "rKx8A-3EzzrY"
      },
      "source": [
        ""
      ],
      "execution_count": null,
      "outputs": []
    },
    {
      "cell_type": "code",
      "metadata": {
        "id": "1sup0DC5zzu_"
      },
      "source": [
        ""
      ],
      "execution_count": null,
      "outputs": []
    },
    {
      "cell_type": "markdown",
      "metadata": {
        "id": "yJiOlAnrAne0"
      },
      "source": [
        "###EDA\r\n"
      ]
    },
    {
      "cell_type": "code",
      "metadata": {
        "colab": {
          "base_uri": "https://localhost:8080/"
        },
        "id": "CwOAYTLaAsh6",
        "outputId": "70e2562f-5295-4caf-cfb8-07dab542064d"
      },
      "source": [
        "# target variable\r\n",
        "df['totals.transactionRevenue'].astype('float')"
      ],
      "execution_count": 91,
      "outputs": [
        {
          "output_type": "execute_result",
          "data": {
            "text/plain": [
              "0       NaN\n",
              "1       NaN\n",
              "2       NaN\n",
              "3       NaN\n",
              "4       NaN\n",
              "         ..\n",
              "62856   NaN\n",
              "62857   NaN\n",
              "62858   NaN\n",
              "62859   NaN\n",
              "62860   NaN\n",
              "Name: totals.transactionRevenue, Length: 62861, dtype: float64"
            ]
          },
          "metadata": {
            "tags": []
          },
          "execution_count": 91
        }
      ]
    },
    {
      "cell_type": "code",
      "metadata": {
        "id": "jZe6wCW_A43s"
      },
      "source": [
        ""
      ],
      "execution_count": null,
      "outputs": []
    }
  ]
}